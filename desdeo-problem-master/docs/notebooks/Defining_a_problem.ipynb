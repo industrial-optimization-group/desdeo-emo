{
 "cells": [
  {
   "cell_type": "markdown",
   "metadata": {},
   "source": [
    "# The `Problem` class\n",
    "\n",
    "An analytical problem is a problem where the mathematical formulation of the various objectives is known, as opposed to a data-driven problem, where one may need to train surrogate models to proceed with optimization.\n",
    "\n",
    "The `Problem` class is the way to define optimization problems in the DESDEO framework. Once defined, the same `Problem` class instance can be used to solve optimization problems using various EAs from the `desdeo-emo` package, or the more traditional methods from the `desdeo-mcdm` package.\n",
    "\n",
    "This notebook will help you understand how to instantiate a analytical problem object from scratch. The notebook will also go over other abstractions, namely classes for defining the decision variables, objectives, and the constraints, and will go over the functionalities provided by the abstractions."
   ]
  },
  {
   "cell_type": "markdown",
   "metadata": {},
   "source": [
    "## Multiobjective Optimization Problem\n",
    "\n",
    "Let's say that we have the following minimization problem:\n",
    "\n",
    "\\begin{equation}\n",
    "\\begin{aligned}\n",
    "& \\underset{\\mathbf x}{\\text{min}}\n",
    "& & y_1, y_2, y_3\\\\\n",
    "& & & y_1 = x_1 + x_2 + x_3 \\\\\n",
    "& & & y_2 = x_1 * x_2 * x_3  \\\\\n",
    "& & & y_3 = x_1 * x_2 + x_3 \\\\\n",
    "& \\text{s.t.} & &  -2 \\leq x_1 \\leq 5 \\\\\n",
    "& & &  -1 \\leq  x_2 \\leq 10 \\\\\n",
    "& & &  -0 \\leq x_3 \\leq 3 \\\\\n",
    "& & &  x_1 + x_2 + x_3 \\leq 10 \\\\\n",
    "& & &  \\mathbf{x} \\; \\in S, \\\\\n",
    "\\end{aligned}\n",
    "\\end{equation}\n"
   ]
  },
  {
   "cell_type": "markdown",
   "metadata": {},
   "source": [
    "## Variables\n",
    "\n",
    "Before instantiating the problem instance, we have to create object to define each of the variables, objectives, and constraints.\n",
    "\n",
    "The variable objects can be created with the `desdeo_problem.Variable.Variable` class.\n",
    "This object stores the information related to the variable (such as, lower bound, upper bound, and an initial value).\n",
    "This information is used by the methods whenever required (such as when setting box constraints on searching algorithms or recombination operators) and for displaying results to the decision maker.\n",
    "Use this class to create variable objects, one variable at a time.\n",
    "\n",
    "To define multiple `Variable` instances easily, use the `desdeo_problem.Variable.variable_builder` function.\n",
    "The function takes in all the necessary information for all the variables at once, and returns a List of `Variable` instances, one for each decision variable.\n",
    "\n",
    "Use the `help()` function to know more about any function/class in the desdeo framework."
   ]
  },
  {
   "cell_type": "code",
   "execution_count": 1,
   "metadata": {
    "tags": []
   },
   "outputs": [
    {
     "name": "stdout",
     "output_type": "stream",
     "text": [
      "Help on function variable_builder in module desdeo_problem.problem.Variable:\n",
      "\n",
      "variable_builder(names: List[str], initial_values: Union[List[float], numpy.ndarray], lower_bounds: Union[List[float], numpy.ndarray] = None, upper_bounds: Union[List[float], numpy.ndarray] = None) -> List[desdeo_problem.problem.Variable.Variable]\n",
      "    Automatically build all variable objects.\n",
      "    \n",
      "    Args:\n",
      "        names (List[str]): Names of the variables\n",
      "        initial_values (np.ndarray): Initial values taken by the variables.\n",
      "        lower_bounds (Union[List[float], np.ndarray], optional): Lower bounds of the\n",
      "            variables. If None, it defaults to negative infinity. Defaults to None.\n",
      "        upper_bounds (Union[List[float], np.ndarray], optional): Upper bounds of the\n",
      "            variables. If None, it defaults to positive infinity. Defaults to None.\n",
      "    \n",
      "    Raises:\n",
      "        VariableError: Lengths of the input arrays are different.\n",
      "    \n",
      "    Returns:\n",
      "        List[Variable]: List of variable objects\n",
      "\n"
     ]
    }
   ],
   "source": [
    "from desdeo_problem import variable_builder\n",
    "\n",
    "help(variable_builder)"
   ]
  },
  {
   "cell_type": "markdown",
   "metadata": {},
   "source": [
    "Let's build the `Variable` objects"
   ]
  },
  {
   "cell_type": "code",
   "execution_count": 2,
   "metadata": {},
   "outputs": [],
   "source": [
    "var_names = [\"a\", \"b\", \"c\"]  #  Make sure that the variable names are meaningful to you.\n",
    "\n",
    "initial_values = [1, 1, 1]\n",
    "lower_bounds = [-2, -1, 0]\n",
    "upper_bounds = [5, 10, 3]\n",
    "\n",
    "variables = variable_builder(var_names, initial_values, lower_bounds, upper_bounds)"
   ]
  },
  {
   "cell_type": "code",
   "execution_count": 3,
   "metadata": {
    "tags": []
   },
   "outputs": [
    {
     "name": "stdout",
     "output_type": "stream",
     "text": [
      "Type of \"variables\":  <class 'list'>\n",
      "Length of \"variables\":  3\n",
      "Type of the contents of \"variables\":  <class 'desdeo_problem.problem.Variable.Variable'>\n"
     ]
    }
   ],
   "source": [
    "print(\"Type of \\\"variables\\\": \", type(variables))\n",
    "print(\"Length of \\\"variables\\\": \", len(variables))\n",
    "print(\"Type of the contents of \\\"variables\\\": \", type(variables[0]))"
   ]
  },
  {
   "cell_type": "markdown",
   "metadata": {},
   "source": [
    "## Objectives\n",
    "\n",
    "Objectives are defined using tha various objective classes found within the module `desdeo_problem.Objective`. To define an objective class instance, one needs to pass the following:\n",
    "\n",
    "1. Objective name/s (Required): Name of the objective (or list of names, for multiple objective). This information will be used when displaying results to the user. Hence, these names must be understandable to the user.\n",
    "\n",
    "2. Evaluator (Required for analytical/simulation based objectives): An evaluator is a python `Callable` which takes in the decision variables as it's input and returns the corresponding objective values. This python function can be used to connect to simulators outside the DESDEO framework.\n",
    "\n",
    "3. Lower bound (Not required): A lower bound for the objective. This information can be used to generate approximate ideal/nadir point during optimization.\n",
    "\n",
    "4. Upper bound (Not required): An upper bound for the objective. This information can be used to generate approximate ideal/nadir point during optimization.\n",
    "\n",
    "5. maximize (Not required): This is a boolean value that determines whether an objective is to be maximized or minimized. This is `False` by default (i.e. the objective is minimized).\n",
    "\n",
    "The DESDEO framework has the following classification for objectives, based on the kind of evaluater to be used:\n",
    "\n",
    "1. \"Scalar\" objectives: If an evaluator/simulator evaluates only one objective, the objective is defined as a Scalar objective. Use the `desdeo_problem.Objective._ScalarObjective` class to handle such cases.\n",
    "\n",
    "2. \"Vector\" objectives: If an evaluator evaluates and returns more than one objective at once, the set of objectives is defined as Vector objective. Use the `desdeo_problem.Objective.VectorObjective` class to handle such cases.\n",
    "\n",
    "**Note**:`_ScalarObjective` will be depreciated in the future, and all of it's functionality will be handled by the `VectorObjective` class, which will be renamed to, simply, `Objective`.\n",
    "\n",
    "To define a problem instance, the objectives may be defined as all Scalar objectives, all Vector objectives, or a mix of both, depending upon the case.\n",
    "\n",
    "Let's see how to define and use both kinds of Objective classes:"
   ]
  },
  {
   "cell_type": "code",
   "execution_count": 4,
   "metadata": {},
   "outputs": [],
   "source": [
    "from desdeo_problem import ScalarObjective, VectorObjective\n",
    "\n",
    "import numpy as np"
   ]
  },
  {
   "cell_type": "markdown",
   "metadata": {},
   "source": [
    "Define the evaluators for the objectives. These evaluators should be python functions that take in the decision variable values and give out the objective value/s. The arguments of these evaluators are **2-D Numpy arrays**."
   ]
  },
  {
   "cell_type": "code",
   "execution_count": 5,
   "metadata": {},
   "outputs": [],
   "source": [
    "def obj1_2(x):  #  This is a \"simulator\" that returns more than one objective at a time. Hence, use VectorObjective\n",
    "    y1 = x[:, 0] + x[:, 1] + x[:, 2]\n",
    "    y2 = x[:, 0] * x[:, 1] * x[:, 2]\n",
    "    return (y1, y2)\n",
    "\n",
    "\n",
    "def obj3(x):  #  This is a \"simulator\" that returns only one objective at a time. Hence, use ScalarObjective\n",
    "    y3 = x[:, 0] * x[:, 1] + x[:, 2]\n",
    "    return y3"
   ]
  },
  {
   "cell_type": "markdown",
   "metadata": {},
   "source": [
    "Define the objectives. For this, you need the names of the objectives, and the evaluators defined above. If an evaluator returns multiple objective values, use the `VectorObjective` class to define those objectives. If an evaluator returns objective values for only one objective, either `VectorObjective` or `ScalarObjective` can be used.\n",
    "\n",
    "If using `VectorObjective`, names should be provided in a list.\n",
    "\n",
    "Additionaly, bounds of the objective values can also be provided."
   ]
  },
  {
   "cell_type": "code",
   "execution_count": 6,
   "metadata": {},
   "outputs": [],
   "source": [
    "f1_2 = VectorObjective([\"y1\", \"y2\"], obj1_2)\n",
    "f3 = ScalarObjective(\"y3\", obj3, maximize=True)  # Note: f3 = VectorObjective([\"y3\"], obj3) will also work."
   ]
  },
  {
   "cell_type": "markdown",
   "metadata": {},
   "source": [
    "## Constraints\n",
    "\n",
    "Constraint may depend on the decision variable values, as well as the objective function.\n",
    "\n",
    "The constraint should be defined so, that when evaluated, it should return a positive value, if the constraint is adhered to, and a negative, if the constraint is breached."
   ]
  },
  {
   "cell_type": "code",
   "execution_count": 7,
   "metadata": {},
   "outputs": [],
   "source": [
    "from desdeo_problem import ScalarConstraint\n",
    "\n",
    "const_func = lambda x, y: 10 - (x[:, 0] + x[:, 1] + x[:, 2])\n",
    "\n",
    "# Args: name, number of variables, number of objectives, callable\n",
    "\n",
    "cons1 = ScalarConstraint(\"c_1\", 3, 3, const_func)"
   ]
  },
  {
   "cell_type": "markdown",
   "metadata": {},
   "source": [
    "## Creating the Problem object\n",
    "\n",
    "Now that we have all the building blocks, we can create the problem object, using the `desdeo_problem.Problem.MOProblem` class.\n",
    "\n",
    "Provide objectives, variables and constraints in lists."
   ]
  },
  {
   "cell_type": "code",
   "execution_count": 8,
   "metadata": {},
   "outputs": [],
   "source": [
    "from desdeo_problem import MOProblem\n",
    "\n",
    "prob = MOProblem(objectives=[f1_2, f3], variables=variables, constraints=[cons1])"
   ]
  },
  {
   "cell_type": "markdown",
   "metadata": {},
   "source": [
    "The problem class provides abstractions such as the `evaluate` method. The method evaluates all the objective and constraint values for a given set of decision variables (in a numpy array), using the evaluators.\n",
    "\n",
    "The abstraction also provides methods such as `train` and `surrogate_evaluate` for data driven problem. These will be tackled in the next notebook.\n",
    "\n",
    "The output is a NamedTuple object. It contains the following elements:\n",
    "\n",
    "1. `objectives`: Contains the objective values\n",
    "\n",
    "2. `fitness`: Contains the fitness values. Fitness is either equal to the objective value, or equal to (-1 * objective value), depending upon whether the objective is to be minimized or maximized respectively. The optimization methods in the DESDEO framework internally use this value, rather than the values contained in output.objectives\n",
    "\n",
    "3. `constraints`: Contains constraint violation values.\n",
    "4. `uncertainity`: Contains the quantification of \"uncertainity\" of the evaluation\n",
    "\n",
    "All of these values can be accessed in different ways, as shown below.\n",
    "\n",
    "**Note**: Input as list of lists is not supported"
   ]
  },
  {
   "cell_type": "code",
   "execution_count": 9,
   "metadata": {},
   "outputs": [],
   "source": [
    "data = np.asarray([[1, -1, 0], [5, 5, 2]])\n",
    "res= prob.evaluate(data)"
   ]
  },
  {
   "cell_type": "code",
   "execution_count": 10,
   "metadata": {
    "tags": []
   },
   "outputs": [
    {
     "name": "stdout",
     "output_type": "stream",
     "text": [
      "Evaluation Results Object \n",
      "Objective values are: \n",
      "[[ 0. 12. -1.]\n",
      " [ 0. 50. 27.]]\n",
      "Constraint violation values are: \n",
      "[[10.]\n",
      " [-2.]]\n",
      "Fitness values are: \n",
      "[[  0.  12.   1.]\n",
      " [  0.  50. -27.]]\n",
      "Uncertainity values are: \n",
      "[[nan nan nan]\n",
      " [nan nan nan]]\n",
      "\n"
     ]
    }
   ],
   "source": [
    "print(res)\n",
    "# Note the sign reversal in the third objective and third fitness values because of maximization."
   ]
  },
  {
   "cell_type": "code",
   "execution_count": 11,
   "metadata": {
    "tags": []
   },
   "outputs": [
    {
     "name": "stdout",
     "output_type": "stream",
     "text": [
      "The objective values for the given set of decision variables are: \n",
      " [[ 0. 12. -1.]\n",
      " [ 0. 50. 27.]]\n",
      "The constraint violation for the given set of decision variables are:\n",
      " [[10.]\n",
      " [-2.]]\n"
     ]
    }
   ],
   "source": [
    "print(\"The objective values for the given set of decision variables are: \\n\", res.objectives)\n",
    "print(\"The constraint violation for the given set of decision variables are:\\n\", res.constraints)"
   ]
  },
  {
   "cell_type": "code",
   "execution_count": 12,
   "metadata": {},
   "outputs": [
    {
     "data": {
      "text/plain": [
       "EvaluationResults(objectives=array([[ 0., 12., -1.],\n",
       "       [ 0., 50., 27.]]), fitness=array([[  0.,  12.,   1.],\n",
       "       [  0.,  50., -27.]]), constraints=array([[10.],\n",
       "       [-2.]]), uncertainity=array([[nan, nan, nan],\n",
       "       [nan, nan, nan]]))"
      ]
     },
     "execution_count": 12,
     "metadata": {},
     "output_type": "execute_result"
    }
   ],
   "source": [
    "res"
   ]
  },
  {
   "cell_type": "code",
   "execution_count": null,
   "metadata": {},
   "outputs": [],
   "source": []
  }
 ],
 "metadata": {
  "kernelspec": {
   "display_name": "desdeo-problem",
   "language": "python",
   "name": "desdeo-problem"
  },
  "language_info": {
   "codemirror_mode": {
    "name": "ipython",
    "version": 3
   },
   "file_extension": ".py",
   "mimetype": "text/x-python",
   "name": "python",
   "nbconvert_exporter": "python",
   "pygments_lexer": "ipython3",
   "version": "3.7.7"
  }
 },
 "nbformat": 4,
 "nbformat_minor": 4
}
