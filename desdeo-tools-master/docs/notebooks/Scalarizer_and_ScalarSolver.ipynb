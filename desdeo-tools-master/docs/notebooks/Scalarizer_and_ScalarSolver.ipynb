{
 "nbformat": 4,
 "nbformat_minor": 2,
 "metadata": {
  "language_info": {
   "name": "python",
   "codemirror_mode": {
    "name": "ipython",
    "version": 3
   },
   "version": "3.8.1-final"
  },
  "orig_nbformat": 2,
  "file_extension": ".py",
  "mimetype": "text/x-python",
  "name": "python",
  "npconvert_exporter": "python",
  "pygments_lexer": "ipython3",
  "version": 3,
  "kernelspec": {
   "name": "python38164bitdesdeotoolslzzxc9ycpy38venv1262a71827564209a555592117b33aed",
   "display_name": "Python 3.8.1 64-bit ('desdeo-tools-Lzzxc9yc-py3.8': venv)"
  }
 },
 "cells": [
  {
   "cell_type": "markdown",
   "metadata": {},
   "source": [
    "# Example on the usage of Scalarizer and ScalarSolver\n",
    "\n",
    "This notebook will go through a simple example on how to scalarize a vector valued funciton and solve it using a minimizer.\n",
    "\n",
    "Suppose we are tasked with baking a birthday cake for our friend. We will be modelling the cake as a cylinder with a height $h$ and radius $r$, both in centimeters.\n",
    "Therefore, the cake will have a volume of\n",
    "\n",
    "$$V(r, h) = \\pi r^2 \\times h$$\n",
    "\n",
    "and a surface area queal to\n",
    "\n",
    "$$A(r, h) = 2\\pi r^2 + \\pi r h.$$\n",
    "\n",
    "Just to keep the cake realistical, let us limit the radius to be greater than 2.5cm and less than 15cm, that is $2.5 < r < 15$. The\n",
    "height should not exceed 50cm and be no less than 10cm: $10 < h < 50$.\n",
    "\n",
    "We are baking the cake for a very particular friend who just fancies cake crust, and he does not really care for the filling. This implies that we would\n",
    "like to bake a cake which has a surface are $A$ as large as possible while having a volume $V$ as small as possible. In other words, we wish\n",
    "to maximize the surface area of the cake and minimize the volume.\n",
    "\n",
    "Unfortunately our friend is also very picky about ratios and he has requested that the ratio of the radius and height of the cake should\n",
    "not exceed the golden ratio 1.618.\n",
    "\n",
    "This can be formualted as a multi-objective optimization problem with two objectives and two constraints. Formally\n",
    "\n",
    "$$\n",
    "\\min_{r, h} \\left\\{\n",
    "    V(r, h), -A(r, h)\n",
    "    \\right\\} \\\\\n",
    "    s.t.\\quad \\frac{r}{h} < 1.618, \\\\\n",
    "    \\quad\\qquad 2.5 < r < 15, \\\\\n",
    "    \\quad\\qquad 10 < h < 50.\n",
    "$$\n",
    "\n",
    "We will begin by expressing all of this in Python:"
   ]
  },
  {
   "cell_type": "code",
   "execution_count": 1,
   "metadata": {},
   "outputs": [],
   "source": [
    "import numpy as np\n",
    "\n",
    "# objectives\n",
    "\n",
    "def volume(r, h):\n",
    "    return np.pi*r**2*h\n",
    "\n",
    "def area(r, h):\n",
    "    return 2*np.pi**2 + np.pi*r*h\n",
    "\n",
    "def objective(xs):\n",
    "    # xs is a 2d array like, which has different values for r and h on its first and second columns respectively.\n",
    "    xs = np.atleast_2d(xs)\n",
    "    return np.stack((volume(xs[:, 0], xs[:, 1]), -area(xs[:, 0], xs[:, 1]))).T\n",
    "\n",
    "# bounds\n",
    "\n",
    "r_bounds = np.array([2.5, 15])\n",
    "h_bounds = np.array([10, 50])\n",
    "bounds = np.stack((r_bounds, h_bounds))\n",
    "\n",
    "# constraints\n",
    "\n",
    "def con_golden(xs):\n",
    "    # constraints are defined in DESDEO in a way were a positive value indicates an agreement with a constraint, and\n",
    "    # a negative one a disagreement.\n",
    "    xs = np.atleast_2d(xs)\n",
    "    return -(xs[:, 0] / xs[:, 1] - 1.618)"
   ]
  },
  {
   "cell_type": "markdown",
   "metadata": {},
   "source": [
    "To solve this problem, we will need to scalarize it. However, before we will be able to scalarize `objective` we will need some scalarization function:"
   ]
  },
  {
   "cell_type": "code",
   "execution_count": 2,
   "metadata": {},
   "outputs": [],
   "source": [
    "def simple_sum(xs):\n",
    "    xs = np.atleast_2d(xs)\n",
    "    return np.sum(xs, axis=1)"
   ]
  },
  {
   "cell_type": "markdown",
   "metadata": {},
   "source": [
    "Now we are in a position where we can scalarize `objective` using `simple_sum`:"
   ]
  },
  {
   "cell_type": "code",
   "execution_count": 3,
   "metadata": {},
   "outputs": [],
   "source": [
    "from desdeo_tools.scalarization.Scalarizer import Scalarizer\n",
    "\n",
    "scalarized_objective = Scalarizer(objective, simple_sum)"
   ]
  },
  {
   "cell_type": "markdown",
   "metadata": {},
   "source": [
    "In DESDEO, optimization will always mean minimization, at least internally. This is why we will be using a `ScalarMinimizer` to optimize\n",
    "`scalaralized_objective`."
   ]
  },
  {
   "cell_type": "code",
   "execution_count": 4,
   "metadata": {},
   "outputs": [
    {
     "name": "stdout",
     "output_type": "stream",
     "text": "\"Optimal\" cake specs: radius: 2.50000100052373cm, height: 10.000001000042642cm.\n\"Optimal\" cake dimensions: volume: 196.34971764710062, area: 98.27906442862323.\n"
    }
   ],
   "source": [
    "from desdeo_tools.solver.ScalarSolver import ScalarMinimizer\n",
    "from scipy.optimize import NonlinearConstraint\n",
    "\n",
    "# by setting the method to be none, we will actually be using the minimizer implemented\n",
    "# in the SciPy library.\n",
    "\n",
    "minimizer = ScalarMinimizer(scalarized_objective, bounds, constraint_evaluator=con_golden, method=None)\n",
    "\n",
    "# we need to supply an initial guess\n",
    "x0 = np.array([2.6, 11])\n",
    "sum_res = minimizer.minimize(x0)\n",
    "\n",
    "# the optimal solution and function value\n",
    "x_optimal, f_optimal = sum_res[\"x\"], sum_res[\"fun\"]\n",
    "objective_optimal = objective(sum_res[\"x\"]).squeeze()\n",
    "\n",
    "print(f\"\\\"Optimal\\\" cake specs: radius: {x_optimal[0]}cm, height: {x_optimal[1]}cm.\")\n",
    "print(f\"\\\"Optimal\\\" cake dimensions: volume: {objective_optimal[0]}, area: {-objective_optimal[1]}.\")"
   ]
  },
  {
   "cell_type": "markdown",
   "metadata": {},
   "source": [
    "Are we happy with this solution? No... Clearly the area of the cake could be bigger. Let us next solve for a representation of the Pareto optimal front for the defined problem. We can do this by using an achievement scalarizing function and solving the scalarized problem with a bunch of evenly generated reference points. We start by calculating the ideal and nadir points, then create a simple achievement scalarizing function, and finally generate an evenly spread set of reference points and solve the original problem by scalarizing it with the achievement scalarizing function using the generated reference points and minimizing it invidually with each reference point."
   ]
  },
  {
   "cell_type": "code",
   "execution_count": 5,
   "metadata": {},
   "outputs": [
    {
     "data": {
      "text/plain": "<matplotlib.legend.Legend at 0x7f25d59e7a60>"
     },
     "execution_count": 5,
     "metadata": {},
     "output_type": "execute_result"
    }
   ],
   "source": [
    "# define a new scalarizing function so that each of the objectives can be optimized independently\n",
    "def weighted_sum(xs, ws):\n",
    "    # ws stand for weights\n",
    "    return np.sum(ws * xs, axis=1)\n",
    "\n",
    "\n",
    "# minimize the first objective\n",
    "weighted_scalarized_objective = Scalarizer(objective, weighted_sum, scalarizer_args={\"ws\": np.array([1, 0])})\n",
    "minimizer._scalarizer = weighted_scalarized_objective\n",
    "res = minimizer.minimize(x0)\n",
    "first_obj_vals = objective(res[\"x\"])\n",
    "\n",
    "# minimize the second objective\n",
    "weighted_scalarized_objective._scalarizer_args = {\"ws\": np.array([0, 1])}\n",
    "res = minimizer.minimize(x0)\n",
    "second_obj_vals = objective(res[\"x\"])\n",
    "\n",
    "# payoff table\n",
    "po_table = np.stack((first_obj_vals, second_obj_vals)).squeeze()\n",
    "\n",
    "ideal = np.diagonal(po_table)\n",
    "nadir = np.max(po_table, axis=0)\n",
    "\n",
    "\n",
    "from desdeo_tools.scalarization.ASF import PointMethodASF\n",
    "\n",
    "# evenly spread reference points\n",
    "zs = np.mgrid[ideal[0]:nadir[0]:1500, ideal[1]:nadir[1]:150].reshape(2, -1).T\n",
    "\n",
    "\n",
    "asf = PointMethodASF(nadir, ideal)\n",
    "asf_scalarizer = Scalarizer(objective, asf, scalarizer_args={\"reference_point\": None})\n",
    "minimizer._scalarizer = asf_scalarizer\n",
    "\n",
    "fs = np.zeros(zs.shape)\n",
    "\n",
    "for i, z in enumerate(zs):\n",
    "    asf_scalarizer._scalarizer_args={\"reference_point\": z}\n",
    "    res = minimizer.minimize(x0)\n",
    "    # assuming minimization is always a success\n",
    "    fs[i] = objective(res[\"x\"])\n",
    "\n",
    "\n",
    "# plot the Pareto solutions in the original scale\n",
    "import matplotlib.pyplot as plt\n",
    "\n",
    "plt.title(\"Cake options\")\n",
    "plt.scatter(fs[:, 0], -fs[:, 1], label=\"Cake options\")\n",
    "plt.scatter(nadir[0], -nadir[1], label=\"nadir\")\n",
    "plt.scatter(ideal[0], -ideal[1], label=\"ideal\")\n",
    "plt.xlabel(\"Volume\")\n",
    "plt.ylabel(\"Surface area\")\n",
    "plt.legend()\n"
   ]
  },
  {
   "cell_type": "markdown",
   "metadata": {},
   "source": [
    "Observing the Pareto optimal front, it is clear that our previous optimal objective values `objective_optimal` are just one available option. We show our friend the available options and he\n",
    "decides that he wants a cake with a volume of `25000` and a surface area of `2000`. Great, now we just have to figure out the radius and height of such a cake. This should be easy:"
   ]
  },
  {
   "cell_type": "code",
   "execution_count": 6,
   "metadata": {},
   "outputs": [
    {
     "name": "stdout",
     "output_type": "stream",
     "text": "Final cake specs: radius: 12.612270698952173cm, height: 49.999999cm.\nFinal cake dimensions: volume: 24986.558053433215, area: 2000.8700178252593.\n0.2522454190239518\n"
    }
   ],
   "source": [
    "# final reference point chosen by our friend\n",
    "z = np.array([25000, -2000])\n",
    "asf_scalarizer._scalarizer_args={\"reference_point\": z}\n",
    "res = minimizer.minimize(x0)\n",
    "\n",
    "final_r, final_h = res[\"x\"][0], res[\"x\"][1]\n",
    "final_obj = objective(res[\"x\"]).squeeze()\n",
    "final_V, final_A = final_obj[0], final_obj[1]\n",
    "\n",
    "print(f\"Final cake specs: radius: {final_r}cm, height: {final_h}cm.\")\n",
    "print(f\"Final cake dimensions: volume: {final_V}, area: {-final_A}.\")\n",
    "print(final_r/final_h)"
   ]
  },
  {
   "cell_type": "markdown",
   "metadata": {},
   "source": [
    "That is a big cake!"
   ]
  },
  {
   "cell_type": "code",
   "execution_count": null,
   "metadata": {},
   "outputs": [],
   "source": []
  }
 ]
}