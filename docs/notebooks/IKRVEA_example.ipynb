{
 "cells": [
  {
   "cell_type": "markdown",
   "source": [],
   "metadata": {}
  },
  {
   "cell_type": "code",
   "execution_count": 1,
   "source": [
    "from desdeo_emo.EAs.IKRVEA import IK_RVEA\n",
    "from desdeo_problem.surrogatemodels.SurrogateModels import GaussianProcessRegressor\n",
    "from desdeo_problem import ExperimentalProblem\n",
    "import sys \n",
    "sys.path.append(\"NumPy_path\") \n",
    "import numpy as np\n",
    "import pandas as pd\n",
    "\n",
    "from sklearn.gaussian_process.kernels import Matern\n",
    "from pymoo.factory import get_problem, get_reference_directions\n",
    "import copy\n",
    "from desdeo_tools.scalarization.ASF import SimpleASF"
   ],
   "outputs": [],
   "metadata": {}
  },
  {
   "cell_type": "markdown",
   "source": [
    "# we define the problem to be solved\n",
    "\n",
    "In this example we have used the pymoo package to define dtlz2 problem with 3 objectives. Please not for now we cannot use the test_problem_maker class from DESDEO to use dtlz problems for online surrogate assisted methods and we need to define them manually."
   ],
   "metadata": {}
  },
  {
   "cell_type": "code",
   "execution_count": 2,
   "source": [
    "def obj_function1(x):\n",
    "\n",
    "    out = {\n",
    "    \"F\": \"\",\n",
    "    \"G\": \"\",\n",
    "    }\n",
    "    problem = get_problem(\"dtlz2\", 12)\n",
    "    problem._evaluate(x, out)\n",
    "    return out['F'][:,0]\n",
    "def obj_function2(x):\n",
    "\n",
    "    out = {\n",
    "    \"F\": \"\",\n",
    "    \"G\": \"\",\n",
    "    }\n",
    "    problem = get_problem(\"dtlz2\", 12)\n",
    "    problem._evaluate(x, out)\n",
    "    return out['F'][:,1]\n",
    "def obj_function3(x):\n",
    "\n",
    "    out = {\n",
    "    \"F\": \"\",\n",
    "    \"G\": \"\",\n",
    "    }\n",
    "    problem = get_problem(\"dtlz2\", 12)\n",
    "    problem._evaluate(x, out)\n",
    "    return out['F'][:,2]"
   ],
   "outputs": [],
   "metadata": {}
  },
  {
   "cell_type": "markdown",
   "source": [
    "# Setting the parameters"
   ],
   "metadata": {}
  },
  {
   "cell_type": "code",
   "execution_count": 3,
   "source": [
    "refpoint = np.asarray([0.2,0.5,0.9])\n",
    "n_obj = 3\n",
    "n_var = n_obj + 9\n",
    "var_names = [\"x\" + str(i + 1) for i in range(n_var)]\n",
    "obj_names = [\"f\" + str(i + 1) for i in range(n_obj)]\n",
    "unc_names = [\"unc\" + str(i + 1) for i in range(n_obj)]\n",
    "# fundumentals of problem:\n",
    "\n",
    "#creating the initial population\n",
    "x = np.random.random((120, n_var))\n",
    "initial_obj = {\n",
    "    \"F\": \"\",\n",
    "    \"G\": \"\",\n",
    "    }\n",
    "get_problem(\"dtlz2\", 12)._evaluate(x, initial_obj)\n"
   ],
   "outputs": [],
   "metadata": {}
  },
  {
   "cell_type": "markdown",
   "source": [
    "Here we define the evolver and create the archive in pandas data frame type (datapd). Then we define the problem object.\n",
    "\n",
    "## Note:\n",
    "currently we are using the ExperimentalProblem class. In the future updates of DESDEO this name will change."
   ],
   "metadata": {}
  },
  {
   "cell_type": "code",
   "execution_count": 4,
   "source": [
    "data = np.hstack((x, initial_obj['F']))\n",
    "datapd = pd.DataFrame(data=data, columns=var_names+obj_names)\n",
    "\n",
    "problem = ExperimentalProblem(data = datapd, objective_names=obj_names, variable_names=var_names,\\\n",
    "     uncertainity_names=unc_names, evaluators = [obj_function1, obj_function2, obj_function3])\n",
    "problem.train(models=GaussianProcessRegressor, model_parameters={'kernel': Matern(nu=1.5)})\n",
    "u = 10 #number of solutions that we use to update surrogates in each iteration\n",
    "evolver = IK_RVEA(\n",
    "            problem, interact=True, n_iterations=1, n_gen_per_iter = 100,\\\n",
    "                 lattice_resolution=10, use_surrogates= True, population_size= 120, number_of_update=u)\n"
   ],
   "outputs": [],
   "metadata": {}
  },
  {
   "cell_type": "markdown",
   "source": [
    "## Training the surrogate models"
   ],
   "metadata": {}
  },
  {
   "cell_type": "code",
   "execution_count": 5,
   "source": [
    "problem.train(models=GaussianProcessRegressor, model_parameters={'kernel': Matern(nu=1.5)})\n"
   ],
   "outputs": [],
   "metadata": {}
  },
  {
   "cell_type": "markdown",
   "source": [
    "Defining the evolver with the surrogate models and some adjustments for interactive KRVEA.\n",
    "\n",
    "The parameter u defines the number of solutions that need to be selected by the model management to evluate the original functions with them. \n",
    "\n",
    "Also in interactive K-RVEA we have a new conccept call interaction. A fixed number of iterations is called an interaction where we show the selected solutions to the DM and ask for a new reference point. \n",
    "\n",
    "# one interaction of IK-RVEA:"
   ],
   "metadata": {}
  },
  {
   "cell_type": "code",
   "execution_count": 12,
   "source": [
    "i = 0\n",
    "while i<=5:\n",
    "    pref, plot2 = copy.deepcopy(evolver.requests())\n",
    "    pref[2].response = copy.deepcopy(pd.DataFrame([refpoint],\\\n",
    "        columns=pref[2].content['dimensions_data'].columns))\n",
    "    plot= evolver.iterate(pref[2])   \n",
    "    i+= 1"
   ],
   "outputs": [],
   "metadata": {}
  },
  {
   "cell_type": "code",
   "execution_count": 13,
   "source": [
    "objectives = problem.archive.drop(problem.variable_names, axis=1).to_numpy()"
   ],
   "outputs": [],
   "metadata": {}
  },
  {
   "cell_type": "markdown",
   "source": [
    "We need to select the best solutions to be shown to the DM. Here we use Achievement Scalarizing function from DESDEO libarary. "
   ],
   "metadata": {}
  },
  {
   "cell_type": "code",
   "execution_count": 14,
   "source": [
    "\n",
    "asf_values = SimpleASF([1]*problem.n_of_objectives).__call__(\n",
    "    objectives, pref[2].response.values)\n",
    "idx = np.argpartition(asf_values, u)[:u] #inddicies of best solutions based on ASF\n",
    "Best_solutions = objectives[idx] \n"
   ],
   "outputs": [],
   "metadata": {}
  },
  {
   "cell_type": "code",
   "execution_count": 15,
   "source": [
    "refpoint"
   ],
   "outputs": [
    {
     "output_type": "execute_result",
     "data": {
      "text/plain": [
       "array([0.2, 0.5, 0.9])"
      ]
     },
     "metadata": {},
     "execution_count": 15
    }
   ],
   "metadata": {}
  },
  {
   "cell_type": "code",
   "execution_count": 16,
   "source": [
    "Best_solutions"
   ],
   "outputs": [
    {
     "output_type": "execute_result",
     "data": {
      "text/plain": [
       "array([[0.19074031, 0.39382469, 0.90089551],\n",
       "       [0.19549019, 0.44376983, 0.87739968],\n",
       "       [0.19569516, 0.4436356 , 0.87820607],\n",
       "       [0.1746375 , 0.48855943, 0.89025374],\n",
       "       [0.14411824, 0.44857159, 0.88664468],\n",
       "       [0.19729665, 0.44471376, 0.87477846],\n",
       "       [0.18967828, 0.39375393, 0.90330336],\n",
       "       [0.20389934, 0.4421285 , 0.88201424],\n",
       "       [0.20401185, 0.49903816, 0.84373515],\n",
       "       [0.20748028, 0.48109331, 0.87577967]])"
      ]
     },
     "metadata": {},
     "execution_count": 16
    }
   ],
   "metadata": {}
  },
  {
   "cell_type": "markdown",
   "source": [
    "# Visualization\n",
    "Here after 10 iterations we need to select the best solutions to be shown to the DM.\n"
   ],
   "metadata": {}
  },
  {
   "cell_type": "code",
   "execution_count": 17,
   "source": [
    "import plotly.graph_objs as go\n",
    "from pymoo.factory import get_problem, get_reference_directions, get_visualization\n",
    "#the next three lines are to get the true pareto front\n",
    "p = get_problem(\"dtlz2\", 12)\n",
    "ref_dirs = get_reference_directions(\"das-dennis\", 3, n_partitions=12)\n",
    "pf = p.pareto_front(ref_dirs)\n",
    "\n",
    "\n",
    "x = Best_solutions[:,0]\n",
    "y = Best_solutions[:,1]\n",
    "z = Best_solutions[:,2]\n",
    "\n",
    "trace1 = go.Scatter3d(x=x, y=y, z=z, mode=\"markers\",)\n",
    "trace2 = go.Scatter3d(x=[refpoint[0]], y=[refpoint[1]], z=[refpoint[2]], mode=\"markers\")\n",
    "trace3 = go.Mesh3d(x=pf[:,0], y=pf[:,1], z=pf[:,2])\n",
    "fig = go.Figure(data = [trace1, trace2, trace3])\n",
    "fig.show()"
   ],
   "outputs": [
    {
     "output_type": "display_data",
     "data": {
      "application/vnd.plotly.v1+json": {
       "config": {
        "plotlyServerURL": "https://plot.ly"
       },
       "data": [
        {
         "mode": "markers",
         "type": "scatter3d",
         "x": [
          0.19074031298603927,
          0.19549019180449087,
          0.1956951641875098,
          0.174637501016067,
          0.1441182403055558,
          0.19729665384756725,
          0.18967828161727707,
          0.2038993411695868,
          0.2040118485581439,
          0.20748027519497822
         ],
         "y": [
          0.3938246916968201,
          0.4437698283227353,
          0.4436356040208771,
          0.48855942786936035,
          0.4485715908249511,
          0.4447137583617311,
          0.3937539281995148,
          0.44212849954227995,
          0.4990381588408479,
          0.4810933120416087
         ],
         "z": [
          0.9008955094086345,
          0.8773996764221103,
          0.8782060676103634,
          0.8902537359320783,
          0.8866446780377096,
          0.8747784607506998,
          0.9033033559156137,
          0.8820142401023688,
          0.8437351487063165,
          0.875779669871968
         ]
        },
        {
         "mode": "markers",
         "type": "scatter3d",
         "x": [
          0.2
         ],
         "y": [
          0.5
         ],
         "z": [
          0.9
         ]
        },
        {
         "type": "mesh3d",
         "x": [
          0,
          0,
          0,
          0,
          0,
          0,
          0,
          0,
          0,
          0,
          0,
          0,
          0,
          0.09053574604251853,
          0.09901475429766741,
          0.10783277320343841,
          0.11624763874381927,
          0.12309149097933271,
          0.1270001270001905,
          0.1270001270001905,
          0.12309149097933271,
          0.11624763874381927,
          0.10783277320343841,
          0.09901475429766741,
          0.09053574604251853,
          0.19611613513818402,
          0.21566554640687682,
          0.2357022603955158,
          0.25400025400038095,
          0.2672612419124244,
          0.2721655269759087,
          0.2672612419124244,
          0.25400025400038095,
          0.2357022603955158,
          0.21566554640687682,
          0.19611613513818402,
          0.31622776601683794,
          0.34874291623145787,
          0.38100038100057143,
          0.4082482904638631,
          0.4242640687119285,
          0.4242640687119285,
          0.4082482904638631,
          0.38100038100057143,
          0.34874291623145787,
          0.31622776601683794,
          0.4472135954999579,
          0.49236596391733084,
          0.5345224838248488,
          0.565685424949238,
          0.5773502691896257,
          0.565685424949238,
          0.5345224838248488,
          0.49236596391733084,
          0.4472135954999579,
          0.5812381937190965,
          0.6350006350009526,
          0.6804138174397718,
          0.7071067811865476,
          0.7071067811865476,
          0.6804138174397717,
          0.6350006350009526,
          0.5812381937190965,
          0.7071067811865475,
          0.7620007620011431,
          0.8017837257372732,
          0.8164965809277261,
          0.8017837257372732,
          0.7620007620011431,
          0.7071067811865475,
          0.813733471206735,
          0.8616404368553291,
          0.8890008890013334,
          0.8890008890013334,
          0.8616404368553291,
          0.813733471206735,
          0.8944271909999159,
          0.9299811099505542,
          0.9428090415820632,
          0.9299811099505542,
          0.8944271909999159,
          0.9486832980505138,
          0.9704949588309457,
          0.9704949588309457,
          0.9486832980505138,
          0.9805806756909202,
          0.9901475429766743,
          0.9805806756909202,
          0.995893206467704,
          0.995893206467704,
          1
         ],
         "y": [
          0,
          0.09053574604251853,
          0.19611613513818402,
          0.31622776601683794,
          0.4472135954999579,
          0.5812381937190965,
          0.7071067811865475,
          0.813733471206735,
          0.8944271909999159,
          0.9486832980505138,
          0.9805806756909202,
          0.995893206467704,
          1,
          0,
          0.09901475429766741,
          0.21566554640687682,
          0.34874291623145787,
          0.49236596391733084,
          0.6350006350009526,
          0.7620007620011431,
          0.8616404368553291,
          0.9299811099505542,
          0.9704949588309457,
          0.9901475429766743,
          0.995893206467704,
          0,
          0.10783277320343841,
          0.2357022603955158,
          0.38100038100057143,
          0.5345224838248488,
          0.6804138174397718,
          0.8017837257372732,
          0.8890008890013334,
          0.9428090415820632,
          0.9704949588309457,
          0.9805806756909202,
          0,
          0.11624763874381927,
          0.25400025400038095,
          0.4082482904638631,
          0.565685424949238,
          0.7071067811865476,
          0.8164965809277261,
          0.8890008890013334,
          0.9299811099505542,
          0.9486832980505138,
          0,
          0.12309149097933271,
          0.2672612419124244,
          0.4242640687119285,
          0.5773502691896257,
          0.7071067811865476,
          0.8017837257372732,
          0.8616404368553291,
          0.8944271909999159,
          0,
          0.1270001270001905,
          0.2721655269759087,
          0.4242640687119285,
          0.565685424949238,
          0.6804138174397717,
          0.7620007620011431,
          0.813733471206735,
          0,
          0.1270001270001905,
          0.2672612419124244,
          0.4082482904638631,
          0.5345224838248488,
          0.6350006350009526,
          0.7071067811865475,
          0,
          0.12309149097933271,
          0.25400025400038095,
          0.38100038100057143,
          0.49236596391733084,
          0.5812381937190965,
          0,
          0.11624763874381927,
          0.2357022603955158,
          0.34874291623145787,
          0.4472135954999579,
          0,
          0.10783277320343841,
          0.21566554640687682,
          0.31622776601683794,
          0,
          0.09901475429766741,
          0.19611613513818402,
          0,
          0.09053574604251853,
          0
         ],
         "z": [
          1,
          0.995893206467704,
          0.9805806756909202,
          0.9486832980505138,
          0.8944271909999159,
          0.813733471206735,
          0.7071067811865475,
          0.5812381937190965,
          0.4472135954999579,
          0.31622776601683794,
          0.19611613513818402,
          0.09053574604251853,
          0,
          0.995893206467704,
          0.9901475429766743,
          0.9704949588309457,
          0.9299811099505542,
          0.8616404368553291,
          0.7620007620011431,
          0.6350006350009526,
          0.49236596391733084,
          0.34874291623145787,
          0.21566554640687682,
          0.09901475429766741,
          0,
          0.9805806756909202,
          0.9704949588309457,
          0.9428090415820632,
          0.8890008890013334,
          0.8017837257372732,
          0.6804138174397718,
          0.5345224838248488,
          0.38100038100057143,
          0.2357022603955158,
          0.10783277320343841,
          0,
          0.9486832980505138,
          0.9299811099505542,
          0.8890008890013334,
          0.8164965809277261,
          0.7071067811865476,
          0.565685424949238,
          0.4082482904638631,
          0.25400025400038095,
          0.11624763874381927,
          0,
          0.8944271909999159,
          0.8616404368553291,
          0.8017837257372732,
          0.7071067811865476,
          0.5773502691896257,
          0.4242640687119285,
          0.2672612419124244,
          0.12309149097933271,
          0,
          0.813733471206735,
          0.7620007620011431,
          0.6804138174397718,
          0.565685424949238,
          0.4242640687119285,
          0.2721655269759086,
          0.1270001270001905,
          0,
          0.7071067811865475,
          0.6350006350009526,
          0.5345224838248488,
          0.4082482904638631,
          0.2672612419124244,
          0.1270001270001905,
          0,
          0.5812381937190965,
          0.49236596391733084,
          0.38100038100057143,
          0.25400025400038095,
          0.12309149097933271,
          0,
          0.4472135954999579,
          0.34874291623145787,
          0.2357022603955158,
          0.11624763874381927,
          0,
          0.31622776601683794,
          0.21566554640687682,
          0.10783277320343841,
          0,
          0.19611613513818402,
          0.09901475429766741,
          0,
          0.09053574604251853,
          0,
          0
         ]
        }
       ],
       "layout": {
        "template": {
         "data": {
          "bar": [
           {
            "error_x": {
             "color": "#2a3f5f"
            },
            "error_y": {
             "color": "#2a3f5f"
            },
            "marker": {
             "line": {
              "color": "#E5ECF6",
              "width": 0.5
             }
            },
            "type": "bar"
           }
          ],
          "barpolar": [
           {
            "marker": {
             "line": {
              "color": "#E5ECF6",
              "width": 0.5
             }
            },
            "type": "barpolar"
           }
          ],
          "carpet": [
           {
            "aaxis": {
             "endlinecolor": "#2a3f5f",
             "gridcolor": "white",
             "linecolor": "white",
             "minorgridcolor": "white",
             "startlinecolor": "#2a3f5f"
            },
            "baxis": {
             "endlinecolor": "#2a3f5f",
             "gridcolor": "white",
             "linecolor": "white",
             "minorgridcolor": "white",
             "startlinecolor": "#2a3f5f"
            },
            "type": "carpet"
           }
          ],
          "choropleth": [
           {
            "colorbar": {
             "outlinewidth": 0,
             "ticks": ""
            },
            "type": "choropleth"
           }
          ],
          "contour": [
           {
            "colorbar": {
             "outlinewidth": 0,
             "ticks": ""
            },
            "colorscale": [
             [
              0,
              "#0d0887"
             ],
             [
              0.1111111111111111,
              "#46039f"
             ],
             [
              0.2222222222222222,
              "#7201a8"
             ],
             [
              0.3333333333333333,
              "#9c179e"
             ],
             [
              0.4444444444444444,
              "#bd3786"
             ],
             [
              0.5555555555555556,
              "#d8576b"
             ],
             [
              0.6666666666666666,
              "#ed7953"
             ],
             [
              0.7777777777777778,
              "#fb9f3a"
             ],
             [
              0.8888888888888888,
              "#fdca26"
             ],
             [
              1,
              "#f0f921"
             ]
            ],
            "type": "contour"
           }
          ],
          "contourcarpet": [
           {
            "colorbar": {
             "outlinewidth": 0,
             "ticks": ""
            },
            "type": "contourcarpet"
           }
          ],
          "heatmap": [
           {
            "colorbar": {
             "outlinewidth": 0,
             "ticks": ""
            },
            "colorscale": [
             [
              0,
              "#0d0887"
             ],
             [
              0.1111111111111111,
              "#46039f"
             ],
             [
              0.2222222222222222,
              "#7201a8"
             ],
             [
              0.3333333333333333,
              "#9c179e"
             ],
             [
              0.4444444444444444,
              "#bd3786"
             ],
             [
              0.5555555555555556,
              "#d8576b"
             ],
             [
              0.6666666666666666,
              "#ed7953"
             ],
             [
              0.7777777777777778,
              "#fb9f3a"
             ],
             [
              0.8888888888888888,
              "#fdca26"
             ],
             [
              1,
              "#f0f921"
             ]
            ],
            "type": "heatmap"
           }
          ],
          "heatmapgl": [
           {
            "colorbar": {
             "outlinewidth": 0,
             "ticks": ""
            },
            "colorscale": [
             [
              0,
              "#0d0887"
             ],
             [
              0.1111111111111111,
              "#46039f"
             ],
             [
              0.2222222222222222,
              "#7201a8"
             ],
             [
              0.3333333333333333,
              "#9c179e"
             ],
             [
              0.4444444444444444,
              "#bd3786"
             ],
             [
              0.5555555555555556,
              "#d8576b"
             ],
             [
              0.6666666666666666,
              "#ed7953"
             ],
             [
              0.7777777777777778,
              "#fb9f3a"
             ],
             [
              0.8888888888888888,
              "#fdca26"
             ],
             [
              1,
              "#f0f921"
             ]
            ],
            "type": "heatmapgl"
           }
          ],
          "histogram": [
           {
            "marker": {
             "colorbar": {
              "outlinewidth": 0,
              "ticks": ""
             }
            },
            "type": "histogram"
           }
          ],
          "histogram2d": [
           {
            "colorbar": {
             "outlinewidth": 0,
             "ticks": ""
            },
            "colorscale": [
             [
              0,
              "#0d0887"
             ],
             [
              0.1111111111111111,
              "#46039f"
             ],
             [
              0.2222222222222222,
              "#7201a8"
             ],
             [
              0.3333333333333333,
              "#9c179e"
             ],
             [
              0.4444444444444444,
              "#bd3786"
             ],
             [
              0.5555555555555556,
              "#d8576b"
             ],
             [
              0.6666666666666666,
              "#ed7953"
             ],
             [
              0.7777777777777778,
              "#fb9f3a"
             ],
             [
              0.8888888888888888,
              "#fdca26"
             ],
             [
              1,
              "#f0f921"
             ]
            ],
            "type": "histogram2d"
           }
          ],
          "histogram2dcontour": [
           {
            "colorbar": {
             "outlinewidth": 0,
             "ticks": ""
            },
            "colorscale": [
             [
              0,
              "#0d0887"
             ],
             [
              0.1111111111111111,
              "#46039f"
             ],
             [
              0.2222222222222222,
              "#7201a8"
             ],
             [
              0.3333333333333333,
              "#9c179e"
             ],
             [
              0.4444444444444444,
              "#bd3786"
             ],
             [
              0.5555555555555556,
              "#d8576b"
             ],
             [
              0.6666666666666666,
              "#ed7953"
             ],
             [
              0.7777777777777778,
              "#fb9f3a"
             ],
             [
              0.8888888888888888,
              "#fdca26"
             ],
             [
              1,
              "#f0f921"
             ]
            ],
            "type": "histogram2dcontour"
           }
          ],
          "mesh3d": [
           {
            "colorbar": {
             "outlinewidth": 0,
             "ticks": ""
            },
            "type": "mesh3d"
           }
          ],
          "parcoords": [
           {
            "line": {
             "colorbar": {
              "outlinewidth": 0,
              "ticks": ""
             }
            },
            "type": "parcoords"
           }
          ],
          "pie": [
           {
            "automargin": true,
            "type": "pie"
           }
          ],
          "scatter": [
           {
            "marker": {
             "colorbar": {
              "outlinewidth": 0,
              "ticks": ""
             }
            },
            "type": "scatter"
           }
          ],
          "scatter3d": [
           {
            "line": {
             "colorbar": {
              "outlinewidth": 0,
              "ticks": ""
             }
            },
            "marker": {
             "colorbar": {
              "outlinewidth": 0,
              "ticks": ""
             }
            },
            "type": "scatter3d"
           }
          ],
          "scattercarpet": [
           {
            "marker": {
             "colorbar": {
              "outlinewidth": 0,
              "ticks": ""
             }
            },
            "type": "scattercarpet"
           }
          ],
          "scattergeo": [
           {
            "marker": {
             "colorbar": {
              "outlinewidth": 0,
              "ticks": ""
             }
            },
            "type": "scattergeo"
           }
          ],
          "scattergl": [
           {
            "marker": {
             "colorbar": {
              "outlinewidth": 0,
              "ticks": ""
             }
            },
            "type": "scattergl"
           }
          ],
          "scattermapbox": [
           {
            "marker": {
             "colorbar": {
              "outlinewidth": 0,
              "ticks": ""
             }
            },
            "type": "scattermapbox"
           }
          ],
          "scatterpolar": [
           {
            "marker": {
             "colorbar": {
              "outlinewidth": 0,
              "ticks": ""
             }
            },
            "type": "scatterpolar"
           }
          ],
          "scatterpolargl": [
           {
            "marker": {
             "colorbar": {
              "outlinewidth": 0,
              "ticks": ""
             }
            },
            "type": "scatterpolargl"
           }
          ],
          "scatterternary": [
           {
            "marker": {
             "colorbar": {
              "outlinewidth": 0,
              "ticks": ""
             }
            },
            "type": "scatterternary"
           }
          ],
          "surface": [
           {
            "colorbar": {
             "outlinewidth": 0,
             "ticks": ""
            },
            "colorscale": [
             [
              0,
              "#0d0887"
             ],
             [
              0.1111111111111111,
              "#46039f"
             ],
             [
              0.2222222222222222,
              "#7201a8"
             ],
             [
              0.3333333333333333,
              "#9c179e"
             ],
             [
              0.4444444444444444,
              "#bd3786"
             ],
             [
              0.5555555555555556,
              "#d8576b"
             ],
             [
              0.6666666666666666,
              "#ed7953"
             ],
             [
              0.7777777777777778,
              "#fb9f3a"
             ],
             [
              0.8888888888888888,
              "#fdca26"
             ],
             [
              1,
              "#f0f921"
             ]
            ],
            "type": "surface"
           }
          ],
          "table": [
           {
            "cells": {
             "fill": {
              "color": "#EBF0F8"
             },
             "line": {
              "color": "white"
             }
            },
            "header": {
             "fill": {
              "color": "#C8D4E3"
             },
             "line": {
              "color": "white"
             }
            },
            "type": "table"
           }
          ]
         },
         "layout": {
          "annotationdefaults": {
           "arrowcolor": "#2a3f5f",
           "arrowhead": 0,
           "arrowwidth": 1
          },
          "autotypenumbers": "strict",
          "coloraxis": {
           "colorbar": {
            "outlinewidth": 0,
            "ticks": ""
           }
          },
          "colorscale": {
           "diverging": [
            [
             0,
             "#8e0152"
            ],
            [
             0.1,
             "#c51b7d"
            ],
            [
             0.2,
             "#de77ae"
            ],
            [
             0.3,
             "#f1b6da"
            ],
            [
             0.4,
             "#fde0ef"
            ],
            [
             0.5,
             "#f7f7f7"
            ],
            [
             0.6,
             "#e6f5d0"
            ],
            [
             0.7,
             "#b8e186"
            ],
            [
             0.8,
             "#7fbc41"
            ],
            [
             0.9,
             "#4d9221"
            ],
            [
             1,
             "#276419"
            ]
           ],
           "sequential": [
            [
             0,
             "#0d0887"
            ],
            [
             0.1111111111111111,
             "#46039f"
            ],
            [
             0.2222222222222222,
             "#7201a8"
            ],
            [
             0.3333333333333333,
             "#9c179e"
            ],
            [
             0.4444444444444444,
             "#bd3786"
            ],
            [
             0.5555555555555556,
             "#d8576b"
            ],
            [
             0.6666666666666666,
             "#ed7953"
            ],
            [
             0.7777777777777778,
             "#fb9f3a"
            ],
            [
             0.8888888888888888,
             "#fdca26"
            ],
            [
             1,
             "#f0f921"
            ]
           ],
           "sequentialminus": [
            [
             0,
             "#0d0887"
            ],
            [
             0.1111111111111111,
             "#46039f"
            ],
            [
             0.2222222222222222,
             "#7201a8"
            ],
            [
             0.3333333333333333,
             "#9c179e"
            ],
            [
             0.4444444444444444,
             "#bd3786"
            ],
            [
             0.5555555555555556,
             "#d8576b"
            ],
            [
             0.6666666666666666,
             "#ed7953"
            ],
            [
             0.7777777777777778,
             "#fb9f3a"
            ],
            [
             0.8888888888888888,
             "#fdca26"
            ],
            [
             1,
             "#f0f921"
            ]
           ]
          },
          "colorway": [
           "#636efa",
           "#EF553B",
           "#00cc96",
           "#ab63fa",
           "#FFA15A",
           "#19d3f3",
           "#FF6692",
           "#B6E880",
           "#FF97FF",
           "#FECB52"
          ],
          "font": {
           "color": "#2a3f5f"
          },
          "geo": {
           "bgcolor": "white",
           "lakecolor": "white",
           "landcolor": "#E5ECF6",
           "showlakes": true,
           "showland": true,
           "subunitcolor": "white"
          },
          "hoverlabel": {
           "align": "left"
          },
          "hovermode": "closest",
          "mapbox": {
           "style": "light"
          },
          "paper_bgcolor": "white",
          "plot_bgcolor": "#E5ECF6",
          "polar": {
           "angularaxis": {
            "gridcolor": "white",
            "linecolor": "white",
            "ticks": ""
           },
           "bgcolor": "#E5ECF6",
           "radialaxis": {
            "gridcolor": "white",
            "linecolor": "white",
            "ticks": ""
           }
          },
          "scene": {
           "xaxis": {
            "backgroundcolor": "#E5ECF6",
            "gridcolor": "white",
            "gridwidth": 2,
            "linecolor": "white",
            "showbackground": true,
            "ticks": "",
            "zerolinecolor": "white"
           },
           "yaxis": {
            "backgroundcolor": "#E5ECF6",
            "gridcolor": "white",
            "gridwidth": 2,
            "linecolor": "white",
            "showbackground": true,
            "ticks": "",
            "zerolinecolor": "white"
           },
           "zaxis": {
            "backgroundcolor": "#E5ECF6",
            "gridcolor": "white",
            "gridwidth": 2,
            "linecolor": "white",
            "showbackground": true,
            "ticks": "",
            "zerolinecolor": "white"
           }
          },
          "shapedefaults": {
           "line": {
            "color": "#2a3f5f"
           }
          },
          "ternary": {
           "aaxis": {
            "gridcolor": "white",
            "linecolor": "white",
            "ticks": ""
           },
           "baxis": {
            "gridcolor": "white",
            "linecolor": "white",
            "ticks": ""
           },
           "bgcolor": "#E5ECF6",
           "caxis": {
            "gridcolor": "white",
            "linecolor": "white",
            "ticks": ""
           }
          },
          "title": {
           "x": 0.05
          },
          "xaxis": {
           "automargin": true,
           "gridcolor": "white",
           "linecolor": "white",
           "ticks": "",
           "title": {
            "standoff": 15
           },
           "zerolinecolor": "white",
           "zerolinewidth": 2
          },
          "yaxis": {
           "automargin": true,
           "gridcolor": "white",
           "linecolor": "white",
           "ticks": "",
           "title": {
            "standoff": 15
           },
           "zerolinecolor": "white",
           "zerolinewidth": 2
          }
         }
        }
       }
      }
     },
     "metadata": {}
    }
   ],
   "metadata": {}
  },
  {
   "cell_type": "markdown",
   "source": [
    "# Results\n",
    "The green mesh is the true Pareto front, the blue dots are the solutions that Interactive K-RVEA has found, and the red dot is the reference point. \n",
    "\n",
    "Please note that we did not calculate the nondominated solutions in the archive for this example. In general, it is best if we perform the ASF function (or any other indicator) on nondominated solutions"
   ],
   "metadata": {}
  },
  {
   "cell_type": "markdown",
   "source": [],
   "metadata": {}
  },
  {
   "cell_type": "code",
   "execution_count": null,
   "source": [],
   "outputs": [],
   "metadata": {}
  }
 ],
 "metadata": {
  "interpreter": {
   "hash": "0b97efaf3cca003e919706c0c9e5660e551c9f562cf8686d15dadb14e0762d79"
  },
  "kernelspec": {
   "name": "python3",
   "display_name": "Python 3.7.11 64-bit ('interactive_KRVEA': venv)"
  },
  "language_info": {
   "codemirror_mode": {
    "name": "ipython",
    "version": 3
   },
   "file_extension": ".py",
   "mimetype": "text/x-python",
   "name": "python",
   "nbconvert_exporter": "python",
   "pygments_lexer": "ipython3",
   "version": "3.7.11"
  }
 },
 "nbformat": 4,
 "nbformat_minor": 2
}