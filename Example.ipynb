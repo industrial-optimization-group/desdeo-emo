{
 "cells": [
  {
   "cell_type": "code",
   "execution_count": 2,
   "metadata": {},
   "outputs": [
    {
     "ename": "ModuleNotFoundError",
     "evalue": "No module named 'optproblems'",
     "output_type": "error",
     "traceback": [
      "\u001b[0;31m---------------------------------------------------------------------------\u001b[0m",
      "\u001b[0;31mModuleNotFoundError\u001b[0m                       Traceback (most recent call last)",
      "\u001b[1;32m/home/amrzr/Work/Codes/desdeo-emo-1/Example.ipynb Cell 1\u001b[0m in \u001b[0;36m<cell line: 18>\u001b[0;34m()\u001b[0m\n\u001b[1;32m     <a href='vscode-notebook-cell:/home/amrzr/Work/Codes/desdeo-emo-1/Example.ipynb#W0sZmlsZQ%3D%3D?line=11'>12</a>\u001b[0m \u001b[39mfrom\u001b[39;00m \u001b[39mdesdeo_problem\u001b[39;00m\u001b[39m.\u001b[39;00m\u001b[39msurrogatemodels\u001b[39;00m\u001b[39m.\u001b[39;00m\u001b[39mSurrogateModels\u001b[39;00m \u001b[39mimport\u001b[39;00m GaussianProcessRegressor\n\u001b[1;32m     <a href='vscode-notebook-cell:/home/amrzr/Work/Codes/desdeo-emo-1/Example.ipynb#W0sZmlsZQ%3D%3D?line=12'>13</a>\u001b[0m \u001b[39m#from desdeo_problem.testproblems.TestProblems import test_problem_builder\u001b[39;00m\n\u001b[1;32m     <a href='vscode-notebook-cell:/home/amrzr/Work/Codes/desdeo-emo-1/Example.ipynb#W0sZmlsZQ%3D%3D?line=13'>14</a>\u001b[0m \u001b[39m#from desdeo_problem import DataProblem\u001b[39;00m\n\u001b[0;32m---> <a href='vscode-notebook-cell:/home/amrzr/Work/Codes/desdeo-emo-1/Example.ipynb#W0sZmlsZQ%3D%3D?line=17'>18</a>\u001b[0m \u001b[39mfrom\u001b[39;00m \u001b[39mdesdeo_emo\u001b[39;00m\u001b[39m.\u001b[39;00m\u001b[39mEAs\u001b[39;00m\u001b[39m.\u001b[39;00m\u001b[39mProbRVEA\u001b[39;00m \u001b[39mimport\u001b[39;00m RVEA\n\u001b[1;32m     <a href='vscode-notebook-cell:/home/amrzr/Work/Codes/desdeo-emo-1/Example.ipynb#W0sZmlsZQ%3D%3D?line=18'>19</a>\u001b[0m \u001b[39mfrom\u001b[39;00m \u001b[39mdesdeo_emo\u001b[39;00m\u001b[39m.\u001b[39;00m\u001b[39mEAs\u001b[39;00m\u001b[39m.\u001b[39;00m\u001b[39mProbRVEA\u001b[39;00m \u001b[39mimport\u001b[39;00m ProbRVEA\n\u001b[1;32m     <a href='vscode-notebook-cell:/home/amrzr/Work/Codes/desdeo-emo-1/Example.ipynb#W0sZmlsZQ%3D%3D?line=19'>20</a>\u001b[0m \u001b[39mfrom\u001b[39;00m \u001b[39mdesdeo_emo\u001b[39;00m\u001b[39m.\u001b[39;00m\u001b[39mEAs\u001b[39;00m\u001b[39m.\u001b[39;00m\u001b[39mProbRVEA\u001b[39;00m \u001b[39mimport\u001b[39;00m ProbRVEA_v3\n",
      "File \u001b[0;32m~/Work/Codes/desdeo-emo-1/desdeo_emo/EAs/__init__.py:16\u001b[0m, in \u001b[0;36m<module>\u001b[0;34m\u001b[0m\n\u001b[1;32m      1\u001b[0m \u001b[39m\"\"\"This module contains classes implementing different Evolutionary algorithms.\u001b[39;00m\n\u001b[1;32m      2\u001b[0m \u001b[39m\"\"\"\u001b[39;00m\n\u001b[1;32m      4\u001b[0m __all__ \u001b[39m=\u001b[39m [\n\u001b[1;32m      5\u001b[0m     \u001b[39m\"\u001b[39m\u001b[39mRVEA\u001b[39m\u001b[39m\"\u001b[39m,\n\u001b[1;32m      6\u001b[0m     \u001b[39m\"\u001b[39m\u001b[39mNSGAIII\u001b[39m\u001b[39m\"\u001b[39m,\n\u001b[0;32m   (...)\u001b[0m\n\u001b[1;32m     13\u001b[0m     \u001b[39m\"\u001b[39m\u001b[39mMOEA_D\u001b[39m\u001b[39m\"\u001b[39m,\n\u001b[1;32m     14\u001b[0m ]\n\u001b[0;32m---> 16\u001b[0m \u001b[39mfrom\u001b[39;00m \u001b[39mdesdeo_emo\u001b[39;00m\u001b[39m.\u001b[39;00m\u001b[39mEAs\u001b[39;00m\u001b[39m.\u001b[39;00m\u001b[39mBaseEA\u001b[39;00m \u001b[39mimport\u001b[39;00m BaseEA, BaseDecompositionEA\n\u001b[1;32m     17\u001b[0m \u001b[39mfrom\u001b[39;00m \u001b[39mdesdeo_emo\u001b[39;00m\u001b[39m.\u001b[39;00m\u001b[39mEAs\u001b[39;00m\u001b[39m.\u001b[39;00m\u001b[39mRVEA\u001b[39;00m \u001b[39mimport\u001b[39;00m RVEA\n\u001b[1;32m     18\u001b[0m \u001b[39mfrom\u001b[39;00m \u001b[39mdesdeo_emo\u001b[39;00m\u001b[39m.\u001b[39;00m\u001b[39mEAs\u001b[39;00m\u001b[39m.\u001b[39;00m\u001b[39mNSGAIII\u001b[39;00m \u001b[39mimport\u001b[39;00m NSGAIII\n",
      "File \u001b[0;32m~/Work/Codes/desdeo-emo-1/desdeo_emo/EAs/BaseEA.py:4\u001b[0m, in \u001b[0;36m<module>\u001b[0;34m\u001b[0m\n\u001b[1;32m      1\u001b[0m \u001b[39mfrom\u001b[39;00m \u001b[39mtyping\u001b[39;00m \u001b[39mimport\u001b[39;00m Dict, Literal, Tuple, Type, Union\n\u001b[1;32m      3\u001b[0m \u001b[39mimport\u001b[39;00m \u001b[39mpandas\u001b[39;00m \u001b[39mas\u001b[39;00m \u001b[39mpd\u001b[39;00m\n\u001b[0;32m----> 4\u001b[0m \u001b[39mfrom\u001b[39;00m \u001b[39mdesdeo_emo\u001b[39;00m\u001b[39m.\u001b[39;00m\u001b[39mpopulation\u001b[39;00m\u001b[39m.\u001b[39;00m\u001b[39mPopulation\u001b[39;00m \u001b[39mimport\u001b[39;00m Population\n\u001b[1;32m      5\u001b[0m \u001b[39mfrom\u001b[39;00m \u001b[39mdesdeo_emo\u001b[39;00m\u001b[39m.\u001b[39;00m\u001b[39mselection\u001b[39;00m\u001b[39m.\u001b[39;00m\u001b[39mSelectionBase\u001b[39;00m \u001b[39mimport\u001b[39;00m SelectionBase\n\u001b[1;32m      7\u001b[0m \u001b[39mfrom\u001b[39;00m \u001b[39mdesdeo_problem\u001b[39;00m \u001b[39mimport\u001b[39;00m MOProblem, DataProblem\n",
      "File \u001b[0;32m~/Work/Codes/desdeo-emo-1/desdeo_emo/population/__init__.py:6\u001b[0m, in \u001b[0;36m<module>\u001b[0;34m\u001b[0m\n\u001b[1;32m      3\u001b[0m __all__ \u001b[39m=\u001b[39m [\u001b[39m\"\u001b[39m\u001b[39mPopulation\u001b[39m\u001b[39m\"\u001b[39m, \u001b[39m\"\u001b[39m\u001b[39mcreate_new_individuals\u001b[39m\u001b[39m\"\u001b[39m, \u001b[39m\"\u001b[39m\u001b[39mSurrogatePopulation\u001b[39m\u001b[39m\"\u001b[39m]\n\u001b[1;32m      5\u001b[0m \u001b[39mfrom\u001b[39;00m \u001b[39mdesdeo_emo\u001b[39;00m\u001b[39m.\u001b[39;00m\u001b[39mpopulation\u001b[39;00m\u001b[39m.\u001b[39;00m\u001b[39mCreateIndividuals\u001b[39;00m \u001b[39mimport\u001b[39;00m create_new_individuals\n\u001b[0;32m----> 6\u001b[0m \u001b[39mfrom\u001b[39;00m \u001b[39mdesdeo_emo\u001b[39;00m\u001b[39m.\u001b[39;00m\u001b[39mpopulation\u001b[39;00m\u001b[39m.\u001b[39;00m\u001b[39mPopulation\u001b[39;00m \u001b[39mimport\u001b[39;00m Population\n\u001b[1;32m      7\u001b[0m \u001b[39mfrom\u001b[39;00m \u001b[39mdesdeo_emo\u001b[39;00m\u001b[39m.\u001b[39;00m\u001b[39mpopulation\u001b[39;00m\u001b[39m.\u001b[39;00m\u001b[39mSurrogatePopulation\u001b[39;00m \u001b[39mimport\u001b[39;00m SurrogatePopulation\n",
      "File \u001b[0;32m~/Work/Codes/desdeo-emo-1/desdeo_emo/population/Population.py:9\u001b[0m, in \u001b[0;36m<module>\u001b[0;34m\u001b[0m\n\u001b[1;32m      7\u001b[0m \u001b[39mfrom\u001b[39;00m \u001b[39mdesdeo_emo\u001b[39;00m\u001b[39m.\u001b[39;00m\u001b[39mrecombination\u001b[39;00m\u001b[39m.\u001b[39;00m\u001b[39mBoundedPolynomialMutation\u001b[39;00m \u001b[39mimport\u001b[39;00m BP_mutation\n\u001b[1;32m      8\u001b[0m \u001b[39mfrom\u001b[39;00m \u001b[39mdesdeo_emo\u001b[39;00m\u001b[39m.\u001b[39;00m\u001b[39mrecombination\u001b[39;00m\u001b[39m.\u001b[39;00m\u001b[39mSimulatedBinaryCrossover\u001b[39;00m \u001b[39mimport\u001b[39;00m SBX_xover\n\u001b[0;32m----> 9\u001b[0m \u001b[39mfrom\u001b[39;00m \u001b[39mdesdeo_problem\u001b[39;00m \u001b[39mimport\u001b[39;00m MOProblem\n\u001b[1;32m     11\u001b[0m \u001b[39mfrom\u001b[39;00m \u001b[39mdesdeo_tools\u001b[39;00m\u001b[39m.\u001b[39;00m\u001b[39mutilities\u001b[39;00m \u001b[39mimport\u001b[39;00m non_dominated\n\u001b[1;32m     14\u001b[0m \u001b[39mclass\u001b[39;00m \u001b[39mBasePopulation\u001b[39;00m(ABC):\n",
      "File \u001b[0;32m~/Work/Codes/desdeo-emo-1/desdeo_problem/__init__.py:78\u001b[0m, in \u001b[0;36m<module>\u001b[0;34m\u001b[0m\n\u001b[1;32m     44\u001b[0m \u001b[39mfrom\u001b[39;00m \u001b[39mdesdeo_problem\u001b[39;00m\u001b[39m.\u001b[39;00m\u001b[39mproblem\u001b[39;00m \u001b[39mimport\u001b[39;00m (\n\u001b[1;32m     45\u001b[0m     ObjectiveError,\n\u001b[1;32m     46\u001b[0m     ObjectiveEvaluationResults,\n\u001b[0;32m   (...)\u001b[0m\n\u001b[1;32m     69\u001b[0m     variable_builder,\n\u001b[1;32m     70\u001b[0m )\n\u001b[1;32m     72\u001b[0m \u001b[39mfrom\u001b[39;00m \u001b[39mdesdeo_problem\u001b[39;00m\u001b[39m.\u001b[39;00m\u001b[39msurrogatemodels\u001b[39;00m \u001b[39mimport\u001b[39;00m (\n\u001b[1;32m     73\u001b[0m     BaseRegressor,\n\u001b[1;32m     74\u001b[0m     GaussianProcessRegressor,\n\u001b[1;32m     75\u001b[0m     LipschitzianRegressor,\n\u001b[1;32m     76\u001b[0m     ModelError,\n\u001b[1;32m     77\u001b[0m )\n\u001b[0;32m---> 78\u001b[0m \u001b[39mfrom\u001b[39;00m \u001b[39mdesdeo_problem\u001b[39;00m\u001b[39m.\u001b[39;00m\u001b[39mtestproblems\u001b[39;00m\u001b[39m.\u001b[39;00m\u001b[39mTestProblems\u001b[39;00m \u001b[39mimport\u001b[39;00m test_problem_builder\n\u001b[1;32m     80\u001b[0m \u001b[39mfrom\u001b[39;00m \u001b[39mdesdeo_problem\u001b[39;00m\u001b[39m.\u001b[39;00m\u001b[39mtestproblems\u001b[39;00m\u001b[39m.\u001b[39;00m\u001b[39mDBMOPP\u001b[39;00m\u001b[39m.\u001b[39;00m\u001b[39mDBMOPP_generator\u001b[39;00m \u001b[39mimport\u001b[39;00m DBMOPP_generator\n\u001b[1;32m     81\u001b[0m \u001b[39mfrom\u001b[39;00m \u001b[39mdesdeo_problem\u001b[39;00m\u001b[39m.\u001b[39;00m\u001b[39mtestproblems\u001b[39;00m\u001b[39m.\u001b[39;00m\u001b[39mDBMOPP\u001b[39;00m\u001b[39m.\u001b[39;00m\u001b[39mRegion\u001b[39;00m \u001b[39mimport\u001b[39;00m Region\n",
      "File \u001b[0;32m~/Work/Codes/desdeo-emo-1/desdeo_problem/testproblems/__init__.py:6\u001b[0m, in \u001b[0;36m<module>\u001b[0;34m\u001b[0m\n\u001b[1;32m      1\u001b[0m __all__ \u001b[39m=\u001b[39m [\u001b[39m\"\u001b[39m\u001b[39mtest_problem_builder\u001b[39m\u001b[39m\"\u001b[39m, \u001b[39m\"\u001b[39m\u001b[39mdummy_problem\u001b[39m\u001b[39m\"\u001b[39m]\n\u001b[1;32m      4\u001b[0m \u001b[39m# __all__ = [\"test_problem_builder\", \"DBMOPP_generator\", \"Region\", \"get_2D_version\", \"euclidean_distance\", \"convhull\", \"in_hull\", \"get_random_angles\", \"between_lines_rooted_at_pivot\", \"assign_design_dimension_projection\"]\u001b[39;00m\n\u001b[0;32m----> 6\u001b[0m \u001b[39mfrom\u001b[39;00m \u001b[39mdesdeo_problem\u001b[39;00m\u001b[39m.\u001b[39;00m\u001b[39mtestproblems\u001b[39;00m\u001b[39m.\u001b[39;00m\u001b[39mTestProblems\u001b[39;00m \u001b[39mimport\u001b[39;00m test_problem_builder\n\u001b[1;32m      7\u001b[0m \u001b[39mfrom\u001b[39;00m \u001b[39mdesdeo_problem\u001b[39;00m\u001b[39m.\u001b[39;00m\u001b[39mtestproblems\u001b[39;00m\u001b[39m.\u001b[39;00m\u001b[39mDummyProblem\u001b[39;00m \u001b[39mimport\u001b[39;00m dummy_problem\n",
      "File \u001b[0;32m~/Work/Codes/desdeo-emo-1/desdeo_problem/testproblems/TestProblems.py:1\u001b[0m, in \u001b[0;36m<module>\u001b[0;34m\u001b[0m\n\u001b[0;32m----> 1\u001b[0m \u001b[39mfrom\u001b[39;00m \u001b[39moptproblems\u001b[39;00m \u001b[39mimport\u001b[39;00m zdt, dtlz\n\u001b[1;32m      2\u001b[0m \u001b[39mfrom\u001b[39;00m \u001b[39mdesdeo_problem\u001b[39;00m\u001b[39m.\u001b[39;00m\u001b[39mproblem\u001b[39;00m\u001b[39m.\u001b[39;00m\u001b[39mVariable\u001b[39;00m \u001b[39mimport\u001b[39;00m variable_builder\n\u001b[1;32m      3\u001b[0m \u001b[39mfrom\u001b[39;00m \u001b[39mdesdeo_problem\u001b[39;00m\u001b[39m.\u001b[39;00m\u001b[39mproblem\u001b[39;00m\u001b[39m.\u001b[39;00m\u001b[39mObjective\u001b[39;00m \u001b[39mimport\u001b[39;00m VectorObjective\n",
      "\u001b[0;31mModuleNotFoundError\u001b[0m: No module named 'optproblems'"
     ]
    }
   ],
   "source": [
    "import sys\n",
    "sys.path.insert(1, '/home/amrzr/Work/Codes/desdeo-emo-1/')\n",
    "from pyDOE import lhs\n",
    "import plotly.graph_objects as go\n",
    "import matplotlib.pyplot as plt\n",
    "import numpy as np\n",
    "import pandas as pd\n",
    "import scipy.io\n",
    "import time\n",
    "\n",
    "from desdeo_problem.problem.Problem import DataProblem\n",
    "from desdeo_problem.surrogatemodels.SurrogateModels import GaussianProcessRegressor\n",
    "#from desdeo_problem.testproblems.TestProblems import test_problem_builder\n",
    "#from desdeo_problem import DataProblem\n",
    "\n",
    "\n",
    "\n",
    "from desdeo_emo.EAs.ProbRVEA import RVEA\n",
    "from desdeo_emo.EAs.ProbRVEA import ProbRVEA\n",
    "from desdeo_emo.EAs.ProbRVEA import ProbRVEA_v3\n",
    "from desdeo_emo.EAs.ProbRVEA import HybRVEA\n",
    "from desdeo_emo.EAs.ProbRVEA import HybRVEA_v3\n",
    "\n",
    "from desdeo_emo.EAs.ProbMOEAD import MOEA_D\n",
    "from desdeo_emo.EAs.ProbMOEAD import ProbMOEAD\n",
    "from desdeo_emo.EAs.ProbMOEAD import ProbMOEAD_v3\n",
    "from desdeo_emo.EAs.ProbMOEAD import HybMOEAD\n",
    "from desdeo_emo.EAs.ProbMOEAD import HybMOEAD_v3"
   ]
  },
  {
   "cell_type": "code",
   "execution_count": 2,
   "metadata": {},
   "outputs": [],
   "source": [
    "# Problem setup\n",
    "nvars = 10\n",
    "nobjs = 3\n",
    "nsamples = 109"
   ]
  },
  {
   "cell_type": "code",
   "execution_count": 3,
   "metadata": {},
   "outputs": [],
   "source": [
    "# Read dataset\n",
    "folder_data = 'AM_Samples_109_Final'\n",
    "problem_testbench = 'DDMOPP'\n",
    "problem_name = 'P1'\n",
    "sampling = 'LHS'\n",
    "run = 0\n",
    "\n",
    "if problem_testbench == \"DDMOPP\":\n",
    "    mat = scipy.io.loadmat('./' + folder_data + '/Initial_Population_' + problem_testbench + '_' + sampling +\n",
    "                        '_AM_' + str(nvars) + '_109.mat')\n",
    "    x = ((mat['Initial_Population_'+problem_testbench])[0][run])[0]\n",
    "    mat = scipy.io.loadmat('./'+folder_data+'/Obj_vals_DDMOPP_'+sampling+'_AM_'+problem_name+'_'\n",
    "                                    + str(nobjs) + '_' + str(nvars) + '_109.mat')\n",
    "    y = ((mat['Obj_vals_DDMOPP'])[0][run])[0]\n",
    "else:\n",
    "    mat = scipy.io.loadmat('./' + folder_data + '/Initial_Population_DTLZ_'+sampling+'_AM_' + str(nvars) + '_109.mat')\n",
    "    prob = test_problem_builder(\n",
    "        name=problem_name, n_of_objectives=nobjs, n_of_variables=nvars\n",
    "    )\n",
    "    x = ((mat['Initial_Population_DTLZ'])[0][run])[0]\n",
    "    y = prob.evaluate(x)[0]\n"
   ]
  },
  {
   "cell_type": "code",
   "execution_count": 4,
   "metadata": {},
   "outputs": [
    {
     "name": "stdout",
     "output_type": "stream",
     "text": [
      "Kriging surrogates built in: 2.0604026317596436 (secs)\n"
     ]
    }
   ],
   "source": [
    "# Create problem object\n",
    "is_data = True\n",
    "x_names = [f'x{i}' for i in range(1,nvars+1)]\n",
    "y_names = [f'f{i}' for i in range(1,nobjs+1)]\n",
    "row_names = ['lower_bound','upper_bound']\n",
    "if is_data is False:\n",
    "    prob = test_problem_builder(problem_name, nvars, nobjs)\n",
    "    x = lhs(nvars, nsamples)\n",
    "    y = prob.evaluate(x)\n",
    "    data = pd.DataFrame(np.hstack((x,y.objectives)), columns=x_names+y_names)\n",
    "else:\n",
    "    data = pd.DataFrame(np.hstack((x,y)), columns=x_names+y_names)\n",
    "if problem_testbench == 'DDMOPP':\n",
    "    x_low = np.ones(nvars)*-1\n",
    "    x_high = np.ones(nvars)\n",
    "elif problem_testbench == 'DTLZ':\n",
    "    x_low = np.ones(nvars)*0\n",
    "    x_high = np.ones(nvars)    \n",
    "bounds = pd.DataFrame(np.vstack((x_low,x_high)), columns=x_names, index=row_names)\n",
    "problem = DataProblem(data=data, variable_names=x_names, objective_names=y_names,bounds=bounds)\n",
    "start = time.time()\n",
    "problem.train(SurrogateKriging)\n",
    "end = time.time()\n",
    "time_taken = end - start\n",
    "print(\"Kriging surrogates built in:\",time_taken,\"(secs)\")"
   ]
  },
  {
   "cell_type": "code",
   "execution_count": 6,
   "metadata": {},
   "outputs": [
    {
     "name": "stdout",
     "output_type": "stream",
     "text": [
      "adapting\n",
      "FE count: 525\n",
      "adapting\n",
      "FE count: 1053\n"
     ]
    },
    {
     "data": {
      "application/vnd.plotly.v1+json": {
       "config": {
        "plotlyServerURL": "https://plot.ly"
       },
       "data": [
        {
         "mode": "markers",
         "type": "scatter3d",
         "x": [
          0.11311563661354818,
          0.11867018404739049,
          0.09370585239166918,
          -0.030723162225786638,
          0.014173629871412352,
          0.032268782695813236,
          -0.031755785370288336,
          0.17110119088704145,
          -0.046177744038683244,
          0.023663405286127315,
          0.03159362553732059,
          0.05711843260417382,
          -0.07770056170693707,
          -0.008608013954954252,
          0.040699928723810785,
          -0.03500310514139793,
          0.005604173235157717,
          0.05673607277599668,
          -0.0789777931466018,
          -0.11432063432843886,
          0.15275841864711825,
          0.002384266597475815,
          0.0954540925009244,
          0.03740967817083263,
          0.2041407512045632,
          -0.1135657461662758,
          -0.04116988420190104,
          0.0636118115233959,
          0.03450895495649364,
          0.10054453191805823,
          0.01030074039504747,
          -0.0680995102948696,
          0.1657415915617868,
          0.06966048178434825,
          -0.09214847697389317,
          0.10123893561288622,
          -0.08864091012533759,
          -0.1356700303243139,
          0.08693699271122757,
          -0.053281508402184485,
          -0.013811659088391437,
          0.2292389772250054,
          0.05010274016727312,
          0.15700460010100237,
          0.042685561035762376,
          0.23978681756719222,
          0.015394506742479663,
          0.045313305194563114
         ],
         "y": [
          0.14699974799193205,
          -0.02370314186481881,
          0.038279553199258576,
          0.17244934085163788,
          0.3607570204470323,
          0.2199894783272316,
          0.330615860917028,
          0.06027011192896392,
          -0.016070281525811136,
          0.13458850609618844,
          -0.07147797508264775,
          0.1819834003726184,
          0.25911356306303746,
          0.24961501906373584,
          -0.04186360912788345,
          0.4057868633201742,
          0.06926682272069451,
          0.21196148863857767,
          0.19778376892411975,
          0.2747384033073912,
          0.0905775296238518,
          0.3082835354897928,
          0.0764147647863731,
          0.04885137222255187,
          -0.01834205242816833,
          0.4669469348467523,
          0.17897961265597706,
          0.17614890471448508,
          0.1204754012121283,
          0.20467041331835922,
          0.2769884781771117,
          0.21416435023241043,
          0.1386961315249149,
          0.1489910059110282,
          0.3013002869960837,
          0.01644572400825739,
          0.2687159151486884,
          0.47257114233804387,
          0.24832569906304047,
          0.36585234125872446,
          0.18348396098701114,
          0.03762776711816551,
          0.10046774098443301,
          0.11325944249651965,
          0.11537026896608449,
          0.07560330664606352,
          0.10607450587103973,
          0.26888033291125524
         ],
         "z": [
          -0.10848641178136109,
          -0.025198837700521892,
          0.0409083177027556,
          -0.05814303192387538,
          -0.1586772480578711,
          -0.12873636100798436,
          -0.12308699222861375,
          -0.022934701176174244,
          0.020253412028176765,
          -0.04654474984844814,
          0.007077874763205649,
          0.10628388850323311,
          0.037824049950159644,
          -0.09731421587829026,
          0.04516955979431003,
          -0.1577148115513256,
          0.08759770486906993,
          -0.11957975621372796,
          -0.10303118841341741,
          -0.037048033481960285,
          -0.08513305682521821,
          -0.11673184909766299,
          -0.014293857829658307,
          0.07358652821301526,
          0.20108515075336708,
          -0.10257699595325276,
          -0.021923855603604103,
          -0.08731242896247515,
          0.09478083056616882,
          -0.15035634315660307,
          0.14330701304638715,
          -0.06737291596795725,
          -0.10182336724042518,
          -0.03525593937646043,
          -0.06748944726423645,
          0.0331573373448979,
          -0.09401782167800254,
          -0.04654680429993041,
          -0.15354314426505145,
          0.05305415687758863,
          -0.014160386295402283,
          0.029784653842290787,
          -0.020566941649973636,
          -0.005928933405879633,
          0.08302615094169141,
          0.2784189057304598,
          -0.043902700755793056,
          -0.05915619311349385
         ]
        }
       ],
       "layout": {
        "template": {
         "data": {
          "bar": [
           {
            "error_x": {
             "color": "#2a3f5f"
            },
            "error_y": {
             "color": "#2a3f5f"
            },
            "marker": {
             "line": {
              "color": "#E5ECF6",
              "width": 0.5
             }
            },
            "type": "bar"
           }
          ],
          "barpolar": [
           {
            "marker": {
             "line": {
              "color": "#E5ECF6",
              "width": 0.5
             }
            },
            "type": "barpolar"
           }
          ],
          "carpet": [
           {
            "aaxis": {
             "endlinecolor": "#2a3f5f",
             "gridcolor": "white",
             "linecolor": "white",
             "minorgridcolor": "white",
             "startlinecolor": "#2a3f5f"
            },
            "baxis": {
             "endlinecolor": "#2a3f5f",
             "gridcolor": "white",
             "linecolor": "white",
             "minorgridcolor": "white",
             "startlinecolor": "#2a3f5f"
            },
            "type": "carpet"
           }
          ],
          "choropleth": [
           {
            "colorbar": {
             "outlinewidth": 0,
             "ticks": ""
            },
            "type": "choropleth"
           }
          ],
          "contour": [
           {
            "colorbar": {
             "outlinewidth": 0,
             "ticks": ""
            },
            "colorscale": [
             [
              0,
              "#0d0887"
             ],
             [
              0.1111111111111111,
              "#46039f"
             ],
             [
              0.2222222222222222,
              "#7201a8"
             ],
             [
              0.3333333333333333,
              "#9c179e"
             ],
             [
              0.4444444444444444,
              "#bd3786"
             ],
             [
              0.5555555555555556,
              "#d8576b"
             ],
             [
              0.6666666666666666,
              "#ed7953"
             ],
             [
              0.7777777777777778,
              "#fb9f3a"
             ],
             [
              0.8888888888888888,
              "#fdca26"
             ],
             [
              1,
              "#f0f921"
             ]
            ],
            "type": "contour"
           }
          ],
          "contourcarpet": [
           {
            "colorbar": {
             "outlinewidth": 0,
             "ticks": ""
            },
            "type": "contourcarpet"
           }
          ],
          "heatmap": [
           {
            "colorbar": {
             "outlinewidth": 0,
             "ticks": ""
            },
            "colorscale": [
             [
              0,
              "#0d0887"
             ],
             [
              0.1111111111111111,
              "#46039f"
             ],
             [
              0.2222222222222222,
              "#7201a8"
             ],
             [
              0.3333333333333333,
              "#9c179e"
             ],
             [
              0.4444444444444444,
              "#bd3786"
             ],
             [
              0.5555555555555556,
              "#d8576b"
             ],
             [
              0.6666666666666666,
              "#ed7953"
             ],
             [
              0.7777777777777778,
              "#fb9f3a"
             ],
             [
              0.8888888888888888,
              "#fdca26"
             ],
             [
              1,
              "#f0f921"
             ]
            ],
            "type": "heatmap"
           }
          ],
          "heatmapgl": [
           {
            "colorbar": {
             "outlinewidth": 0,
             "ticks": ""
            },
            "colorscale": [
             [
              0,
              "#0d0887"
             ],
             [
              0.1111111111111111,
              "#46039f"
             ],
             [
              0.2222222222222222,
              "#7201a8"
             ],
             [
              0.3333333333333333,
              "#9c179e"
             ],
             [
              0.4444444444444444,
              "#bd3786"
             ],
             [
              0.5555555555555556,
              "#d8576b"
             ],
             [
              0.6666666666666666,
              "#ed7953"
             ],
             [
              0.7777777777777778,
              "#fb9f3a"
             ],
             [
              0.8888888888888888,
              "#fdca26"
             ],
             [
              1,
              "#f0f921"
             ]
            ],
            "type": "heatmapgl"
           }
          ],
          "histogram": [
           {
            "marker": {
             "colorbar": {
              "outlinewidth": 0,
              "ticks": ""
             }
            },
            "type": "histogram"
           }
          ],
          "histogram2d": [
           {
            "colorbar": {
             "outlinewidth": 0,
             "ticks": ""
            },
            "colorscale": [
             [
              0,
              "#0d0887"
             ],
             [
              0.1111111111111111,
              "#46039f"
             ],
             [
              0.2222222222222222,
              "#7201a8"
             ],
             [
              0.3333333333333333,
              "#9c179e"
             ],
             [
              0.4444444444444444,
              "#bd3786"
             ],
             [
              0.5555555555555556,
              "#d8576b"
             ],
             [
              0.6666666666666666,
              "#ed7953"
             ],
             [
              0.7777777777777778,
              "#fb9f3a"
             ],
             [
              0.8888888888888888,
              "#fdca26"
             ],
             [
              1,
              "#f0f921"
             ]
            ],
            "type": "histogram2d"
           }
          ],
          "histogram2dcontour": [
           {
            "colorbar": {
             "outlinewidth": 0,
             "ticks": ""
            },
            "colorscale": [
             [
              0,
              "#0d0887"
             ],
             [
              0.1111111111111111,
              "#46039f"
             ],
             [
              0.2222222222222222,
              "#7201a8"
             ],
             [
              0.3333333333333333,
              "#9c179e"
             ],
             [
              0.4444444444444444,
              "#bd3786"
             ],
             [
              0.5555555555555556,
              "#d8576b"
             ],
             [
              0.6666666666666666,
              "#ed7953"
             ],
             [
              0.7777777777777778,
              "#fb9f3a"
             ],
             [
              0.8888888888888888,
              "#fdca26"
             ],
             [
              1,
              "#f0f921"
             ]
            ],
            "type": "histogram2dcontour"
           }
          ],
          "mesh3d": [
           {
            "colorbar": {
             "outlinewidth": 0,
             "ticks": ""
            },
            "type": "mesh3d"
           }
          ],
          "parcoords": [
           {
            "line": {
             "colorbar": {
              "outlinewidth": 0,
              "ticks": ""
             }
            },
            "type": "parcoords"
           }
          ],
          "pie": [
           {
            "automargin": true,
            "type": "pie"
           }
          ],
          "scatter": [
           {
            "marker": {
             "colorbar": {
              "outlinewidth": 0,
              "ticks": ""
             }
            },
            "type": "scatter"
           }
          ],
          "scatter3d": [
           {
            "line": {
             "colorbar": {
              "outlinewidth": 0,
              "ticks": ""
             }
            },
            "marker": {
             "colorbar": {
              "outlinewidth": 0,
              "ticks": ""
             }
            },
            "type": "scatter3d"
           }
          ],
          "scattercarpet": [
           {
            "marker": {
             "colorbar": {
              "outlinewidth": 0,
              "ticks": ""
             }
            },
            "type": "scattercarpet"
           }
          ],
          "scattergeo": [
           {
            "marker": {
             "colorbar": {
              "outlinewidth": 0,
              "ticks": ""
             }
            },
            "type": "scattergeo"
           }
          ],
          "scattergl": [
           {
            "marker": {
             "colorbar": {
              "outlinewidth": 0,
              "ticks": ""
             }
            },
            "type": "scattergl"
           }
          ],
          "scattermapbox": [
           {
            "marker": {
             "colorbar": {
              "outlinewidth": 0,
              "ticks": ""
             }
            },
            "type": "scattermapbox"
           }
          ],
          "scatterpolar": [
           {
            "marker": {
             "colorbar": {
              "outlinewidth": 0,
              "ticks": ""
             }
            },
            "type": "scatterpolar"
           }
          ],
          "scatterpolargl": [
           {
            "marker": {
             "colorbar": {
              "outlinewidth": 0,
              "ticks": ""
             }
            },
            "type": "scatterpolargl"
           }
          ],
          "scatterternary": [
           {
            "marker": {
             "colorbar": {
              "outlinewidth": 0,
              "ticks": ""
             }
            },
            "type": "scatterternary"
           }
          ],
          "surface": [
           {
            "colorbar": {
             "outlinewidth": 0,
             "ticks": ""
            },
            "colorscale": [
             [
              0,
              "#0d0887"
             ],
             [
              0.1111111111111111,
              "#46039f"
             ],
             [
              0.2222222222222222,
              "#7201a8"
             ],
             [
              0.3333333333333333,
              "#9c179e"
             ],
             [
              0.4444444444444444,
              "#bd3786"
             ],
             [
              0.5555555555555556,
              "#d8576b"
             ],
             [
              0.6666666666666666,
              "#ed7953"
             ],
             [
              0.7777777777777778,
              "#fb9f3a"
             ],
             [
              0.8888888888888888,
              "#fdca26"
             ],
             [
              1,
              "#f0f921"
             ]
            ],
            "type": "surface"
           }
          ],
          "table": [
           {
            "cells": {
             "fill": {
              "color": "#EBF0F8"
             },
             "line": {
              "color": "white"
             }
            },
            "header": {
             "fill": {
              "color": "#C8D4E3"
             },
             "line": {
              "color": "white"
             }
            },
            "type": "table"
           }
          ]
         },
         "layout": {
          "annotationdefaults": {
           "arrowcolor": "#2a3f5f",
           "arrowhead": 0,
           "arrowwidth": 1
          },
          "autotypenumbers": "strict",
          "coloraxis": {
           "colorbar": {
            "outlinewidth": 0,
            "ticks": ""
           }
          },
          "colorscale": {
           "diverging": [
            [
             0,
             "#8e0152"
            ],
            [
             0.1,
             "#c51b7d"
            ],
            [
             0.2,
             "#de77ae"
            ],
            [
             0.3,
             "#f1b6da"
            ],
            [
             0.4,
             "#fde0ef"
            ],
            [
             0.5,
             "#f7f7f7"
            ],
            [
             0.6,
             "#e6f5d0"
            ],
            [
             0.7,
             "#b8e186"
            ],
            [
             0.8,
             "#7fbc41"
            ],
            [
             0.9,
             "#4d9221"
            ],
            [
             1,
             "#276419"
            ]
           ],
           "sequential": [
            [
             0,
             "#0d0887"
            ],
            [
             0.1111111111111111,
             "#46039f"
            ],
            [
             0.2222222222222222,
             "#7201a8"
            ],
            [
             0.3333333333333333,
             "#9c179e"
            ],
            [
             0.4444444444444444,
             "#bd3786"
            ],
            [
             0.5555555555555556,
             "#d8576b"
            ],
            [
             0.6666666666666666,
             "#ed7953"
            ],
            [
             0.7777777777777778,
             "#fb9f3a"
            ],
            [
             0.8888888888888888,
             "#fdca26"
            ],
            [
             1,
             "#f0f921"
            ]
           ],
           "sequentialminus": [
            [
             0,
             "#0d0887"
            ],
            [
             0.1111111111111111,
             "#46039f"
            ],
            [
             0.2222222222222222,
             "#7201a8"
            ],
            [
             0.3333333333333333,
             "#9c179e"
            ],
            [
             0.4444444444444444,
             "#bd3786"
            ],
            [
             0.5555555555555556,
             "#d8576b"
            ],
            [
             0.6666666666666666,
             "#ed7953"
            ],
            [
             0.7777777777777778,
             "#fb9f3a"
            ],
            [
             0.8888888888888888,
             "#fdca26"
            ],
            [
             1,
             "#f0f921"
            ]
           ]
          },
          "colorway": [
           "#636efa",
           "#EF553B",
           "#00cc96",
           "#ab63fa",
           "#FFA15A",
           "#19d3f3",
           "#FF6692",
           "#B6E880",
           "#FF97FF",
           "#FECB52"
          ],
          "font": {
           "color": "#2a3f5f"
          },
          "geo": {
           "bgcolor": "white",
           "lakecolor": "white",
           "landcolor": "#E5ECF6",
           "showlakes": true,
           "showland": true,
           "subunitcolor": "white"
          },
          "hoverlabel": {
           "align": "left"
          },
          "hovermode": "closest",
          "mapbox": {
           "style": "light"
          },
          "paper_bgcolor": "white",
          "plot_bgcolor": "#E5ECF6",
          "polar": {
           "angularaxis": {
            "gridcolor": "white",
            "linecolor": "white",
            "ticks": ""
           },
           "bgcolor": "#E5ECF6",
           "radialaxis": {
            "gridcolor": "white",
            "linecolor": "white",
            "ticks": ""
           }
          },
          "scene": {
           "xaxis": {
            "backgroundcolor": "#E5ECF6",
            "gridcolor": "white",
            "gridwidth": 2,
            "linecolor": "white",
            "showbackground": true,
            "ticks": "",
            "zerolinecolor": "white"
           },
           "yaxis": {
            "backgroundcolor": "#E5ECF6",
            "gridcolor": "white",
            "gridwidth": 2,
            "linecolor": "white",
            "showbackground": true,
            "ticks": "",
            "zerolinecolor": "white"
           },
           "zaxis": {
            "backgroundcolor": "#E5ECF6",
            "gridcolor": "white",
            "gridwidth": 2,
            "linecolor": "white",
            "showbackground": true,
            "ticks": "",
            "zerolinecolor": "white"
           }
          },
          "shapedefaults": {
           "line": {
            "color": "#2a3f5f"
           }
          },
          "ternary": {
           "aaxis": {
            "gridcolor": "white",
            "linecolor": "white",
            "ticks": ""
           },
           "baxis": {
            "gridcolor": "white",
            "linecolor": "white",
            "ticks": ""
           },
           "bgcolor": "#E5ECF6",
           "caxis": {
            "gridcolor": "white",
            "linecolor": "white",
            "ticks": ""
           }
          },
          "title": {
           "x": 0.05
          },
          "xaxis": {
           "automargin": true,
           "gridcolor": "white",
           "linecolor": "white",
           "ticks": "",
           "title": {
            "standoff": 15
           },
           "zerolinecolor": "white",
           "zerolinewidth": 2
          },
          "yaxis": {
           "automargin": true,
           "gridcolor": "white",
           "linecolor": "white",
           "ticks": "",
           "title": {
            "standoff": 15
           },
           "zerolinecolor": "white",
           "zerolinewidth": 2
          }
         }
        }
       }
      }
     },
     "metadata": {},
     "output_type": "display_data"
    }
   ],
   "source": [
    "# Run Generic RVEA\n",
    "max_func_evals = 5000\n",
    "\n",
    "evolver_opt = RVEA(problem, use_surrogates=True, n_gen_per_iter=10, total_function_evaluations=max_func_evals)\n",
    "while evolver_opt.continue_evolution():\n",
    "        evolver_opt.iterate()\n",
    "        print(\"FE count:\",evolver_opt._function_evaluation_count)\n",
    "objectives = evolver_opt.population.objectives\n",
    "fig1 = go.Figure(data=go.Scatter3d(x=objectives[:,0],y=objectives[:,1],z=objectives[:,2], mode=\"markers\"))\n",
    "fig1"
   ]
  },
  {
   "cell_type": "code",
   "execution_count": 8,
   "metadata": {},
   "outputs": [
    {
     "name": "stdout",
     "output_type": "stream",
     "text": [
      "FE count: 463\n",
      "FE count: 943\n",
      "FE count: 1413\n",
      "FE count: 1921\n",
      "FE count: 2395\n",
      "FE count: 2895\n",
      "FE count: 3383\n",
      "FE count: 3879\n",
      "FE count: 4353\n",
      "FE count: 4849\n"
     ]
    },
    {
     "data": {
      "application/vnd.plotly.v1+json": {
       "config": {
        "plotlyServerURL": "https://plot.ly"
       },
       "data": [
        {
         "mode": "markers",
         "type": "scatter3d",
         "x": [
          0.06340626277740657,
          -0.005276284282153654,
          0.057180051503474605,
          -0.07214753262947582,
          -0.10462169954091927,
          0.058030249742400564,
          -0.08444431489227089,
          -0.0627842937436931,
          -0.06481982169711697,
          0.11006224071401327,
          0.07146342338240075,
          0.034841837121654784,
          -0.05487216923740501,
          0.12519207392216103,
          -0.1298938689249436,
          0.043587171791029,
          -0.13565246129289132,
          -0.09942199597910184,
          0.10841878120565074,
          -0.10157123173858107,
          0.061632569909829904,
          -0.005504945805192563,
          0.1256531543914372,
          -0.041370452576627414,
          0.08216830007118858,
          -0.026462172579431176,
          -0.09055114890638372,
          -0.08934309037059318,
          -0.07723931397049366,
          0.09936276181638526,
          0.13296642366045575,
          0.017591446286140844,
          0.04431015273931216,
          0.09596241952657714,
          0.004944600967230706,
          -0.02303173002486325,
          -0.008698522582119672,
          -0.07901217230943747,
          0.0940764043989577,
          -0.030849722305786642,
          0.01279035067633938,
          -0.04588679622189673,
          -0.03735371367636686,
          0.10153752705399643,
          0.09535348430934043,
          -0.04605063213781779,
          0.15173044746480713,
          0.004061775771179832
         ],
         "y": [
          -0.0025873586368905244,
          0.10306782402763526,
          -0.029227468354430908,
          0.26230578941626725,
          0.31700398694659726,
          0.060298323673734444,
          0.29928939155149403,
          0.21807909080162036,
          0.32539167344876296,
          -0.02877964040089731,
          0.09612825740082243,
          0.1591588386685192,
          0.21806210399639192,
          -0.012374925560633132,
          0.43890029560587873,
          0.13423078719068404,
          0.3844352967056468,
          0.39831665549269646,
          0.0545042591726439,
          0.2860047348467267,
          0.12470898997523827,
          0.24111596231977384,
          0.06264778662017223,
          0.2787089665093232,
          0.10547827654444908,
          0.1536969952851761,
          0.4229490643688305,
          0.3717503665960056,
          0.3939681795767367,
          0.10387491644592539,
          -0.07552827399877238,
          0.10733456588412782,
          0.20567688455577127,
          0.0913066877045996,
          0.2477707658045607,
          0.23857512590897567,
          0.16680847319685066,
          0.2884235755964144,
          -0.0249462820488906,
          0.2115501694330466,
          0.06824502397575039,
          0.22640601179737696,
          0.11100052737765043,
          -0.030661891413151787,
          0.12764358916727692,
          0.2838449111120065,
          0.08717206052843407,
          0.14949832146701847
         ],
         "z": [
          0.03313739653326486,
          -0.011724013451011928,
          -0.159008333320537,
          -0.06762616579023462,
          -0.09534956653636328,
          0.005531315848870122,
          -0.004155249851481635,
          -0.0072652071483387815,
          -0.15356642928534203,
          -0.0660066668503303,
          -0.0651660102945888,
          -0.06804264577229002,
          0.042547421513088324,
          0.014745740672311491,
          -0.12343884211321976,
          -0.1578641663750231,
          -0.057120294133117255,
          -0.13182576452124417,
          -0.04714956932893877,
          -0.05861008147995417,
          -0.12042777218338152,
          -0.06381423154546706,
          -0.06787062526064336,
          -0.14446432524567054,
          -0.14817240424817424,
          -0.008249232155509212,
          0.07390102655886643,
          -0.1329136452197055,
          -0.10310604893248154,
          -0.1409798301960361,
          0.06543866905970219,
          -0.04568070228438437,
          -0.12769944724813787,
          -0.08346354338410578,
          -0.1836168077009832,
          -0.12418300493708578,
          -0.11051002026008927,
          -0.08497625337930081,
          -0.12406134482576459,
          -0.048499983229761234,
          0.038430353395020767,
          -0.08271348015504021,
          -0.026909196794876244,
          -0.04657660114912776,
          -0.18433545194445156,
          -0.1009114854568427,
          -0.08641774543020286,
          -0.0610114772859518
         ]
        }
       ],
       "layout": {
        "template": {
         "data": {
          "bar": [
           {
            "error_x": {
             "color": "#2a3f5f"
            },
            "error_y": {
             "color": "#2a3f5f"
            },
            "marker": {
             "line": {
              "color": "#E5ECF6",
              "width": 0.5
             }
            },
            "type": "bar"
           }
          ],
          "barpolar": [
           {
            "marker": {
             "line": {
              "color": "#E5ECF6",
              "width": 0.5
             }
            },
            "type": "barpolar"
           }
          ],
          "carpet": [
           {
            "aaxis": {
             "endlinecolor": "#2a3f5f",
             "gridcolor": "white",
             "linecolor": "white",
             "minorgridcolor": "white",
             "startlinecolor": "#2a3f5f"
            },
            "baxis": {
             "endlinecolor": "#2a3f5f",
             "gridcolor": "white",
             "linecolor": "white",
             "minorgridcolor": "white",
             "startlinecolor": "#2a3f5f"
            },
            "type": "carpet"
           }
          ],
          "choropleth": [
           {
            "colorbar": {
             "outlinewidth": 0,
             "ticks": ""
            },
            "type": "choropleth"
           }
          ],
          "contour": [
           {
            "colorbar": {
             "outlinewidth": 0,
             "ticks": ""
            },
            "colorscale": [
             [
              0,
              "#0d0887"
             ],
             [
              0.1111111111111111,
              "#46039f"
             ],
             [
              0.2222222222222222,
              "#7201a8"
             ],
             [
              0.3333333333333333,
              "#9c179e"
             ],
             [
              0.4444444444444444,
              "#bd3786"
             ],
             [
              0.5555555555555556,
              "#d8576b"
             ],
             [
              0.6666666666666666,
              "#ed7953"
             ],
             [
              0.7777777777777778,
              "#fb9f3a"
             ],
             [
              0.8888888888888888,
              "#fdca26"
             ],
             [
              1,
              "#f0f921"
             ]
            ],
            "type": "contour"
           }
          ],
          "contourcarpet": [
           {
            "colorbar": {
             "outlinewidth": 0,
             "ticks": ""
            },
            "type": "contourcarpet"
           }
          ],
          "heatmap": [
           {
            "colorbar": {
             "outlinewidth": 0,
             "ticks": ""
            },
            "colorscale": [
             [
              0,
              "#0d0887"
             ],
             [
              0.1111111111111111,
              "#46039f"
             ],
             [
              0.2222222222222222,
              "#7201a8"
             ],
             [
              0.3333333333333333,
              "#9c179e"
             ],
             [
              0.4444444444444444,
              "#bd3786"
             ],
             [
              0.5555555555555556,
              "#d8576b"
             ],
             [
              0.6666666666666666,
              "#ed7953"
             ],
             [
              0.7777777777777778,
              "#fb9f3a"
             ],
             [
              0.8888888888888888,
              "#fdca26"
             ],
             [
              1,
              "#f0f921"
             ]
            ],
            "type": "heatmap"
           }
          ],
          "heatmapgl": [
           {
            "colorbar": {
             "outlinewidth": 0,
             "ticks": ""
            },
            "colorscale": [
             [
              0,
              "#0d0887"
             ],
             [
              0.1111111111111111,
              "#46039f"
             ],
             [
              0.2222222222222222,
              "#7201a8"
             ],
             [
              0.3333333333333333,
              "#9c179e"
             ],
             [
              0.4444444444444444,
              "#bd3786"
             ],
             [
              0.5555555555555556,
              "#d8576b"
             ],
             [
              0.6666666666666666,
              "#ed7953"
             ],
             [
              0.7777777777777778,
              "#fb9f3a"
             ],
             [
              0.8888888888888888,
              "#fdca26"
             ],
             [
              1,
              "#f0f921"
             ]
            ],
            "type": "heatmapgl"
           }
          ],
          "histogram": [
           {
            "marker": {
             "colorbar": {
              "outlinewidth": 0,
              "ticks": ""
             }
            },
            "type": "histogram"
           }
          ],
          "histogram2d": [
           {
            "colorbar": {
             "outlinewidth": 0,
             "ticks": ""
            },
            "colorscale": [
             [
              0,
              "#0d0887"
             ],
             [
              0.1111111111111111,
              "#46039f"
             ],
             [
              0.2222222222222222,
              "#7201a8"
             ],
             [
              0.3333333333333333,
              "#9c179e"
             ],
             [
              0.4444444444444444,
              "#bd3786"
             ],
             [
              0.5555555555555556,
              "#d8576b"
             ],
             [
              0.6666666666666666,
              "#ed7953"
             ],
             [
              0.7777777777777778,
              "#fb9f3a"
             ],
             [
              0.8888888888888888,
              "#fdca26"
             ],
             [
              1,
              "#f0f921"
             ]
            ],
            "type": "histogram2d"
           }
          ],
          "histogram2dcontour": [
           {
            "colorbar": {
             "outlinewidth": 0,
             "ticks": ""
            },
            "colorscale": [
             [
              0,
              "#0d0887"
             ],
             [
              0.1111111111111111,
              "#46039f"
             ],
             [
              0.2222222222222222,
              "#7201a8"
             ],
             [
              0.3333333333333333,
              "#9c179e"
             ],
             [
              0.4444444444444444,
              "#bd3786"
             ],
             [
              0.5555555555555556,
              "#d8576b"
             ],
             [
              0.6666666666666666,
              "#ed7953"
             ],
             [
              0.7777777777777778,
              "#fb9f3a"
             ],
             [
              0.8888888888888888,
              "#fdca26"
             ],
             [
              1,
              "#f0f921"
             ]
            ],
            "type": "histogram2dcontour"
           }
          ],
          "mesh3d": [
           {
            "colorbar": {
             "outlinewidth": 0,
             "ticks": ""
            },
            "type": "mesh3d"
           }
          ],
          "parcoords": [
           {
            "line": {
             "colorbar": {
              "outlinewidth": 0,
              "ticks": ""
             }
            },
            "type": "parcoords"
           }
          ],
          "pie": [
           {
            "automargin": true,
            "type": "pie"
           }
          ],
          "scatter": [
           {
            "marker": {
             "colorbar": {
              "outlinewidth": 0,
              "ticks": ""
             }
            },
            "type": "scatter"
           }
          ],
          "scatter3d": [
           {
            "line": {
             "colorbar": {
              "outlinewidth": 0,
              "ticks": ""
             }
            },
            "marker": {
             "colorbar": {
              "outlinewidth": 0,
              "ticks": ""
             }
            },
            "type": "scatter3d"
           }
          ],
          "scattercarpet": [
           {
            "marker": {
             "colorbar": {
              "outlinewidth": 0,
              "ticks": ""
             }
            },
            "type": "scattercarpet"
           }
          ],
          "scattergeo": [
           {
            "marker": {
             "colorbar": {
              "outlinewidth": 0,
              "ticks": ""
             }
            },
            "type": "scattergeo"
           }
          ],
          "scattergl": [
           {
            "marker": {
             "colorbar": {
              "outlinewidth": 0,
              "ticks": ""
             }
            },
            "type": "scattergl"
           }
          ],
          "scattermapbox": [
           {
            "marker": {
             "colorbar": {
              "outlinewidth": 0,
              "ticks": ""
             }
            },
            "type": "scattermapbox"
           }
          ],
          "scatterpolar": [
           {
            "marker": {
             "colorbar": {
              "outlinewidth": 0,
              "ticks": ""
             }
            },
            "type": "scatterpolar"
           }
          ],
          "scatterpolargl": [
           {
            "marker": {
             "colorbar": {
              "outlinewidth": 0,
              "ticks": ""
             }
            },
            "type": "scatterpolargl"
           }
          ],
          "scatterternary": [
           {
            "marker": {
             "colorbar": {
              "outlinewidth": 0,
              "ticks": ""
             }
            },
            "type": "scatterternary"
           }
          ],
          "surface": [
           {
            "colorbar": {
             "outlinewidth": 0,
             "ticks": ""
            },
            "colorscale": [
             [
              0,
              "#0d0887"
             ],
             [
              0.1111111111111111,
              "#46039f"
             ],
             [
              0.2222222222222222,
              "#7201a8"
             ],
             [
              0.3333333333333333,
              "#9c179e"
             ],
             [
              0.4444444444444444,
              "#bd3786"
             ],
             [
              0.5555555555555556,
              "#d8576b"
             ],
             [
              0.6666666666666666,
              "#ed7953"
             ],
             [
              0.7777777777777778,
              "#fb9f3a"
             ],
             [
              0.8888888888888888,
              "#fdca26"
             ],
             [
              1,
              "#f0f921"
             ]
            ],
            "type": "surface"
           }
          ],
          "table": [
           {
            "cells": {
             "fill": {
              "color": "#EBF0F8"
             },
             "line": {
              "color": "white"
             }
            },
            "header": {
             "fill": {
              "color": "#C8D4E3"
             },
             "line": {
              "color": "white"
             }
            },
            "type": "table"
           }
          ]
         },
         "layout": {
          "annotationdefaults": {
           "arrowcolor": "#2a3f5f",
           "arrowhead": 0,
           "arrowwidth": 1
          },
          "autotypenumbers": "strict",
          "coloraxis": {
           "colorbar": {
            "outlinewidth": 0,
            "ticks": ""
           }
          },
          "colorscale": {
           "diverging": [
            [
             0,
             "#8e0152"
            ],
            [
             0.1,
             "#c51b7d"
            ],
            [
             0.2,
             "#de77ae"
            ],
            [
             0.3,
             "#f1b6da"
            ],
            [
             0.4,
             "#fde0ef"
            ],
            [
             0.5,
             "#f7f7f7"
            ],
            [
             0.6,
             "#e6f5d0"
            ],
            [
             0.7,
             "#b8e186"
            ],
            [
             0.8,
             "#7fbc41"
            ],
            [
             0.9,
             "#4d9221"
            ],
            [
             1,
             "#276419"
            ]
           ],
           "sequential": [
            [
             0,
             "#0d0887"
            ],
            [
             0.1111111111111111,
             "#46039f"
            ],
            [
             0.2222222222222222,
             "#7201a8"
            ],
            [
             0.3333333333333333,
             "#9c179e"
            ],
            [
             0.4444444444444444,
             "#bd3786"
            ],
            [
             0.5555555555555556,
             "#d8576b"
            ],
            [
             0.6666666666666666,
             "#ed7953"
            ],
            [
             0.7777777777777778,
             "#fb9f3a"
            ],
            [
             0.8888888888888888,
             "#fdca26"
            ],
            [
             1,
             "#f0f921"
            ]
           ],
           "sequentialminus": [
            [
             0,
             "#0d0887"
            ],
            [
             0.1111111111111111,
             "#46039f"
            ],
            [
             0.2222222222222222,
             "#7201a8"
            ],
            [
             0.3333333333333333,
             "#9c179e"
            ],
            [
             0.4444444444444444,
             "#bd3786"
            ],
            [
             0.5555555555555556,
             "#d8576b"
            ],
            [
             0.6666666666666666,
             "#ed7953"
            ],
            [
             0.7777777777777778,
             "#fb9f3a"
            ],
            [
             0.8888888888888888,
             "#fdca26"
            ],
            [
             1,
             "#f0f921"
            ]
           ]
          },
          "colorway": [
           "#636efa",
           "#EF553B",
           "#00cc96",
           "#ab63fa",
           "#FFA15A",
           "#19d3f3",
           "#FF6692",
           "#B6E880",
           "#FF97FF",
           "#FECB52"
          ],
          "font": {
           "color": "#2a3f5f"
          },
          "geo": {
           "bgcolor": "white",
           "lakecolor": "white",
           "landcolor": "#E5ECF6",
           "showlakes": true,
           "showland": true,
           "subunitcolor": "white"
          },
          "hoverlabel": {
           "align": "left"
          },
          "hovermode": "closest",
          "mapbox": {
           "style": "light"
          },
          "paper_bgcolor": "white",
          "plot_bgcolor": "#E5ECF6",
          "polar": {
           "angularaxis": {
            "gridcolor": "white",
            "linecolor": "white",
            "ticks": ""
           },
           "bgcolor": "#E5ECF6",
           "radialaxis": {
            "gridcolor": "white",
            "linecolor": "white",
            "ticks": ""
           }
          },
          "scene": {
           "xaxis": {
            "backgroundcolor": "#E5ECF6",
            "gridcolor": "white",
            "gridwidth": 2,
            "linecolor": "white",
            "showbackground": true,
            "ticks": "",
            "zerolinecolor": "white"
           },
           "yaxis": {
            "backgroundcolor": "#E5ECF6",
            "gridcolor": "white",
            "gridwidth": 2,
            "linecolor": "white",
            "showbackground": true,
            "ticks": "",
            "zerolinecolor": "white"
           },
           "zaxis": {
            "backgroundcolor": "#E5ECF6",
            "gridcolor": "white",
            "gridwidth": 2,
            "linecolor": "white",
            "showbackground": true,
            "ticks": "",
            "zerolinecolor": "white"
           }
          },
          "shapedefaults": {
           "line": {
            "color": "#2a3f5f"
           }
          },
          "ternary": {
           "aaxis": {
            "gridcolor": "white",
            "linecolor": "white",
            "ticks": ""
           },
           "baxis": {
            "gridcolor": "white",
            "linecolor": "white",
            "ticks": ""
           },
           "bgcolor": "#E5ECF6",
           "caxis": {
            "gridcolor": "white",
            "linecolor": "white",
            "ticks": ""
           }
          },
          "title": {
           "x": 0.05
          },
          "xaxis": {
           "automargin": true,
           "gridcolor": "white",
           "linecolor": "white",
           "ticks": "",
           "title": {
            "standoff": 15
           },
           "zerolinecolor": "white",
           "zerolinewidth": 2
          },
          "yaxis": {
           "automargin": true,
           "gridcolor": "white",
           "linecolor": "white",
           "ticks": "",
           "title": {
            "standoff": 15
           },
           "zerolinecolor": "white",
           "zerolinewidth": 2
          }
         }
        }
       }
      },
      "text/html": [
       "<div>                            <div id=\"c3ec8ab0-8800-4d2c-a399-60d07ef675fa\" class=\"plotly-graph-div\" style=\"height:525px; width:100%;\"></div>            <script type=\"text/javascript\">                require([\"plotly\"], function(Plotly) {                    window.PLOTLYENV=window.PLOTLYENV || {};                                    if (document.getElementById(\"c3ec8ab0-8800-4d2c-a399-60d07ef675fa\")) {                    Plotly.newPlot(                        \"c3ec8ab0-8800-4d2c-a399-60d07ef675fa\",                        [{\"mode\": \"markers\", \"type\": \"scatter3d\", \"x\": [0.06340626277740657, -0.005276284282153654, 0.057180051503474605, -0.07214753262947582, -0.10462169954091927, 0.058030249742400564, -0.08444431489227089, -0.0627842937436931, -0.06481982169711697, 0.11006224071401327, 0.07146342338240075, 0.034841837121654784, -0.05487216923740501, 0.12519207392216103, -0.1298938689249436, 0.043587171791029, -0.13565246129289132, -0.09942199597910184, 0.10841878120565074, -0.10157123173858107, 0.061632569909829904, -0.005504945805192563, 0.1256531543914372, -0.041370452576627414, 0.08216830007118858, -0.026462172579431176, -0.09055114890638372, -0.08934309037059318, -0.07723931397049366, 0.09936276181638526, 0.13296642366045575, 0.017591446286140844, 0.04431015273931216, 0.09596241952657714, 0.004944600967230706, -0.02303173002486325, -0.008698522582119672, -0.07901217230943747, 0.0940764043989577, -0.030849722305786642, 0.01279035067633938, -0.04588679622189673, -0.03735371367636686, 0.10153752705399643, 0.09535348430934043, -0.04605063213781779, 0.15173044746480713, 0.004061775771179832], \"y\": [-0.0025873586368905244, 0.10306782402763526, -0.029227468354430908, 0.26230578941626725, 0.31700398694659726, 0.060298323673734444, 0.29928939155149403, 0.21807909080162036, 0.32539167344876296, -0.02877964040089731, 0.09612825740082243, 0.1591588386685192, 0.21806210399639192, -0.012374925560633132, 0.43890029560587873, 0.13423078719068404, 0.3844352967056468, 0.39831665549269646, 0.0545042591726439, 0.2860047348467267, 0.12470898997523827, 0.24111596231977384, 0.06264778662017223, 0.2787089665093232, 0.10547827654444908, 0.1536969952851761, 0.4229490643688305, 0.3717503665960056, 0.3939681795767367, 0.10387491644592539, -0.07552827399877238, 0.10733456588412782, 0.20567688455577127, 0.0913066877045996, 0.2477707658045607, 0.23857512590897567, 0.16680847319685066, 0.2884235755964144, -0.0249462820488906, 0.2115501694330466, 0.06824502397575039, 0.22640601179737696, 0.11100052737765043, -0.030661891413151787, 0.12764358916727692, 0.2838449111120065, 0.08717206052843407, 0.14949832146701847], \"z\": [0.03313739653326486, -0.011724013451011928, -0.159008333320537, -0.06762616579023462, -0.09534956653636328, 0.005531315848870122, -0.004155249851481635, -0.0072652071483387815, -0.15356642928534203, -0.0660066668503303, -0.0651660102945888, -0.06804264577229002, 0.042547421513088324, 0.014745740672311491, -0.12343884211321976, -0.1578641663750231, -0.057120294133117255, -0.13182576452124417, -0.04714956932893877, -0.05861008147995417, -0.12042777218338152, -0.06381423154546706, -0.06787062526064336, -0.14446432524567054, -0.14817240424817424, -0.008249232155509212, 0.07390102655886643, -0.1329136452197055, -0.10310604893248154, -0.1409798301960361, 0.06543866905970219, -0.04568070228438437, -0.12769944724813787, -0.08346354338410578, -0.1836168077009832, -0.12418300493708578, -0.11051002026008927, -0.08497625337930081, -0.12406134482576459, -0.048499983229761234, 0.038430353395020767, -0.08271348015504021, -0.026909196794876244, -0.04657660114912776, -0.18433545194445156, -0.1009114854568427, -0.08641774543020286, -0.0610114772859518]}],                        {\"template\": {\"data\": {\"bar\": [{\"error_x\": {\"color\": \"#2a3f5f\"}, \"error_y\": {\"color\": \"#2a3f5f\"}, \"marker\": {\"line\": {\"color\": \"#E5ECF6\", \"width\": 0.5}}, \"type\": \"bar\"}], \"barpolar\": [{\"marker\": {\"line\": {\"color\": \"#E5ECF6\", \"width\": 0.5}}, \"type\": \"barpolar\"}], \"carpet\": [{\"aaxis\": {\"endlinecolor\": \"#2a3f5f\", \"gridcolor\": \"white\", \"linecolor\": \"white\", \"minorgridcolor\": \"white\", \"startlinecolor\": \"#2a3f5f\"}, \"baxis\": {\"endlinecolor\": \"#2a3f5f\", \"gridcolor\": \"white\", \"linecolor\": \"white\", \"minorgridcolor\": \"white\", \"startlinecolor\": \"#2a3f5f\"}, \"type\": \"carpet\"}], \"choropleth\": [{\"colorbar\": {\"outlinewidth\": 0, \"ticks\": \"\"}, \"type\": \"choropleth\"}], \"contour\": [{\"colorbar\": {\"outlinewidth\": 0, \"ticks\": \"\"}, \"colorscale\": [[0.0, \"#0d0887\"], [0.1111111111111111, \"#46039f\"], [0.2222222222222222, \"#7201a8\"], [0.3333333333333333, \"#9c179e\"], [0.4444444444444444, \"#bd3786\"], [0.5555555555555556, \"#d8576b\"], [0.6666666666666666, \"#ed7953\"], [0.7777777777777778, \"#fb9f3a\"], [0.8888888888888888, \"#fdca26\"], [1.0, \"#f0f921\"]], \"type\": \"contour\"}], \"contourcarpet\": [{\"colorbar\": {\"outlinewidth\": 0, \"ticks\": \"\"}, \"type\": \"contourcarpet\"}], \"heatmap\": [{\"colorbar\": {\"outlinewidth\": 0, \"ticks\": \"\"}, \"colorscale\": [[0.0, \"#0d0887\"], [0.1111111111111111, \"#46039f\"], [0.2222222222222222, \"#7201a8\"], [0.3333333333333333, \"#9c179e\"], [0.4444444444444444, \"#bd3786\"], [0.5555555555555556, \"#d8576b\"], [0.6666666666666666, \"#ed7953\"], [0.7777777777777778, \"#fb9f3a\"], [0.8888888888888888, \"#fdca26\"], [1.0, \"#f0f921\"]], \"type\": \"heatmap\"}], \"heatmapgl\": [{\"colorbar\": {\"outlinewidth\": 0, \"ticks\": \"\"}, \"colorscale\": [[0.0, \"#0d0887\"], [0.1111111111111111, \"#46039f\"], [0.2222222222222222, \"#7201a8\"], [0.3333333333333333, \"#9c179e\"], [0.4444444444444444, \"#bd3786\"], [0.5555555555555556, \"#d8576b\"], [0.6666666666666666, \"#ed7953\"], [0.7777777777777778, \"#fb9f3a\"], [0.8888888888888888, \"#fdca26\"], [1.0, \"#f0f921\"]], \"type\": \"heatmapgl\"}], \"histogram\": [{\"marker\": {\"colorbar\": {\"outlinewidth\": 0, \"ticks\": \"\"}}, \"type\": \"histogram\"}], \"histogram2d\": [{\"colorbar\": {\"outlinewidth\": 0, \"ticks\": \"\"}, \"colorscale\": [[0.0, \"#0d0887\"], [0.1111111111111111, \"#46039f\"], [0.2222222222222222, \"#7201a8\"], [0.3333333333333333, \"#9c179e\"], [0.4444444444444444, \"#bd3786\"], [0.5555555555555556, \"#d8576b\"], [0.6666666666666666, \"#ed7953\"], [0.7777777777777778, \"#fb9f3a\"], [0.8888888888888888, \"#fdca26\"], [1.0, \"#f0f921\"]], \"type\": \"histogram2d\"}], \"histogram2dcontour\": [{\"colorbar\": {\"outlinewidth\": 0, \"ticks\": \"\"}, \"colorscale\": [[0.0, \"#0d0887\"], [0.1111111111111111, \"#46039f\"], [0.2222222222222222, \"#7201a8\"], [0.3333333333333333, \"#9c179e\"], [0.4444444444444444, \"#bd3786\"], [0.5555555555555556, \"#d8576b\"], [0.6666666666666666, \"#ed7953\"], [0.7777777777777778, \"#fb9f3a\"], [0.8888888888888888, \"#fdca26\"], [1.0, \"#f0f921\"]], \"type\": \"histogram2dcontour\"}], \"mesh3d\": [{\"colorbar\": {\"outlinewidth\": 0, \"ticks\": \"\"}, \"type\": \"mesh3d\"}], \"parcoords\": [{\"line\": {\"colorbar\": {\"outlinewidth\": 0, \"ticks\": \"\"}}, \"type\": \"parcoords\"}], \"pie\": [{\"automargin\": true, \"type\": \"pie\"}], \"scatter\": [{\"marker\": {\"colorbar\": {\"outlinewidth\": 0, \"ticks\": \"\"}}, \"type\": \"scatter\"}], \"scatter3d\": [{\"line\": {\"colorbar\": {\"outlinewidth\": 0, \"ticks\": \"\"}}, \"marker\": {\"colorbar\": {\"outlinewidth\": 0, \"ticks\": \"\"}}, \"type\": \"scatter3d\"}], \"scattercarpet\": [{\"marker\": {\"colorbar\": {\"outlinewidth\": 0, \"ticks\": \"\"}}, \"type\": \"scattercarpet\"}], \"scattergeo\": [{\"marker\": {\"colorbar\": {\"outlinewidth\": 0, \"ticks\": \"\"}}, \"type\": \"scattergeo\"}], \"scattergl\": [{\"marker\": {\"colorbar\": {\"outlinewidth\": 0, \"ticks\": \"\"}}, \"type\": \"scattergl\"}], \"scattermapbox\": [{\"marker\": {\"colorbar\": {\"outlinewidth\": 0, \"ticks\": \"\"}}, \"type\": \"scattermapbox\"}], \"scatterpolar\": [{\"marker\": {\"colorbar\": {\"outlinewidth\": 0, \"ticks\": \"\"}}, \"type\": \"scatterpolar\"}], \"scatterpolargl\": [{\"marker\": {\"colorbar\": {\"outlinewidth\": 0, \"ticks\": \"\"}}, \"type\": \"scatterpolargl\"}], \"scatterternary\": [{\"marker\": {\"colorbar\": {\"outlinewidth\": 0, \"ticks\": \"\"}}, \"type\": \"scatterternary\"}], \"surface\": [{\"colorbar\": {\"outlinewidth\": 0, \"ticks\": \"\"}, \"colorscale\": [[0.0, \"#0d0887\"], [0.1111111111111111, \"#46039f\"], [0.2222222222222222, \"#7201a8\"], [0.3333333333333333, \"#9c179e\"], [0.4444444444444444, \"#bd3786\"], [0.5555555555555556, \"#d8576b\"], [0.6666666666666666, \"#ed7953\"], [0.7777777777777778, \"#fb9f3a\"], [0.8888888888888888, \"#fdca26\"], [1.0, \"#f0f921\"]], \"type\": \"surface\"}], \"table\": [{\"cells\": {\"fill\": {\"color\": \"#EBF0F8\"}, \"line\": {\"color\": \"white\"}}, \"header\": {\"fill\": {\"color\": \"#C8D4E3\"}, \"line\": {\"color\": \"white\"}}, \"type\": \"table\"}]}, \"layout\": {\"annotationdefaults\": {\"arrowcolor\": \"#2a3f5f\", \"arrowhead\": 0, \"arrowwidth\": 1}, \"autotypenumbers\": \"strict\", \"coloraxis\": {\"colorbar\": {\"outlinewidth\": 0, \"ticks\": \"\"}}, \"colorscale\": {\"diverging\": [[0, \"#8e0152\"], [0.1, \"#c51b7d\"], [0.2, \"#de77ae\"], [0.3, \"#f1b6da\"], [0.4, \"#fde0ef\"], [0.5, \"#f7f7f7\"], [0.6, \"#e6f5d0\"], [0.7, \"#b8e186\"], [0.8, \"#7fbc41\"], [0.9, \"#4d9221\"], [1, \"#276419\"]], \"sequential\": [[0.0, \"#0d0887\"], [0.1111111111111111, \"#46039f\"], [0.2222222222222222, \"#7201a8\"], [0.3333333333333333, \"#9c179e\"], [0.4444444444444444, \"#bd3786\"], [0.5555555555555556, \"#d8576b\"], [0.6666666666666666, \"#ed7953\"], [0.7777777777777778, \"#fb9f3a\"], [0.8888888888888888, \"#fdca26\"], [1.0, \"#f0f921\"]], \"sequentialminus\": [[0.0, \"#0d0887\"], [0.1111111111111111, \"#46039f\"], [0.2222222222222222, \"#7201a8\"], [0.3333333333333333, \"#9c179e\"], [0.4444444444444444, \"#bd3786\"], [0.5555555555555556, \"#d8576b\"], [0.6666666666666666, \"#ed7953\"], [0.7777777777777778, \"#fb9f3a\"], [0.8888888888888888, \"#fdca26\"], [1.0, \"#f0f921\"]]}, \"colorway\": [\"#636efa\", \"#EF553B\", \"#00cc96\", \"#ab63fa\", \"#FFA15A\", \"#19d3f3\", \"#FF6692\", \"#B6E880\", \"#FF97FF\", \"#FECB52\"], \"font\": {\"color\": \"#2a3f5f\"}, \"geo\": {\"bgcolor\": \"white\", \"lakecolor\": \"white\", \"landcolor\": \"#E5ECF6\", \"showlakes\": true, \"showland\": true, \"subunitcolor\": \"white\"}, \"hoverlabel\": {\"align\": \"left\"}, \"hovermode\": \"closest\", \"mapbox\": {\"style\": \"light\"}, \"paper_bgcolor\": \"white\", \"plot_bgcolor\": \"#E5ECF6\", \"polar\": {\"angularaxis\": {\"gridcolor\": \"white\", \"linecolor\": \"white\", \"ticks\": \"\"}, \"bgcolor\": \"#E5ECF6\", \"radialaxis\": {\"gridcolor\": \"white\", \"linecolor\": \"white\", \"ticks\": \"\"}}, \"scene\": {\"xaxis\": {\"backgroundcolor\": \"#E5ECF6\", \"gridcolor\": \"white\", \"gridwidth\": 2, \"linecolor\": \"white\", \"showbackground\": true, \"ticks\": \"\", \"zerolinecolor\": \"white\"}, \"yaxis\": {\"backgroundcolor\": \"#E5ECF6\", \"gridcolor\": \"white\", \"gridwidth\": 2, \"linecolor\": \"white\", \"showbackground\": true, \"ticks\": \"\", \"zerolinecolor\": \"white\"}, \"zaxis\": {\"backgroundcolor\": \"#E5ECF6\", \"gridcolor\": \"white\", \"gridwidth\": 2, \"linecolor\": \"white\", \"showbackground\": true, \"ticks\": \"\", \"zerolinecolor\": \"white\"}}, \"shapedefaults\": {\"line\": {\"color\": \"#2a3f5f\"}}, \"ternary\": {\"aaxis\": {\"gridcolor\": \"white\", \"linecolor\": \"white\", \"ticks\": \"\"}, \"baxis\": {\"gridcolor\": \"white\", \"linecolor\": \"white\", \"ticks\": \"\"}, \"bgcolor\": \"#E5ECF6\", \"caxis\": {\"gridcolor\": \"white\", \"linecolor\": \"white\", \"ticks\": \"\"}}, \"title\": {\"x\": 0.05}, \"xaxis\": {\"automargin\": true, \"gridcolor\": \"white\", \"linecolor\": \"white\", \"ticks\": \"\", \"title\": {\"standoff\": 15}, \"zerolinecolor\": \"white\", \"zerolinewidth\": 2}, \"yaxis\": {\"automargin\": true, \"gridcolor\": \"white\", \"linecolor\": \"white\", \"ticks\": \"\", \"title\": {\"standoff\": 15}, \"zerolinecolor\": \"white\", \"zerolinewidth\": 2}}}},                        {\"responsive\": true}                    ).then(function(){\n",
       "                            \n",
       "var gd = document.getElementById('c3ec8ab0-8800-4d2c-a399-60d07ef675fa');\n",
       "var x = new MutationObserver(function (mutations, observer) {{\n",
       "        var display = window.getComputedStyle(gd).display;\n",
       "        if (!display || display === 'none') {{\n",
       "            console.log([gd, 'removed!']);\n",
       "            Plotly.purge(gd);\n",
       "            observer.disconnect();\n",
       "        }}\n",
       "}});\n",
       "\n",
       "// Listen for the removal of the full notebook cells\n",
       "var notebookContainer = gd.closest('#notebook-container');\n",
       "if (notebookContainer) {{\n",
       "    x.observe(notebookContainer, {childList: true});\n",
       "}}\n",
       "\n",
       "// Listen for the clearing of the current output cell\n",
       "var outputEl = gd.closest('.output');\n",
       "if (outputEl) {{\n",
       "    x.observe(outputEl, {childList: true});\n",
       "}}\n",
       "\n",
       "                        })                };                });            </script>        </div>"
      ]
     },
     "metadata": {},
     "output_type": "display_data"
    }
   ],
   "source": [
    "# Run Probabilstic RVEA (fast)\n",
    "max_func_evals = 5000\n",
    "\n",
    "evolver_opt = ProbRVEA_v3(problem, use_surrogates=True, n_gen_per_iter=10, total_function_evaluations=max_func_evals)\n",
    "while evolver_opt.continue_evolution():\n",
    "        evolver_opt.iterate()\n",
    "        print(\"FE count:\",evolver_opt._function_evaluation_count)\n",
    "objectives = evolver_opt.population.objectives\n",
    "fig1 = go.Figure(data=go.Scatter3d(x=objectives[:,0],y=objectives[:,1],z=objectives[:,2], mode=\"markers\"))\n",
    "fig1"
   ]
  },
  {
   "cell_type": "code",
   "execution_count": 11,
   "metadata": {
    "tags": []
   },
   "outputs": [
    {
     "name": "stdout",
     "output_type": "stream",
     "text": [
      "FE count: 529\n",
      "FE count: 1345\n",
      "FE count: 2327\n",
      "FE count: 3325\n",
      "FE count: 4341\n",
      "FE count: 5047\n"
     ]
    },
    {
     "data": {
      "application/vnd.plotly.v1+json": {
       "config": {
        "plotlyServerURL": "https://plot.ly"
       },
       "data": [
        {
         "mode": "markers",
         "type": "scatter3d",
         "x": [
          -0.011557171335315086,
          -0.014755771740906809,
          -0.048658700154109,
          -0.1202924988986056,
          -0.16120069133624293,
          -0.06076066422910609,
          -0.08361728224715215,
          -0.10735483244960209,
          0.050189318300695174,
          -0.14752521119999562,
          0.007747925133811062,
          -0.06387751649814266,
          0.012117039863956958,
          -0.036848681888467016,
          0.13115305774517294,
          0.020669782173841078,
          -0.07732639585671919,
          -0.06457491429169959,
          -0.03704183330650235,
          -0.12686846008857788,
          0.04571478846639021,
          -0.16289405620165143,
          0.07163108830778642,
          0.04648744793519288,
          0.019663616108130277,
          0.09109620237211491,
          -0.03123579523725528,
          0.03315056629954993,
          -0.09067985461398509,
          0.13973551362261682,
          0.055129233963937097,
          0.011616880768201998,
          -0.030547077370985498,
          -0.08728250424040462,
          -0.026859790670636485,
          0.06336205349814428,
          -0.0465548430965379,
          -0.08184730465402223,
          -0.10970019869043934,
          -0.0058204715679197605,
          0.04344694727870291,
          0.02351246713404409,
          0.10788875582520818,
          -0.09465050167430356,
          -0.007477394860331721,
          0.027628777292075135,
          0.01366100625887956,
          0.003459564032953555,
          0.03894107076300912,
          -0.07996714678860872,
          0.025597939075980847,
          0.08829184275304502,
          -0.10400702936601913,
          -0.004577679324649253,
          0.08410371184210952,
          0.11736763753472435,
          0.06543572241963647,
          0.05912349164742503,
          -0.04065479432151031,
          0.012926566662821326,
          -0.11498246908523146,
          -0.1304359815084668,
          -0.12559453902598117,
          -0.01841215033250254,
          -0.028087604310936598,
          0.05337776123725746,
          -0.04475409393657781,
          0.034858505425818365,
          0.035318301763360704,
          -0.16109729874475454,
          0.10195818038005866,
          -0.062024682059845127,
          0.10322623991236135,
          0.03771488022295966,
          -0.06782435730142788,
          -0.07639805943812794,
          0.07566055865612498,
          0.11504822310598506,
          -0.05623415774430285,
          0.04200656933721669,
          -0.0747252673292298,
          0.11078053511966468,
          0.029070432773218968,
          0.14153070485153707,
          -0.0010535103231363863,
          -0.1296536083122195,
          0.026152170587508294,
          -0.018290522731905234,
          -0.004390964916860529,
          -0.03596507412117411,
          0.07702521974800813,
          0.10233340879483199,
          -0.08725379232077879,
          -0.10327607469070843,
          0.01660746039725547,
          0.10189555726068322,
          -0.11191463703841809,
          -0.05227454689352884,
          0.1373754701442138,
          -0.16421471443657865,
          0.06305746796497758,
          0.004818540362895085
         ],
         "y": [
          -0.0881599960954913,
          0.10704501560844748,
          -0.06589405345381705,
          0.08543201488264573,
          0.3355783249796782,
          0.11477923898510389,
          0.2755939630975526,
          0.10812237489603671,
          0.02627777444345969,
          0.2563224713953194,
          0.21532972149611118,
          0.36190095361950436,
          0.28661956317987003,
          0.004434261891986591,
          -0.14538652358306137,
          0.2930284269326704,
          0.25653487714487544,
          0.03965872620842115,
          0.022115563582108422,
          0.29736681511477747,
          -0.02679413898704941,
          0.4061651686272518,
          -0.1686563559501868,
          0.13317052947835295,
          0.13177162376407914,
          0.19752236047534022,
          0.2896234807100664,
          -0.02730141904751937,
          0.3916135112060011,
          -0.10665832329339797,
          -0.01092083140438982,
          -0.11526720025652404,
          -0.031906747914610234,
          0.08447318426618922,
          0.18827837478912812,
          0.05665499862207546,
          0.3863792977753415,
          0.05462699667457138,
          0.4358903881329046,
          0.004735018391896606,
          -0.10855036036266452,
          -0.07679834514333406,
          -0.0872606758509471,
          0.2923357540077587,
          0.28340502995900585,
          0.1730367041434302,
          0.0557205788233468,
          0.1811693131221539,
          -0.030634274422960628,
          0.3242008462662751,
          0.22242200346862018,
          -0.08494368641614125,
          0.24368283213231123,
          0.15332330924281634,
          0.09959549377016153,
          -0.05804211163848083,
          0.16188013845466576,
          0.12256303445156513,
          -0.010395610362896823,
          0.18755494862434197,
          0.18078231558111835,
          0.23793119325640455,
          0.396101987451287,
          0.16505816454198374,
          0.09727827664238897,
          0.016855395048348987,
          0.29195179516849823,
          0.041851450205848684,
          -0.08136759739644428,
          0.4033954740307548,
          -0.11270435405675783,
          0.18440080432997008,
          -0.0016767784623683557,
          0.03962757793928229,
          -0.00008570016905795619,
          0.1891406053584146,
          -0.033106966526237125,
          -0.0146327500158705,
          0.0030458003237121556,
          -0.08543418807623748,
          0.11511074222343765,
          -0.006606290629479261,
          -0.007499316098625419,
          0.07598642611508666,
          0.15688317479127445,
          0.11606430509852261,
          0.11244320687745413,
          0.3196516759297299,
          -0.038080458107607296,
          0.2045222785330214,
          -0.16864042239026156,
          -0.15570198238169874,
          0.3854392280161716,
          0.0990346975660592,
          0.04684394873263731,
          -0.09727510583091892,
          0.28475041139405266,
          0.2762715244387599,
          0.16056933631099213,
          0.3796532413228013,
          0.19692752844415073,
          -0.0012652629552414307
         ],
         "z": [
          -0.10397872338851188,
          -0.03406972764925342,
          -0.022058865387450943,
          -0.03554281047162622,
          -0.06085509125798483,
          0.04487371775182236,
          -0.08585920603163988,
          -0.10034189956232131,
          -0.18209858916787125,
          -0.03783987867233218,
          -0.19512575558626688,
          -0.17272735962956398,
          -0.20580457118113227,
          -0.12779680534574167,
          0.0514512206324631,
          -0.16221905428861838,
          -0.03865489785073084,
          -0.05006945422728393,
          -0.15486360409890398,
          -0.0907941308139728,
          -0.17393323272509287,
          -0.06837133576241428,
          -0.04692408484454447,
          -0.1505334611364324,
          -0.10562826373203649,
          -0.2051340353363691,
          -0.19171575562223486,
          -0.1481954408852344,
          -0.1558602145311685,
          -0.13239326730878487,
          -0.01331604888253679,
          -0.05353860964187129,
          -0.09456034217146003,
          -0.08287687645127084,
          -0.12817188248506017,
          -0.1147194987461555,
          -0.1270081910776435,
          -0.007880796506502197,
          -0.10581844284872677,
          -0.13983201874210005,
          -0.08960643497217058,
          -0.12278738719807247,
          -0.14470539657514525,
          -0.1283210346556709,
          -0.1474809826551855,
          -0.18234808360629273,
          0.015572331982181886,
          -0.15760339103014376,
          -0.0061173263704872305,
          -0.10499169698557154,
          -0.1293111109419609,
          0.0858510002317896,
          -0.002419607375590438,
          -0.08109600408277196,
          -0.1548267167335533,
          0.008450025891002966,
          -0.21335458341989622,
          -0.18583518879374328,
          -0.06539285112410376,
          -0.20832460341061543,
          -0.11824535489781107,
          -0.06381050841251135,
          -0.11820670698249192,
          -0.03858124687948372,
          -0.001302040873184751,
          -0.13937345038439375,
          -0.10010452210348397,
          -0.08578561225505332,
          -0.15427365210111343,
          -0.08248586285455017,
          -0.08561601555356013,
          0.002273607880847628,
          -0.059206224482703185,
          -0.0466883605699433,
          -0.025363219725340613,
          -0.13678751610813222,
          -0.012023418902010974,
          -0.12460283632791569,
          -0.10696286562626689,
          0.011298456404611468,
          -0.11040031211441459,
          -0.179632636584655,
          -0.09176746834064353,
          -0.14904475189196287,
          -0.09188513122551267,
          -0.04780589571774474,
          -0.07555525940312258,
          -0.1729097697219153,
          -0.005085389955066244,
          -0.08061102828951316,
          -0.07441632178663404,
          -0.0075272858612676075,
          -0.159106063130106,
          -0.05802531430476021,
          -0.18715537233394341,
          -0.06673698310852494,
          -0.04407955459413726,
          -0.14064001649492663,
          -0.19874675736222436,
          -0.03523710933092605,
          -0.17926238676749762,
          -0.16223063176053154
         ]
        }
       ],
       "layout": {
        "template": {
         "data": {
          "bar": [
           {
            "error_x": {
             "color": "#2a3f5f"
            },
            "error_y": {
             "color": "#2a3f5f"
            },
            "marker": {
             "line": {
              "color": "#E5ECF6",
              "width": 0.5
             }
            },
            "type": "bar"
           }
          ],
          "barpolar": [
           {
            "marker": {
             "line": {
              "color": "#E5ECF6",
              "width": 0.5
             }
            },
            "type": "barpolar"
           }
          ],
          "carpet": [
           {
            "aaxis": {
             "endlinecolor": "#2a3f5f",
             "gridcolor": "white",
             "linecolor": "white",
             "minorgridcolor": "white",
             "startlinecolor": "#2a3f5f"
            },
            "baxis": {
             "endlinecolor": "#2a3f5f",
             "gridcolor": "white",
             "linecolor": "white",
             "minorgridcolor": "white",
             "startlinecolor": "#2a3f5f"
            },
            "type": "carpet"
           }
          ],
          "choropleth": [
           {
            "colorbar": {
             "outlinewidth": 0,
             "ticks": ""
            },
            "type": "choropleth"
           }
          ],
          "contour": [
           {
            "colorbar": {
             "outlinewidth": 0,
             "ticks": ""
            },
            "colorscale": [
             [
              0,
              "#0d0887"
             ],
             [
              0.1111111111111111,
              "#46039f"
             ],
             [
              0.2222222222222222,
              "#7201a8"
             ],
             [
              0.3333333333333333,
              "#9c179e"
             ],
             [
              0.4444444444444444,
              "#bd3786"
             ],
             [
              0.5555555555555556,
              "#d8576b"
             ],
             [
              0.6666666666666666,
              "#ed7953"
             ],
             [
              0.7777777777777778,
              "#fb9f3a"
             ],
             [
              0.8888888888888888,
              "#fdca26"
             ],
             [
              1,
              "#f0f921"
             ]
            ],
            "type": "contour"
           }
          ],
          "contourcarpet": [
           {
            "colorbar": {
             "outlinewidth": 0,
             "ticks": ""
            },
            "type": "contourcarpet"
           }
          ],
          "heatmap": [
           {
            "colorbar": {
             "outlinewidth": 0,
             "ticks": ""
            },
            "colorscale": [
             [
              0,
              "#0d0887"
             ],
             [
              0.1111111111111111,
              "#46039f"
             ],
             [
              0.2222222222222222,
              "#7201a8"
             ],
             [
              0.3333333333333333,
              "#9c179e"
             ],
             [
              0.4444444444444444,
              "#bd3786"
             ],
             [
              0.5555555555555556,
              "#d8576b"
             ],
             [
              0.6666666666666666,
              "#ed7953"
             ],
             [
              0.7777777777777778,
              "#fb9f3a"
             ],
             [
              0.8888888888888888,
              "#fdca26"
             ],
             [
              1,
              "#f0f921"
             ]
            ],
            "type": "heatmap"
           }
          ],
          "heatmapgl": [
           {
            "colorbar": {
             "outlinewidth": 0,
             "ticks": ""
            },
            "colorscale": [
             [
              0,
              "#0d0887"
             ],
             [
              0.1111111111111111,
              "#46039f"
             ],
             [
              0.2222222222222222,
              "#7201a8"
             ],
             [
              0.3333333333333333,
              "#9c179e"
             ],
             [
              0.4444444444444444,
              "#bd3786"
             ],
             [
              0.5555555555555556,
              "#d8576b"
             ],
             [
              0.6666666666666666,
              "#ed7953"
             ],
             [
              0.7777777777777778,
              "#fb9f3a"
             ],
             [
              0.8888888888888888,
              "#fdca26"
             ],
             [
              1,
              "#f0f921"
             ]
            ],
            "type": "heatmapgl"
           }
          ],
          "histogram": [
           {
            "marker": {
             "colorbar": {
              "outlinewidth": 0,
              "ticks": ""
             }
            },
            "type": "histogram"
           }
          ],
          "histogram2d": [
           {
            "colorbar": {
             "outlinewidth": 0,
             "ticks": ""
            },
            "colorscale": [
             [
              0,
              "#0d0887"
             ],
             [
              0.1111111111111111,
              "#46039f"
             ],
             [
              0.2222222222222222,
              "#7201a8"
             ],
             [
              0.3333333333333333,
              "#9c179e"
             ],
             [
              0.4444444444444444,
              "#bd3786"
             ],
             [
              0.5555555555555556,
              "#d8576b"
             ],
             [
              0.6666666666666666,
              "#ed7953"
             ],
             [
              0.7777777777777778,
              "#fb9f3a"
             ],
             [
              0.8888888888888888,
              "#fdca26"
             ],
             [
              1,
              "#f0f921"
             ]
            ],
            "type": "histogram2d"
           }
          ],
          "histogram2dcontour": [
           {
            "colorbar": {
             "outlinewidth": 0,
             "ticks": ""
            },
            "colorscale": [
             [
              0,
              "#0d0887"
             ],
             [
              0.1111111111111111,
              "#46039f"
             ],
             [
              0.2222222222222222,
              "#7201a8"
             ],
             [
              0.3333333333333333,
              "#9c179e"
             ],
             [
              0.4444444444444444,
              "#bd3786"
             ],
             [
              0.5555555555555556,
              "#d8576b"
             ],
             [
              0.6666666666666666,
              "#ed7953"
             ],
             [
              0.7777777777777778,
              "#fb9f3a"
             ],
             [
              0.8888888888888888,
              "#fdca26"
             ],
             [
              1,
              "#f0f921"
             ]
            ],
            "type": "histogram2dcontour"
           }
          ],
          "mesh3d": [
           {
            "colorbar": {
             "outlinewidth": 0,
             "ticks": ""
            },
            "type": "mesh3d"
           }
          ],
          "parcoords": [
           {
            "line": {
             "colorbar": {
              "outlinewidth": 0,
              "ticks": ""
             }
            },
            "type": "parcoords"
           }
          ],
          "pie": [
           {
            "automargin": true,
            "type": "pie"
           }
          ],
          "scatter": [
           {
            "marker": {
             "colorbar": {
              "outlinewidth": 0,
              "ticks": ""
             }
            },
            "type": "scatter"
           }
          ],
          "scatter3d": [
           {
            "line": {
             "colorbar": {
              "outlinewidth": 0,
              "ticks": ""
             }
            },
            "marker": {
             "colorbar": {
              "outlinewidth": 0,
              "ticks": ""
             }
            },
            "type": "scatter3d"
           }
          ],
          "scattercarpet": [
           {
            "marker": {
             "colorbar": {
              "outlinewidth": 0,
              "ticks": ""
             }
            },
            "type": "scattercarpet"
           }
          ],
          "scattergeo": [
           {
            "marker": {
             "colorbar": {
              "outlinewidth": 0,
              "ticks": ""
             }
            },
            "type": "scattergeo"
           }
          ],
          "scattergl": [
           {
            "marker": {
             "colorbar": {
              "outlinewidth": 0,
              "ticks": ""
             }
            },
            "type": "scattergl"
           }
          ],
          "scattermapbox": [
           {
            "marker": {
             "colorbar": {
              "outlinewidth": 0,
              "ticks": ""
             }
            },
            "type": "scattermapbox"
           }
          ],
          "scatterpolar": [
           {
            "marker": {
             "colorbar": {
              "outlinewidth": 0,
              "ticks": ""
             }
            },
            "type": "scatterpolar"
           }
          ],
          "scatterpolargl": [
           {
            "marker": {
             "colorbar": {
              "outlinewidth": 0,
              "ticks": ""
             }
            },
            "type": "scatterpolargl"
           }
          ],
          "scatterternary": [
           {
            "marker": {
             "colorbar": {
              "outlinewidth": 0,
              "ticks": ""
             }
            },
            "type": "scatterternary"
           }
          ],
          "surface": [
           {
            "colorbar": {
             "outlinewidth": 0,
             "ticks": ""
            },
            "colorscale": [
             [
              0,
              "#0d0887"
             ],
             [
              0.1111111111111111,
              "#46039f"
             ],
             [
              0.2222222222222222,
              "#7201a8"
             ],
             [
              0.3333333333333333,
              "#9c179e"
             ],
             [
              0.4444444444444444,
              "#bd3786"
             ],
             [
              0.5555555555555556,
              "#d8576b"
             ],
             [
              0.6666666666666666,
              "#ed7953"
             ],
             [
              0.7777777777777778,
              "#fb9f3a"
             ],
             [
              0.8888888888888888,
              "#fdca26"
             ],
             [
              1,
              "#f0f921"
             ]
            ],
            "type": "surface"
           }
          ],
          "table": [
           {
            "cells": {
             "fill": {
              "color": "#EBF0F8"
             },
             "line": {
              "color": "white"
             }
            },
            "header": {
             "fill": {
              "color": "#C8D4E3"
             },
             "line": {
              "color": "white"
             }
            },
            "type": "table"
           }
          ]
         },
         "layout": {
          "annotationdefaults": {
           "arrowcolor": "#2a3f5f",
           "arrowhead": 0,
           "arrowwidth": 1
          },
          "autotypenumbers": "strict",
          "coloraxis": {
           "colorbar": {
            "outlinewidth": 0,
            "ticks": ""
           }
          },
          "colorscale": {
           "diverging": [
            [
             0,
             "#8e0152"
            ],
            [
             0.1,
             "#c51b7d"
            ],
            [
             0.2,
             "#de77ae"
            ],
            [
             0.3,
             "#f1b6da"
            ],
            [
             0.4,
             "#fde0ef"
            ],
            [
             0.5,
             "#f7f7f7"
            ],
            [
             0.6,
             "#e6f5d0"
            ],
            [
             0.7,
             "#b8e186"
            ],
            [
             0.8,
             "#7fbc41"
            ],
            [
             0.9,
             "#4d9221"
            ],
            [
             1,
             "#276419"
            ]
           ],
           "sequential": [
            [
             0,
             "#0d0887"
            ],
            [
             0.1111111111111111,
             "#46039f"
            ],
            [
             0.2222222222222222,
             "#7201a8"
            ],
            [
             0.3333333333333333,
             "#9c179e"
            ],
            [
             0.4444444444444444,
             "#bd3786"
            ],
            [
             0.5555555555555556,
             "#d8576b"
            ],
            [
             0.6666666666666666,
             "#ed7953"
            ],
            [
             0.7777777777777778,
             "#fb9f3a"
            ],
            [
             0.8888888888888888,
             "#fdca26"
            ],
            [
             1,
             "#f0f921"
            ]
           ],
           "sequentialminus": [
            [
             0,
             "#0d0887"
            ],
            [
             0.1111111111111111,
             "#46039f"
            ],
            [
             0.2222222222222222,
             "#7201a8"
            ],
            [
             0.3333333333333333,
             "#9c179e"
            ],
            [
             0.4444444444444444,
             "#bd3786"
            ],
            [
             0.5555555555555556,
             "#d8576b"
            ],
            [
             0.6666666666666666,
             "#ed7953"
            ],
            [
             0.7777777777777778,
             "#fb9f3a"
            ],
            [
             0.8888888888888888,
             "#fdca26"
            ],
            [
             1,
             "#f0f921"
            ]
           ]
          },
          "colorway": [
           "#636efa",
           "#EF553B",
           "#00cc96",
           "#ab63fa",
           "#FFA15A",
           "#19d3f3",
           "#FF6692",
           "#B6E880",
           "#FF97FF",
           "#FECB52"
          ],
          "font": {
           "color": "#2a3f5f"
          },
          "geo": {
           "bgcolor": "white",
           "lakecolor": "white",
           "landcolor": "#E5ECF6",
           "showlakes": true,
           "showland": true,
           "subunitcolor": "white"
          },
          "hoverlabel": {
           "align": "left"
          },
          "hovermode": "closest",
          "mapbox": {
           "style": "light"
          },
          "paper_bgcolor": "white",
          "plot_bgcolor": "#E5ECF6",
          "polar": {
           "angularaxis": {
            "gridcolor": "white",
            "linecolor": "white",
            "ticks": ""
           },
           "bgcolor": "#E5ECF6",
           "radialaxis": {
            "gridcolor": "white",
            "linecolor": "white",
            "ticks": ""
           }
          },
          "scene": {
           "xaxis": {
            "backgroundcolor": "#E5ECF6",
            "gridcolor": "white",
            "gridwidth": 2,
            "linecolor": "white",
            "showbackground": true,
            "ticks": "",
            "zerolinecolor": "white"
           },
           "yaxis": {
            "backgroundcolor": "#E5ECF6",
            "gridcolor": "white",
            "gridwidth": 2,
            "linecolor": "white",
            "showbackground": true,
            "ticks": "",
            "zerolinecolor": "white"
           },
           "zaxis": {
            "backgroundcolor": "#E5ECF6",
            "gridcolor": "white",
            "gridwidth": 2,
            "linecolor": "white",
            "showbackground": true,
            "ticks": "",
            "zerolinecolor": "white"
           }
          },
          "shapedefaults": {
           "line": {
            "color": "#2a3f5f"
           }
          },
          "ternary": {
           "aaxis": {
            "gridcolor": "white",
            "linecolor": "white",
            "ticks": ""
           },
           "baxis": {
            "gridcolor": "white",
            "linecolor": "white",
            "ticks": ""
           },
           "bgcolor": "#E5ECF6",
           "caxis": {
            "gridcolor": "white",
            "linecolor": "white",
            "ticks": ""
           }
          },
          "title": {
           "x": 0.05
          },
          "xaxis": {
           "automargin": true,
           "gridcolor": "white",
           "linecolor": "white",
           "ticks": "",
           "title": {
            "standoff": 15
           },
           "zerolinecolor": "white",
           "zerolinewidth": 2
          },
          "yaxis": {
           "automargin": true,
           "gridcolor": "white",
           "linecolor": "white",
           "ticks": "",
           "title": {
            "standoff": 15
           },
           "zerolinecolor": "white",
           "zerolinewidth": 2
          }
         }
        }
       }
      },
      "text/html": [
       "<div>                            <div id=\"f230a76c-262a-4570-b9ce-f595d95e46a7\" class=\"plotly-graph-div\" style=\"height:525px; width:100%;\"></div>            <script type=\"text/javascript\">                require([\"plotly\"], function(Plotly) {                    window.PLOTLYENV=window.PLOTLYENV || {};                                    if (document.getElementById(\"f230a76c-262a-4570-b9ce-f595d95e46a7\")) {                    Plotly.newPlot(                        \"f230a76c-262a-4570-b9ce-f595d95e46a7\",                        [{\"mode\": \"markers\", \"type\": \"scatter3d\", \"x\": [-0.011557171335315086, -0.014755771740906809, -0.048658700154109, -0.1202924988986056, -0.16120069133624293, -0.06076066422910609, -0.08361728224715215, -0.10735483244960209, 0.050189318300695174, -0.14752521119999562, 0.007747925133811062, -0.06387751649814266, 0.012117039863956958, -0.036848681888467016, 0.13115305774517294, 0.020669782173841078, -0.07732639585671919, -0.06457491429169959, -0.03704183330650235, -0.12686846008857788, 0.04571478846639021, -0.16289405620165143, 0.07163108830778642, 0.04648744793519288, 0.019663616108130277, 0.09109620237211491, -0.03123579523725528, 0.03315056629954993, -0.09067985461398509, 0.13973551362261682, 0.055129233963937097, 0.011616880768201998, -0.030547077370985498, -0.08728250424040462, -0.026859790670636485, 0.06336205349814428, -0.0465548430965379, -0.08184730465402223, -0.10970019869043934, -0.0058204715679197605, 0.04344694727870291, 0.02351246713404409, 0.10788875582520818, -0.09465050167430356, -0.007477394860331721, 0.027628777292075135, 0.01366100625887956, 0.003459564032953555, 0.03894107076300912, -0.07996714678860872, 0.025597939075980847, 0.08829184275304502, -0.10400702936601913, -0.004577679324649253, 0.08410371184210952, 0.11736763753472435, 0.06543572241963647, 0.05912349164742503, -0.04065479432151031, 0.012926566662821326, -0.11498246908523146, -0.1304359815084668, -0.12559453902598117, -0.01841215033250254, -0.028087604310936598, 0.05337776123725746, -0.04475409393657781, 0.034858505425818365, 0.035318301763360704, -0.16109729874475454, 0.10195818038005866, -0.062024682059845127, 0.10322623991236135, 0.03771488022295966, -0.06782435730142788, -0.07639805943812794, 0.07566055865612498, 0.11504822310598506, -0.05623415774430285, 0.04200656933721669, -0.0747252673292298, 0.11078053511966468, 0.029070432773218968, 0.14153070485153707, -0.0010535103231363863, -0.1296536083122195, 0.026152170587508294, -0.018290522731905234, -0.004390964916860529, -0.03596507412117411, 0.07702521974800813, 0.10233340879483199, -0.08725379232077879, -0.10327607469070843, 0.01660746039725547, 0.10189555726068322, -0.11191463703841809, -0.05227454689352884, 0.1373754701442138, -0.16421471443657865, 0.06305746796497758, 0.004818540362895085], \"y\": [-0.0881599960954913, 0.10704501560844748, -0.06589405345381705, 0.08543201488264573, 0.3355783249796782, 0.11477923898510389, 0.2755939630975526, 0.10812237489603671, 0.02627777444345969, 0.2563224713953194, 0.21532972149611118, 0.36190095361950436, 0.28661956317987003, 0.004434261891986591, -0.14538652358306137, 0.2930284269326704, 0.25653487714487544, 0.03965872620842115, 0.022115563582108422, 0.29736681511477747, -0.02679413898704941, 0.4061651686272518, -0.1686563559501868, 0.13317052947835295, 0.13177162376407914, 0.19752236047534022, 0.2896234807100664, -0.02730141904751937, 0.3916135112060011, -0.10665832329339797, -0.01092083140438982, -0.11526720025652404, -0.031906747914610234, 0.08447318426618922, 0.18827837478912812, 0.05665499862207546, 0.3863792977753415, 0.05462699667457138, 0.4358903881329046, 0.004735018391896606, -0.10855036036266452, -0.07679834514333406, -0.0872606758509471, 0.2923357540077587, 0.28340502995900585, 0.1730367041434302, 0.0557205788233468, 0.1811693131221539, -0.030634274422960628, 0.3242008462662751, 0.22242200346862018, -0.08494368641614125, 0.24368283213231123, 0.15332330924281634, 0.09959549377016153, -0.05804211163848083, 0.16188013845466576, 0.12256303445156513, -0.010395610362896823, 0.18755494862434197, 0.18078231558111835, 0.23793119325640455, 0.396101987451287, 0.16505816454198374, 0.09727827664238897, 0.016855395048348987, 0.29195179516849823, 0.041851450205848684, -0.08136759739644428, 0.4033954740307548, -0.11270435405675783, 0.18440080432997008, -0.0016767784623683557, 0.03962757793928229, -8.570016905795619e-05, 0.1891406053584146, -0.033106966526237125, -0.0146327500158705, 0.0030458003237121556, -0.08543418807623748, 0.11511074222343765, -0.006606290629479261, -0.007499316098625419, 0.07598642611508666, 0.15688317479127445, 0.11606430509852261, 0.11244320687745413, 0.3196516759297299, -0.038080458107607296, 0.2045222785330214, -0.16864042239026156, -0.15570198238169874, 0.3854392280161716, 0.0990346975660592, 0.04684394873263731, -0.09727510583091892, 0.28475041139405266, 0.2762715244387599, 0.16056933631099213, 0.3796532413228013, 0.19692752844415073, -0.0012652629552414307], \"z\": [-0.10397872338851188, -0.03406972764925342, -0.022058865387450943, -0.03554281047162622, -0.06085509125798483, 0.04487371775182236, -0.08585920603163988, -0.10034189956232131, -0.18209858916787125, -0.03783987867233218, -0.19512575558626688, -0.17272735962956398, -0.20580457118113227, -0.12779680534574167, 0.0514512206324631, -0.16221905428861838, -0.03865489785073084, -0.05006945422728393, -0.15486360409890398, -0.0907941308139728, -0.17393323272509287, -0.06837133576241428, -0.04692408484454447, -0.1505334611364324, -0.10562826373203649, -0.2051340353363691, -0.19171575562223486, -0.1481954408852344, -0.1558602145311685, -0.13239326730878487, -0.01331604888253679, -0.05353860964187129, -0.09456034217146003, -0.08287687645127084, -0.12817188248506017, -0.1147194987461555, -0.1270081910776435, -0.007880796506502197, -0.10581844284872677, -0.13983201874210005, -0.08960643497217058, -0.12278738719807247, -0.14470539657514525, -0.1283210346556709, -0.1474809826551855, -0.18234808360629273, 0.015572331982181886, -0.15760339103014376, -0.0061173263704872305, -0.10499169698557154, -0.1293111109419609, 0.0858510002317896, -0.002419607375590438, -0.08109600408277196, -0.1548267167335533, 0.008450025891002966, -0.21335458341989622, -0.18583518879374328, -0.06539285112410376, -0.20832460341061543, -0.11824535489781107, -0.06381050841251135, -0.11820670698249192, -0.03858124687948372, -0.001302040873184751, -0.13937345038439375, -0.10010452210348397, -0.08578561225505332, -0.15427365210111343, -0.08248586285455017, -0.08561601555356013, 0.002273607880847628, -0.059206224482703185, -0.0466883605699433, -0.025363219725340613, -0.13678751610813222, -0.012023418902010974, -0.12460283632791569, -0.10696286562626689, 0.011298456404611468, -0.11040031211441459, -0.179632636584655, -0.09176746834064353, -0.14904475189196287, -0.09188513122551267, -0.04780589571774474, -0.07555525940312258, -0.1729097697219153, -0.005085389955066244, -0.08061102828951316, -0.07441632178663404, -0.0075272858612676075, -0.159106063130106, -0.05802531430476021, -0.18715537233394341, -0.06673698310852494, -0.04407955459413726, -0.14064001649492663, -0.19874675736222436, -0.03523710933092605, -0.17926238676749762, -0.16223063176053154]}],                        {\"template\": {\"data\": {\"bar\": [{\"error_x\": {\"color\": \"#2a3f5f\"}, \"error_y\": {\"color\": \"#2a3f5f\"}, \"marker\": {\"line\": {\"color\": \"#E5ECF6\", \"width\": 0.5}}, \"type\": \"bar\"}], \"barpolar\": [{\"marker\": {\"line\": {\"color\": \"#E5ECF6\", \"width\": 0.5}}, \"type\": \"barpolar\"}], \"carpet\": [{\"aaxis\": {\"endlinecolor\": \"#2a3f5f\", \"gridcolor\": \"white\", \"linecolor\": \"white\", \"minorgridcolor\": \"white\", \"startlinecolor\": \"#2a3f5f\"}, \"baxis\": {\"endlinecolor\": \"#2a3f5f\", \"gridcolor\": \"white\", \"linecolor\": \"white\", \"minorgridcolor\": \"white\", \"startlinecolor\": \"#2a3f5f\"}, \"type\": \"carpet\"}], \"choropleth\": [{\"colorbar\": {\"outlinewidth\": 0, \"ticks\": \"\"}, \"type\": \"choropleth\"}], \"contour\": [{\"colorbar\": {\"outlinewidth\": 0, \"ticks\": \"\"}, \"colorscale\": [[0.0, \"#0d0887\"], [0.1111111111111111, \"#46039f\"], [0.2222222222222222, \"#7201a8\"], [0.3333333333333333, \"#9c179e\"], [0.4444444444444444, \"#bd3786\"], [0.5555555555555556, \"#d8576b\"], [0.6666666666666666, \"#ed7953\"], [0.7777777777777778, \"#fb9f3a\"], [0.8888888888888888, \"#fdca26\"], [1.0, \"#f0f921\"]], \"type\": \"contour\"}], \"contourcarpet\": [{\"colorbar\": {\"outlinewidth\": 0, \"ticks\": \"\"}, \"type\": \"contourcarpet\"}], \"heatmap\": [{\"colorbar\": {\"outlinewidth\": 0, \"ticks\": \"\"}, \"colorscale\": [[0.0, \"#0d0887\"], [0.1111111111111111, \"#46039f\"], [0.2222222222222222, \"#7201a8\"], [0.3333333333333333, \"#9c179e\"], [0.4444444444444444, \"#bd3786\"], [0.5555555555555556, \"#d8576b\"], [0.6666666666666666, \"#ed7953\"], [0.7777777777777778, \"#fb9f3a\"], [0.8888888888888888, \"#fdca26\"], [1.0, \"#f0f921\"]], \"type\": \"heatmap\"}], \"heatmapgl\": [{\"colorbar\": {\"outlinewidth\": 0, \"ticks\": \"\"}, \"colorscale\": [[0.0, \"#0d0887\"], [0.1111111111111111, \"#46039f\"], [0.2222222222222222, \"#7201a8\"], [0.3333333333333333, \"#9c179e\"], [0.4444444444444444, \"#bd3786\"], [0.5555555555555556, \"#d8576b\"], [0.6666666666666666, \"#ed7953\"], [0.7777777777777778, \"#fb9f3a\"], [0.8888888888888888, \"#fdca26\"], [1.0, \"#f0f921\"]], \"type\": \"heatmapgl\"}], \"histogram\": [{\"marker\": {\"colorbar\": {\"outlinewidth\": 0, \"ticks\": \"\"}}, \"type\": \"histogram\"}], \"histogram2d\": [{\"colorbar\": {\"outlinewidth\": 0, \"ticks\": \"\"}, \"colorscale\": [[0.0, \"#0d0887\"], [0.1111111111111111, \"#46039f\"], [0.2222222222222222, \"#7201a8\"], [0.3333333333333333, \"#9c179e\"], [0.4444444444444444, \"#bd3786\"], [0.5555555555555556, \"#d8576b\"], [0.6666666666666666, \"#ed7953\"], [0.7777777777777778, \"#fb9f3a\"], [0.8888888888888888, \"#fdca26\"], [1.0, \"#f0f921\"]], \"type\": \"histogram2d\"}], \"histogram2dcontour\": [{\"colorbar\": {\"outlinewidth\": 0, \"ticks\": \"\"}, \"colorscale\": [[0.0, \"#0d0887\"], [0.1111111111111111, \"#46039f\"], [0.2222222222222222, \"#7201a8\"], [0.3333333333333333, \"#9c179e\"], [0.4444444444444444, \"#bd3786\"], [0.5555555555555556, \"#d8576b\"], [0.6666666666666666, \"#ed7953\"], [0.7777777777777778, \"#fb9f3a\"], [0.8888888888888888, \"#fdca26\"], [1.0, \"#f0f921\"]], \"type\": \"histogram2dcontour\"}], \"mesh3d\": [{\"colorbar\": {\"outlinewidth\": 0, \"ticks\": \"\"}, \"type\": \"mesh3d\"}], \"parcoords\": [{\"line\": {\"colorbar\": {\"outlinewidth\": 0, \"ticks\": \"\"}}, \"type\": \"parcoords\"}], \"pie\": [{\"automargin\": true, \"type\": \"pie\"}], \"scatter\": [{\"marker\": {\"colorbar\": {\"outlinewidth\": 0, \"ticks\": \"\"}}, \"type\": \"scatter\"}], \"scatter3d\": [{\"line\": {\"colorbar\": {\"outlinewidth\": 0, \"ticks\": \"\"}}, \"marker\": {\"colorbar\": {\"outlinewidth\": 0, \"ticks\": \"\"}}, \"type\": \"scatter3d\"}], \"scattercarpet\": [{\"marker\": {\"colorbar\": {\"outlinewidth\": 0, \"ticks\": \"\"}}, \"type\": \"scattercarpet\"}], \"scattergeo\": [{\"marker\": {\"colorbar\": {\"outlinewidth\": 0, \"ticks\": \"\"}}, \"type\": \"scattergeo\"}], \"scattergl\": [{\"marker\": {\"colorbar\": {\"outlinewidth\": 0, \"ticks\": \"\"}}, \"type\": \"scattergl\"}], \"scattermapbox\": [{\"marker\": {\"colorbar\": {\"outlinewidth\": 0, \"ticks\": \"\"}}, \"type\": \"scattermapbox\"}], \"scatterpolar\": [{\"marker\": {\"colorbar\": {\"outlinewidth\": 0, \"ticks\": \"\"}}, \"type\": \"scatterpolar\"}], \"scatterpolargl\": [{\"marker\": {\"colorbar\": {\"outlinewidth\": 0, \"ticks\": \"\"}}, \"type\": \"scatterpolargl\"}], \"scatterternary\": [{\"marker\": {\"colorbar\": {\"outlinewidth\": 0, \"ticks\": \"\"}}, \"type\": \"scatterternary\"}], \"surface\": [{\"colorbar\": {\"outlinewidth\": 0, \"ticks\": \"\"}, \"colorscale\": [[0.0, \"#0d0887\"], [0.1111111111111111, \"#46039f\"], [0.2222222222222222, \"#7201a8\"], [0.3333333333333333, \"#9c179e\"], [0.4444444444444444, \"#bd3786\"], [0.5555555555555556, \"#d8576b\"], [0.6666666666666666, \"#ed7953\"], [0.7777777777777778, \"#fb9f3a\"], [0.8888888888888888, \"#fdca26\"], [1.0, \"#f0f921\"]], \"type\": \"surface\"}], \"table\": [{\"cells\": {\"fill\": {\"color\": \"#EBF0F8\"}, \"line\": {\"color\": \"white\"}}, \"header\": {\"fill\": {\"color\": \"#C8D4E3\"}, \"line\": {\"color\": \"white\"}}, \"type\": \"table\"}]}, \"layout\": {\"annotationdefaults\": {\"arrowcolor\": \"#2a3f5f\", \"arrowhead\": 0, \"arrowwidth\": 1}, \"autotypenumbers\": \"strict\", \"coloraxis\": {\"colorbar\": {\"outlinewidth\": 0, \"ticks\": \"\"}}, \"colorscale\": {\"diverging\": [[0, \"#8e0152\"], [0.1, \"#c51b7d\"], [0.2, \"#de77ae\"], [0.3, \"#f1b6da\"], [0.4, \"#fde0ef\"], [0.5, \"#f7f7f7\"], [0.6, \"#e6f5d0\"], [0.7, \"#b8e186\"], [0.8, \"#7fbc41\"], [0.9, \"#4d9221\"], [1, \"#276419\"]], \"sequential\": [[0.0, \"#0d0887\"], [0.1111111111111111, \"#46039f\"], [0.2222222222222222, \"#7201a8\"], [0.3333333333333333, \"#9c179e\"], [0.4444444444444444, \"#bd3786\"], [0.5555555555555556, \"#d8576b\"], [0.6666666666666666, \"#ed7953\"], [0.7777777777777778, \"#fb9f3a\"], [0.8888888888888888, \"#fdca26\"], [1.0, \"#f0f921\"]], \"sequentialminus\": [[0.0, \"#0d0887\"], [0.1111111111111111, \"#46039f\"], [0.2222222222222222, \"#7201a8\"], [0.3333333333333333, \"#9c179e\"], [0.4444444444444444, \"#bd3786\"], [0.5555555555555556, \"#d8576b\"], [0.6666666666666666, \"#ed7953\"], [0.7777777777777778, \"#fb9f3a\"], [0.8888888888888888, \"#fdca26\"], [1.0, \"#f0f921\"]]}, \"colorway\": [\"#636efa\", \"#EF553B\", \"#00cc96\", \"#ab63fa\", \"#FFA15A\", \"#19d3f3\", \"#FF6692\", \"#B6E880\", \"#FF97FF\", \"#FECB52\"], \"font\": {\"color\": \"#2a3f5f\"}, \"geo\": {\"bgcolor\": \"white\", \"lakecolor\": \"white\", \"landcolor\": \"#E5ECF6\", \"showlakes\": true, \"showland\": true, \"subunitcolor\": \"white\"}, \"hoverlabel\": {\"align\": \"left\"}, \"hovermode\": \"closest\", \"mapbox\": {\"style\": \"light\"}, \"paper_bgcolor\": \"white\", \"plot_bgcolor\": \"#E5ECF6\", \"polar\": {\"angularaxis\": {\"gridcolor\": \"white\", \"linecolor\": \"white\", \"ticks\": \"\"}, \"bgcolor\": \"#E5ECF6\", \"radialaxis\": {\"gridcolor\": \"white\", \"linecolor\": \"white\", \"ticks\": \"\"}}, \"scene\": {\"xaxis\": {\"backgroundcolor\": \"#E5ECF6\", \"gridcolor\": \"white\", \"gridwidth\": 2, \"linecolor\": \"white\", \"showbackground\": true, \"ticks\": \"\", \"zerolinecolor\": \"white\"}, \"yaxis\": {\"backgroundcolor\": \"#E5ECF6\", \"gridcolor\": \"white\", \"gridwidth\": 2, \"linecolor\": \"white\", \"showbackground\": true, \"ticks\": \"\", \"zerolinecolor\": \"white\"}, \"zaxis\": {\"backgroundcolor\": \"#E5ECF6\", \"gridcolor\": \"white\", \"gridwidth\": 2, \"linecolor\": \"white\", \"showbackground\": true, \"ticks\": \"\", \"zerolinecolor\": \"white\"}}, \"shapedefaults\": {\"line\": {\"color\": \"#2a3f5f\"}}, \"ternary\": {\"aaxis\": {\"gridcolor\": \"white\", \"linecolor\": \"white\", \"ticks\": \"\"}, \"baxis\": {\"gridcolor\": \"white\", \"linecolor\": \"white\", \"ticks\": \"\"}, \"bgcolor\": \"#E5ECF6\", \"caxis\": {\"gridcolor\": \"white\", \"linecolor\": \"white\", \"ticks\": \"\"}}, \"title\": {\"x\": 0.05}, \"xaxis\": {\"automargin\": true, \"gridcolor\": \"white\", \"linecolor\": \"white\", \"ticks\": \"\", \"title\": {\"standoff\": 15}, \"zerolinecolor\": \"white\", \"zerolinewidth\": 2}, \"yaxis\": {\"automargin\": true, \"gridcolor\": \"white\", \"linecolor\": \"white\", \"ticks\": \"\", \"title\": {\"standoff\": 15}, \"zerolinecolor\": \"white\", \"zerolinewidth\": 2}}}},                        {\"responsive\": true}                    ).then(function(){\n",
       "                            \n",
       "var gd = document.getElementById('f230a76c-262a-4570-b9ce-f595d95e46a7');\n",
       "var x = new MutationObserver(function (mutations, observer) {{\n",
       "        var display = window.getComputedStyle(gd).display;\n",
       "        if (!display || display === 'none') {{\n",
       "            console.log([gd, 'removed!']);\n",
       "            Plotly.purge(gd);\n",
       "            observer.disconnect();\n",
       "        }}\n",
       "}});\n",
       "\n",
       "// Listen for the removal of the full notebook cells\n",
       "var notebookContainer = gd.closest('#notebook-container');\n",
       "if (notebookContainer) {{\n",
       "    x.observe(notebookContainer, {childList: true});\n",
       "}}\n",
       "\n",
       "// Listen for the clearing of the current output cell\n",
       "var outputEl = gd.closest('.output');\n",
       "if (outputEl) {{\n",
       "    x.observe(outputEl, {childList: true});\n",
       "}}\n",
       "\n",
       "                        })                };                });            </script>        </div>"
      ]
     },
     "metadata": {},
     "output_type": "display_data"
    }
   ],
   "source": [
    "# Run Hybrid  Probabilstic RVEA (fast)\n",
    "max_func_evals = 5000\n",
    "\n",
    "evolver_opt = HybRVEA_v3(problem, use_surrogates=True, n_gen_per_iter=10, total_function_evaluations=max_func_evals)\n",
    "while evolver_opt.continue_evolution():\n",
    "        evolver_opt.iterate()\n",
    "        print(\"FE count:\",evolver_opt._function_evaluation_count)\n",
    "objectives = evolver_opt.population.objectives\n",
    "fig1 = go.Figure(data=go.Scatter3d(x=objectives[:,0],y=objectives[:,1],z=objectives[:,2], mode=\"markers\"))\n",
    "fig1"
   ]
  },
  {
   "cell_type": "code",
   "execution_count": 12,
   "metadata": {},
   "outputs": [
    {
     "name": "stdout",
     "output_type": "stream",
     "text": [
      "FE count: 1155\n",
      "FE count: 2205\n",
      "FE count: 3255\n",
      "FE count: 4305\n",
      "FE count: 5040\n"
     ]
    },
    {
     "data": {
      "application/vnd.plotly.v1+json": {
       "config": {
        "plotlyServerURL": "https://plot.ly"
       },
       "data": [
        {
         "mode": "markers",
         "type": "scatter3d",
         "x": [
          -0.09620256602013244,
          -0.09620256602013244,
          -0.10650522710291321,
          -0.11424515184430462,
          -0.12349676764625528,
          -0.1171961115524649,
          -0.12246594306508385,
          -0.148932919329952,
          -0.1624292584056466,
          -0.14639938866013713,
          -0.14377001665215916,
          -0.1263036877950907,
          -0.10570067609624356,
          -0.10570067609624356,
          -0.09507043036869156,
          -0.09620256602013244,
          -0.11611899115162938,
          -0.11424515184430462,
          -0.12433208934581197,
          -0.12845500333562088,
          -0.12740163831455176,
          -0.12832925339572254,
          -0.1318797990637095,
          -0.11751010370741266,
          -0.11562724916918565,
          -0.10570067609624356,
          -0.09963547630551561,
          -0.09507043036869156,
          -0.09507043036869156,
          -0.11611899115162938,
          -0.1144156525915605,
          -0.09699400920044621,
          -0.09900432029217443,
          -0.10018254061130927,
          -0.09855409801622894,
          -0.08845960767324357,
          -0.0774156831388364,
          -0.07304034449652219,
          -0.07942251828202407,
          -0.09120593767154306,
          -0.09120593767154306,
          -0.08587144247459655,
          -0.07373226408493672,
          -0.0670892459000636,
          -0.06022996243080625,
          -0.06801893414621452,
          -0.0462136237000772,
          -0.053291240511743165,
          -0.0271440296868799,
          -0.0271440296868799,
          -0.022124429255992784,
          -0.038305664818835794,
          -0.009395015295296627,
          -0.04375528384696148,
          0.015165197066070668,
          -0.040593275961485986,
          -0.009284041140108279,
          -0.027948843052321592,
          -0.0011887193463264722,
          -0.016204094568740057,
          -0.001314337328528481,
          0.045338653790027994,
          0.052859563991669134,
          0.12343294191780751,
          0.048526749967652716,
          0.010184825980865675,
          0.016278223875501485,
          0.043602237691316326,
          0.03693215108706971,
          0.052669860344385366,
          0.17841158416255132,
          0.31472265294528246,
          0.02536584785382834,
          0.03062131498836429,
          0.043488389493419266,
          0.065499078447401,
          0.06733999959052195,
          0.07707535145223421,
          0.03531321031257795,
          0.32444029322562207,
          0.05081640258884779,
          0.0538438223515163,
          0.06842916437242685,
          0.10073182900542221,
          0.06939247429935769,
          0.08006602651776396,
          0.08169150930346314,
          0.10343641742339083,
          0.13470018189750466,
          0.14317913361633927,
          0.10931758225873356,
          0.17787715169077734,
          0.11612011801543831,
          0.15895899382582623,
          0.14108963779938044,
          0.14301625993023315,
          0.14452585230139547,
          0.1521105579579407,
          0.14254602679266437,
          0.14301625993023315,
          0.1644183553652412,
          0.1521105579579407,
          0.13905161661894283,
          0.16332550628181242,
          0.13905161661894283
         ],
         "y": [
          -0.0807562573925864,
          -0.0807562573925864,
          -0.06615100182909162,
          -0.046891518179912994,
          -0.02335877531113706,
          0.009503514553854675,
          0.1632364385562799,
          0.1901619206339209,
          0.27198264484167733,
          0.415528979771274,
          0.451161077243992,
          0.5176425051462079,
          0.4537865223656281,
          0.4537865223656281,
          -0.0813784773181796,
          -0.0807562573925864,
          -0.06702787217438422,
          -0.046891518179912994,
          0.0033827915816913023,
          0.1012309618562417,
          0.21311822266816471,
          0.19696588279713234,
          0.279717937640523,
          0.41670869696166246,
          0.5162001096073101,
          0.4537865223656281,
          0.41795000678661376,
          -0.0813784773181796,
          -0.0813784773181796,
          -0.06702787217438422,
          -0.030802470916228453,
          0.05894192941700349,
          0.07562111069003885,
          0.1552641440605762,
          0.1967361749456975,
          0.3596097852366553,
          0.5144804147735449,
          0.49338413641268897,
          0.43395622915168075,
          -0.08212930231577231,
          -0.08212930231577231,
          -0.06697499244838578,
          -0.003839008236015129,
          0.0581821777681073,
          0.12835697846600103,
          0.1957204288984613,
          0.298144973936062,
          0.3591144935997781,
          0.4467447915313236,
          0.4467447915313236,
          -0.10245976711463167,
          -0.09569058365882044,
          -0.0444472991204945,
          -0.005532677299451727,
          0.14032804605346128,
          0.1669685360758979,
          0.23364078551940093,
          0.24798577392982857,
          0.348096807439918,
          0.4087782331988854,
          -0.11210569033175966,
          -0.08592347777043763,
          -0.014577925875174591,
          0.12384101140331705,
          0.14438800232565052,
          0.10591939107146486,
          0.22313234936980275,
          0.3309821108462354,
          0.32793204177996893,
          -0.13019860365155167,
          -0.050396878691226776,
          0.11439934965182297,
          0.013359792381942404,
          0.08254609117205658,
          0.1252534314671656,
          0.22131879662483533,
          0.22325178335452,
          -0.15296879172896416,
          -0.12192266532658946,
          0.07271552589709729,
          0.0002851523968283587,
          0.06447520551606267,
          0.11859512695736218,
          0.24040955443962497,
          -0.13184803439782233,
          -0.10547818942823795,
          -0.03848822373604288,
          0.018154816903677373,
          0.08802845049682517,
          0.16265107359029374,
          -0.1556039664005655,
          -0.09314801487931534,
          -0.05285124110020445,
          0.04128718495171335,
          0.08550414347918966,
          -0.13492285564592477,
          -0.09064389934977979,
          -0.03558446496283718,
          -0.0010285636530837916,
          -0.13492285564592477,
          -0.07596038199344579,
          -0.03558446496283718,
          -0.10880284750322433,
          -0.07120901535980817,
          -0.10880284750322433
         ],
         "z": [
          -0.030877512872659274,
          -0.030877512872659274,
          -0.03069360962260559,
          -0.04445148381998365,
          -0.059218239814625484,
          -0.07926188505163001,
          -0.01751414587860678,
          -0.08517406449595244,
          -0.0823966674780241,
          -0.09920806461948661,
          -0.1254491063284151,
          -0.1393767875403502,
          -0.1568382714486498,
          -0.1568382714486498,
          -0.029837740015024927,
          -0.030877512872659274,
          -0.04333682864637822,
          -0.04445148381998365,
          -0.045606519474840734,
          -0.030374680997245385,
          -0.02656394045556798,
          -0.09971715680843873,
          -0.11168199800365564,
          -0.12912524330906683,
          -0.142007295610727,
          -0.1568382714486498,
          -0.16005630528923342,
          -0.029837740015024927,
          -0.029837740015024927,
          -0.04333682864637822,
          -0.04082311872997835,
          -0.029896887045180343,
          -0.08288010783563449,
          -0.09089311197804717,
          -0.10592325150621251,
          -0.13037758999684357,
          -0.15996758920714038,
          -0.166978637627762,
          -0.16808565889760585,
          -0.028429125405710298,
          -0.028429125405710298,
          -0.028891412385214643,
          -0.015905461047118763,
          -0.025831988015883045,
          -0.05819494559092275,
          -0.11200547557242047,
          -0.13515156337522516,
          -0.1747264313296517,
          -0.18631850196668687,
          -0.18631850196668687,
          0.009911892929804988,
          -0.006613607060003801,
          -0.001222798123455604,
          -0.07405706301920656,
          -0.03367894592131737,
          -0.08958646010083005,
          -0.13670331799800328,
          -0.17210620806679033,
          -0.19192603762780136,
          -0.19138397854289613,
          -0.0009686720635997403,
          0.046953742373949225,
          0.03976526019157234,
          0.04951275282632306,
          -0.056693359057098824,
          -0.1620403659079681,
          -0.17796151282369888,
          -0.20813187264014665,
          -0.20709521692540944,
          -0.06679317515391858,
          0.13464859953864527,
          0.16440293658462268,
          -0.11773832599449907,
          -0.16332264685573827,
          -0.18084891329979902,
          -0.21479498860813662,
          -0.22262156847266645,
          -0.053306568983684244,
          -0.09342925091918008,
          0.015791227158146626,
          -0.15905179673631453,
          -0.1917721853912835,
          -0.2157042599391441,
          -0.22772370812977405,
          -0.10195290670414447,
          -0.1361759023239868,
          -0.16041485279401213,
          -0.1887458223456786,
          -0.22471562843093995,
          -0.24402493814954473,
          -0.12845933262002873,
          -0.1302748888559817,
          -0.189865813365929,
          -0.20654099031399165,
          -0.235155825362233,
          -0.14501275199159602,
          -0.169200781858712,
          -0.19685034972393511,
          -0.20515807972957933,
          -0.14501275199159602,
          -0.1745277128594238,
          -0.19685034972393511,
          -0.16167541500093252,
          -0.17702419546458126,
          -0.16167541500093252
         ]
        }
       ],
       "layout": {
        "template": {
         "data": {
          "bar": [
           {
            "error_x": {
             "color": "#2a3f5f"
            },
            "error_y": {
             "color": "#2a3f5f"
            },
            "marker": {
             "line": {
              "color": "#E5ECF6",
              "width": 0.5
             }
            },
            "type": "bar"
           }
          ],
          "barpolar": [
           {
            "marker": {
             "line": {
              "color": "#E5ECF6",
              "width": 0.5
             }
            },
            "type": "barpolar"
           }
          ],
          "carpet": [
           {
            "aaxis": {
             "endlinecolor": "#2a3f5f",
             "gridcolor": "white",
             "linecolor": "white",
             "minorgridcolor": "white",
             "startlinecolor": "#2a3f5f"
            },
            "baxis": {
             "endlinecolor": "#2a3f5f",
             "gridcolor": "white",
             "linecolor": "white",
             "minorgridcolor": "white",
             "startlinecolor": "#2a3f5f"
            },
            "type": "carpet"
           }
          ],
          "choropleth": [
           {
            "colorbar": {
             "outlinewidth": 0,
             "ticks": ""
            },
            "type": "choropleth"
           }
          ],
          "contour": [
           {
            "colorbar": {
             "outlinewidth": 0,
             "ticks": ""
            },
            "colorscale": [
             [
              0,
              "#0d0887"
             ],
             [
              0.1111111111111111,
              "#46039f"
             ],
             [
              0.2222222222222222,
              "#7201a8"
             ],
             [
              0.3333333333333333,
              "#9c179e"
             ],
             [
              0.4444444444444444,
              "#bd3786"
             ],
             [
              0.5555555555555556,
              "#d8576b"
             ],
             [
              0.6666666666666666,
              "#ed7953"
             ],
             [
              0.7777777777777778,
              "#fb9f3a"
             ],
             [
              0.8888888888888888,
              "#fdca26"
             ],
             [
              1,
              "#f0f921"
             ]
            ],
            "type": "contour"
           }
          ],
          "contourcarpet": [
           {
            "colorbar": {
             "outlinewidth": 0,
             "ticks": ""
            },
            "type": "contourcarpet"
           }
          ],
          "heatmap": [
           {
            "colorbar": {
             "outlinewidth": 0,
             "ticks": ""
            },
            "colorscale": [
             [
              0,
              "#0d0887"
             ],
             [
              0.1111111111111111,
              "#46039f"
             ],
             [
              0.2222222222222222,
              "#7201a8"
             ],
             [
              0.3333333333333333,
              "#9c179e"
             ],
             [
              0.4444444444444444,
              "#bd3786"
             ],
             [
              0.5555555555555556,
              "#d8576b"
             ],
             [
              0.6666666666666666,
              "#ed7953"
             ],
             [
              0.7777777777777778,
              "#fb9f3a"
             ],
             [
              0.8888888888888888,
              "#fdca26"
             ],
             [
              1,
              "#f0f921"
             ]
            ],
            "type": "heatmap"
           }
          ],
          "heatmapgl": [
           {
            "colorbar": {
             "outlinewidth": 0,
             "ticks": ""
            },
            "colorscale": [
             [
              0,
              "#0d0887"
             ],
             [
              0.1111111111111111,
              "#46039f"
             ],
             [
              0.2222222222222222,
              "#7201a8"
             ],
             [
              0.3333333333333333,
              "#9c179e"
             ],
             [
              0.4444444444444444,
              "#bd3786"
             ],
             [
              0.5555555555555556,
              "#d8576b"
             ],
             [
              0.6666666666666666,
              "#ed7953"
             ],
             [
              0.7777777777777778,
              "#fb9f3a"
             ],
             [
              0.8888888888888888,
              "#fdca26"
             ],
             [
              1,
              "#f0f921"
             ]
            ],
            "type": "heatmapgl"
           }
          ],
          "histogram": [
           {
            "marker": {
             "colorbar": {
              "outlinewidth": 0,
              "ticks": ""
             }
            },
            "type": "histogram"
           }
          ],
          "histogram2d": [
           {
            "colorbar": {
             "outlinewidth": 0,
             "ticks": ""
            },
            "colorscale": [
             [
              0,
              "#0d0887"
             ],
             [
              0.1111111111111111,
              "#46039f"
             ],
             [
              0.2222222222222222,
              "#7201a8"
             ],
             [
              0.3333333333333333,
              "#9c179e"
             ],
             [
              0.4444444444444444,
              "#bd3786"
             ],
             [
              0.5555555555555556,
              "#d8576b"
             ],
             [
              0.6666666666666666,
              "#ed7953"
             ],
             [
              0.7777777777777778,
              "#fb9f3a"
             ],
             [
              0.8888888888888888,
              "#fdca26"
             ],
             [
              1,
              "#f0f921"
             ]
            ],
            "type": "histogram2d"
           }
          ],
          "histogram2dcontour": [
           {
            "colorbar": {
             "outlinewidth": 0,
             "ticks": ""
            },
            "colorscale": [
             [
              0,
              "#0d0887"
             ],
             [
              0.1111111111111111,
              "#46039f"
             ],
             [
              0.2222222222222222,
              "#7201a8"
             ],
             [
              0.3333333333333333,
              "#9c179e"
             ],
             [
              0.4444444444444444,
              "#bd3786"
             ],
             [
              0.5555555555555556,
              "#d8576b"
             ],
             [
              0.6666666666666666,
              "#ed7953"
             ],
             [
              0.7777777777777778,
              "#fb9f3a"
             ],
             [
              0.8888888888888888,
              "#fdca26"
             ],
             [
              1,
              "#f0f921"
             ]
            ],
            "type": "histogram2dcontour"
           }
          ],
          "mesh3d": [
           {
            "colorbar": {
             "outlinewidth": 0,
             "ticks": ""
            },
            "type": "mesh3d"
           }
          ],
          "parcoords": [
           {
            "line": {
             "colorbar": {
              "outlinewidth": 0,
              "ticks": ""
             }
            },
            "type": "parcoords"
           }
          ],
          "pie": [
           {
            "automargin": true,
            "type": "pie"
           }
          ],
          "scatter": [
           {
            "marker": {
             "colorbar": {
              "outlinewidth": 0,
              "ticks": ""
             }
            },
            "type": "scatter"
           }
          ],
          "scatter3d": [
           {
            "line": {
             "colorbar": {
              "outlinewidth": 0,
              "ticks": ""
             }
            },
            "marker": {
             "colorbar": {
              "outlinewidth": 0,
              "ticks": ""
             }
            },
            "type": "scatter3d"
           }
          ],
          "scattercarpet": [
           {
            "marker": {
             "colorbar": {
              "outlinewidth": 0,
              "ticks": ""
             }
            },
            "type": "scattercarpet"
           }
          ],
          "scattergeo": [
           {
            "marker": {
             "colorbar": {
              "outlinewidth": 0,
              "ticks": ""
             }
            },
            "type": "scattergeo"
           }
          ],
          "scattergl": [
           {
            "marker": {
             "colorbar": {
              "outlinewidth": 0,
              "ticks": ""
             }
            },
            "type": "scattergl"
           }
          ],
          "scattermapbox": [
           {
            "marker": {
             "colorbar": {
              "outlinewidth": 0,
              "ticks": ""
             }
            },
            "type": "scattermapbox"
           }
          ],
          "scatterpolar": [
           {
            "marker": {
             "colorbar": {
              "outlinewidth": 0,
              "ticks": ""
             }
            },
            "type": "scatterpolar"
           }
          ],
          "scatterpolargl": [
           {
            "marker": {
             "colorbar": {
              "outlinewidth": 0,
              "ticks": ""
             }
            },
            "type": "scatterpolargl"
           }
          ],
          "scatterternary": [
           {
            "marker": {
             "colorbar": {
              "outlinewidth": 0,
              "ticks": ""
             }
            },
            "type": "scatterternary"
           }
          ],
          "surface": [
           {
            "colorbar": {
             "outlinewidth": 0,
             "ticks": ""
            },
            "colorscale": [
             [
              0,
              "#0d0887"
             ],
             [
              0.1111111111111111,
              "#46039f"
             ],
             [
              0.2222222222222222,
              "#7201a8"
             ],
             [
              0.3333333333333333,
              "#9c179e"
             ],
             [
              0.4444444444444444,
              "#bd3786"
             ],
             [
              0.5555555555555556,
              "#d8576b"
             ],
             [
              0.6666666666666666,
              "#ed7953"
             ],
             [
              0.7777777777777778,
              "#fb9f3a"
             ],
             [
              0.8888888888888888,
              "#fdca26"
             ],
             [
              1,
              "#f0f921"
             ]
            ],
            "type": "surface"
           }
          ],
          "table": [
           {
            "cells": {
             "fill": {
              "color": "#EBF0F8"
             },
             "line": {
              "color": "white"
             }
            },
            "header": {
             "fill": {
              "color": "#C8D4E3"
             },
             "line": {
              "color": "white"
             }
            },
            "type": "table"
           }
          ]
         },
         "layout": {
          "annotationdefaults": {
           "arrowcolor": "#2a3f5f",
           "arrowhead": 0,
           "arrowwidth": 1
          },
          "autotypenumbers": "strict",
          "coloraxis": {
           "colorbar": {
            "outlinewidth": 0,
            "ticks": ""
           }
          },
          "colorscale": {
           "diverging": [
            [
             0,
             "#8e0152"
            ],
            [
             0.1,
             "#c51b7d"
            ],
            [
             0.2,
             "#de77ae"
            ],
            [
             0.3,
             "#f1b6da"
            ],
            [
             0.4,
             "#fde0ef"
            ],
            [
             0.5,
             "#f7f7f7"
            ],
            [
             0.6,
             "#e6f5d0"
            ],
            [
             0.7,
             "#b8e186"
            ],
            [
             0.8,
             "#7fbc41"
            ],
            [
             0.9,
             "#4d9221"
            ],
            [
             1,
             "#276419"
            ]
           ],
           "sequential": [
            [
             0,
             "#0d0887"
            ],
            [
             0.1111111111111111,
             "#46039f"
            ],
            [
             0.2222222222222222,
             "#7201a8"
            ],
            [
             0.3333333333333333,
             "#9c179e"
            ],
            [
             0.4444444444444444,
             "#bd3786"
            ],
            [
             0.5555555555555556,
             "#d8576b"
            ],
            [
             0.6666666666666666,
             "#ed7953"
            ],
            [
             0.7777777777777778,
             "#fb9f3a"
            ],
            [
             0.8888888888888888,
             "#fdca26"
            ],
            [
             1,
             "#f0f921"
            ]
           ],
           "sequentialminus": [
            [
             0,
             "#0d0887"
            ],
            [
             0.1111111111111111,
             "#46039f"
            ],
            [
             0.2222222222222222,
             "#7201a8"
            ],
            [
             0.3333333333333333,
             "#9c179e"
            ],
            [
             0.4444444444444444,
             "#bd3786"
            ],
            [
             0.5555555555555556,
             "#d8576b"
            ],
            [
             0.6666666666666666,
             "#ed7953"
            ],
            [
             0.7777777777777778,
             "#fb9f3a"
            ],
            [
             0.8888888888888888,
             "#fdca26"
            ],
            [
             1,
             "#f0f921"
            ]
           ]
          },
          "colorway": [
           "#636efa",
           "#EF553B",
           "#00cc96",
           "#ab63fa",
           "#FFA15A",
           "#19d3f3",
           "#FF6692",
           "#B6E880",
           "#FF97FF",
           "#FECB52"
          ],
          "font": {
           "color": "#2a3f5f"
          },
          "geo": {
           "bgcolor": "white",
           "lakecolor": "white",
           "landcolor": "#E5ECF6",
           "showlakes": true,
           "showland": true,
           "subunitcolor": "white"
          },
          "hoverlabel": {
           "align": "left"
          },
          "hovermode": "closest",
          "mapbox": {
           "style": "light"
          },
          "paper_bgcolor": "white",
          "plot_bgcolor": "#E5ECF6",
          "polar": {
           "angularaxis": {
            "gridcolor": "white",
            "linecolor": "white",
            "ticks": ""
           },
           "bgcolor": "#E5ECF6",
           "radialaxis": {
            "gridcolor": "white",
            "linecolor": "white",
            "ticks": ""
           }
          },
          "scene": {
           "xaxis": {
            "backgroundcolor": "#E5ECF6",
            "gridcolor": "white",
            "gridwidth": 2,
            "linecolor": "white",
            "showbackground": true,
            "ticks": "",
            "zerolinecolor": "white"
           },
           "yaxis": {
            "backgroundcolor": "#E5ECF6",
            "gridcolor": "white",
            "gridwidth": 2,
            "linecolor": "white",
            "showbackground": true,
            "ticks": "",
            "zerolinecolor": "white"
           },
           "zaxis": {
            "backgroundcolor": "#E5ECF6",
            "gridcolor": "white",
            "gridwidth": 2,
            "linecolor": "white",
            "showbackground": true,
            "ticks": "",
            "zerolinecolor": "white"
           }
          },
          "shapedefaults": {
           "line": {
            "color": "#2a3f5f"
           }
          },
          "ternary": {
           "aaxis": {
            "gridcolor": "white",
            "linecolor": "white",
            "ticks": ""
           },
           "baxis": {
            "gridcolor": "white",
            "linecolor": "white",
            "ticks": ""
           },
           "bgcolor": "#E5ECF6",
           "caxis": {
            "gridcolor": "white",
            "linecolor": "white",
            "ticks": ""
           }
          },
          "title": {
           "x": 0.05
          },
          "xaxis": {
           "automargin": true,
           "gridcolor": "white",
           "linecolor": "white",
           "ticks": "",
           "title": {
            "standoff": 15
           },
           "zerolinecolor": "white",
           "zerolinewidth": 2
          },
          "yaxis": {
           "automargin": true,
           "gridcolor": "white",
           "linecolor": "white",
           "ticks": "",
           "title": {
            "standoff": 15
           },
           "zerolinecolor": "white",
           "zerolinewidth": 2
          }
         }
        }
       }
      },
      "text/html": [
       "<div>                            <div id=\"5b57d1f0-7dda-4cd9-8c25-f9ecc3aa9c97\" class=\"plotly-graph-div\" style=\"height:525px; width:100%;\"></div>            <script type=\"text/javascript\">                require([\"plotly\"], function(Plotly) {                    window.PLOTLYENV=window.PLOTLYENV || {};                                    if (document.getElementById(\"5b57d1f0-7dda-4cd9-8c25-f9ecc3aa9c97\")) {                    Plotly.newPlot(                        \"5b57d1f0-7dda-4cd9-8c25-f9ecc3aa9c97\",                        [{\"mode\": \"markers\", \"type\": \"scatter3d\", \"x\": [-0.09620256602013244, -0.09620256602013244, -0.10650522710291321, -0.11424515184430462, -0.12349676764625528, -0.1171961115524649, -0.12246594306508385, -0.148932919329952, -0.1624292584056466, -0.14639938866013713, -0.14377001665215916, -0.1263036877950907, -0.10570067609624356, -0.10570067609624356, -0.09507043036869156, -0.09620256602013244, -0.11611899115162938, -0.11424515184430462, -0.12433208934581197, -0.12845500333562088, -0.12740163831455176, -0.12832925339572254, -0.1318797990637095, -0.11751010370741266, -0.11562724916918565, -0.10570067609624356, -0.09963547630551561, -0.09507043036869156, -0.09507043036869156, -0.11611899115162938, -0.1144156525915605, -0.09699400920044621, -0.09900432029217443, -0.10018254061130927, -0.09855409801622894, -0.08845960767324357, -0.0774156831388364, -0.07304034449652219, -0.07942251828202407, -0.09120593767154306, -0.09120593767154306, -0.08587144247459655, -0.07373226408493672, -0.0670892459000636, -0.06022996243080625, -0.06801893414621452, -0.0462136237000772, -0.053291240511743165, -0.0271440296868799, -0.0271440296868799, -0.022124429255992784, -0.038305664818835794, -0.009395015295296627, -0.04375528384696148, 0.015165197066070668, -0.040593275961485986, -0.009284041140108279, -0.027948843052321592, -0.0011887193463264722, -0.016204094568740057, -0.001314337328528481, 0.045338653790027994, 0.052859563991669134, 0.12343294191780751, 0.048526749967652716, 0.010184825980865675, 0.016278223875501485, 0.043602237691316326, 0.03693215108706971, 0.052669860344385366, 0.17841158416255132, 0.31472265294528246, 0.02536584785382834, 0.03062131498836429, 0.043488389493419266, 0.065499078447401, 0.06733999959052195, 0.07707535145223421, 0.03531321031257795, 0.32444029322562207, 0.05081640258884779, 0.0538438223515163, 0.06842916437242685, 0.10073182900542221, 0.06939247429935769, 0.08006602651776396, 0.08169150930346314, 0.10343641742339083, 0.13470018189750466, 0.14317913361633927, 0.10931758225873356, 0.17787715169077734, 0.11612011801543831, 0.15895899382582623, 0.14108963779938044, 0.14301625993023315, 0.14452585230139547, 0.1521105579579407, 0.14254602679266437, 0.14301625993023315, 0.1644183553652412, 0.1521105579579407, 0.13905161661894283, 0.16332550628181242, 0.13905161661894283], \"y\": [-0.0807562573925864, -0.0807562573925864, -0.06615100182909162, -0.046891518179912994, -0.02335877531113706, 0.009503514553854675, 0.1632364385562799, 0.1901619206339209, 0.27198264484167733, 0.415528979771274, 0.451161077243992, 0.5176425051462079, 0.4537865223656281, 0.4537865223656281, -0.0813784773181796, -0.0807562573925864, -0.06702787217438422, -0.046891518179912994, 0.0033827915816913023, 0.1012309618562417, 0.21311822266816471, 0.19696588279713234, 0.279717937640523, 0.41670869696166246, 0.5162001096073101, 0.4537865223656281, 0.41795000678661376, -0.0813784773181796, -0.0813784773181796, -0.06702787217438422, -0.030802470916228453, 0.05894192941700349, 0.07562111069003885, 0.1552641440605762, 0.1967361749456975, 0.3596097852366553, 0.5144804147735449, 0.49338413641268897, 0.43395622915168075, -0.08212930231577231, -0.08212930231577231, -0.06697499244838578, -0.003839008236015129, 0.0581821777681073, 0.12835697846600103, 0.1957204288984613, 0.298144973936062, 0.3591144935997781, 0.4467447915313236, 0.4467447915313236, -0.10245976711463167, -0.09569058365882044, -0.0444472991204945, -0.005532677299451727, 0.14032804605346128, 0.1669685360758979, 0.23364078551940093, 0.24798577392982857, 0.348096807439918, 0.4087782331988854, -0.11210569033175966, -0.08592347777043763, -0.014577925875174591, 0.12384101140331705, 0.14438800232565052, 0.10591939107146486, 0.22313234936980275, 0.3309821108462354, 0.32793204177996893, -0.13019860365155167, -0.050396878691226776, 0.11439934965182297, 0.013359792381942404, 0.08254609117205658, 0.1252534314671656, 0.22131879662483533, 0.22325178335452, -0.15296879172896416, -0.12192266532658946, 0.07271552589709729, 0.0002851523968283587, 0.06447520551606267, 0.11859512695736218, 0.24040955443962497, -0.13184803439782233, -0.10547818942823795, -0.03848822373604288, 0.018154816903677373, 0.08802845049682517, 0.16265107359029374, -0.1556039664005655, -0.09314801487931534, -0.05285124110020445, 0.04128718495171335, 0.08550414347918966, -0.13492285564592477, -0.09064389934977979, -0.03558446496283718, -0.0010285636530837916, -0.13492285564592477, -0.07596038199344579, -0.03558446496283718, -0.10880284750322433, -0.07120901535980817, -0.10880284750322433], \"z\": [-0.030877512872659274, -0.030877512872659274, -0.03069360962260559, -0.04445148381998365, -0.059218239814625484, -0.07926188505163001, -0.01751414587860678, -0.08517406449595244, -0.0823966674780241, -0.09920806461948661, -0.1254491063284151, -0.1393767875403502, -0.1568382714486498, -0.1568382714486498, -0.029837740015024927, -0.030877512872659274, -0.04333682864637822, -0.04445148381998365, -0.045606519474840734, -0.030374680997245385, -0.02656394045556798, -0.09971715680843873, -0.11168199800365564, -0.12912524330906683, -0.142007295610727, -0.1568382714486498, -0.16005630528923342, -0.029837740015024927, -0.029837740015024927, -0.04333682864637822, -0.04082311872997835, -0.029896887045180343, -0.08288010783563449, -0.09089311197804717, -0.10592325150621251, -0.13037758999684357, -0.15996758920714038, -0.166978637627762, -0.16808565889760585, -0.028429125405710298, -0.028429125405710298, -0.028891412385214643, -0.015905461047118763, -0.025831988015883045, -0.05819494559092275, -0.11200547557242047, -0.13515156337522516, -0.1747264313296517, -0.18631850196668687, -0.18631850196668687, 0.009911892929804988, -0.006613607060003801, -0.001222798123455604, -0.07405706301920656, -0.03367894592131737, -0.08958646010083005, -0.13670331799800328, -0.17210620806679033, -0.19192603762780136, -0.19138397854289613, -0.0009686720635997403, 0.046953742373949225, 0.03976526019157234, 0.04951275282632306, -0.056693359057098824, -0.1620403659079681, -0.17796151282369888, -0.20813187264014665, -0.20709521692540944, -0.06679317515391858, 0.13464859953864527, 0.16440293658462268, -0.11773832599449907, -0.16332264685573827, -0.18084891329979902, -0.21479498860813662, -0.22262156847266645, -0.053306568983684244, -0.09342925091918008, 0.015791227158146626, -0.15905179673631453, -0.1917721853912835, -0.2157042599391441, -0.22772370812977405, -0.10195290670414447, -0.1361759023239868, -0.16041485279401213, -0.1887458223456786, -0.22471562843093995, -0.24402493814954473, -0.12845933262002873, -0.1302748888559817, -0.189865813365929, -0.20654099031399165, -0.235155825362233, -0.14501275199159602, -0.169200781858712, -0.19685034972393511, -0.20515807972957933, -0.14501275199159602, -0.1745277128594238, -0.19685034972393511, -0.16167541500093252, -0.17702419546458126, -0.16167541500093252]}],                        {\"template\": {\"data\": {\"bar\": [{\"error_x\": {\"color\": \"#2a3f5f\"}, \"error_y\": {\"color\": \"#2a3f5f\"}, \"marker\": {\"line\": {\"color\": \"#E5ECF6\", \"width\": 0.5}}, \"type\": \"bar\"}], \"barpolar\": [{\"marker\": {\"line\": {\"color\": \"#E5ECF6\", \"width\": 0.5}}, \"type\": \"barpolar\"}], \"carpet\": [{\"aaxis\": {\"endlinecolor\": \"#2a3f5f\", \"gridcolor\": \"white\", \"linecolor\": \"white\", \"minorgridcolor\": \"white\", \"startlinecolor\": \"#2a3f5f\"}, \"baxis\": {\"endlinecolor\": \"#2a3f5f\", \"gridcolor\": \"white\", \"linecolor\": \"white\", \"minorgridcolor\": \"white\", \"startlinecolor\": \"#2a3f5f\"}, \"type\": \"carpet\"}], \"choropleth\": [{\"colorbar\": {\"outlinewidth\": 0, \"ticks\": \"\"}, \"type\": \"choropleth\"}], \"contour\": [{\"colorbar\": {\"outlinewidth\": 0, \"ticks\": \"\"}, \"colorscale\": [[0.0, \"#0d0887\"], [0.1111111111111111, \"#46039f\"], [0.2222222222222222, \"#7201a8\"], [0.3333333333333333, \"#9c179e\"], [0.4444444444444444, \"#bd3786\"], [0.5555555555555556, \"#d8576b\"], [0.6666666666666666, \"#ed7953\"], [0.7777777777777778, \"#fb9f3a\"], [0.8888888888888888, \"#fdca26\"], [1.0, \"#f0f921\"]], \"type\": \"contour\"}], \"contourcarpet\": [{\"colorbar\": {\"outlinewidth\": 0, \"ticks\": \"\"}, \"type\": \"contourcarpet\"}], \"heatmap\": [{\"colorbar\": {\"outlinewidth\": 0, \"ticks\": \"\"}, \"colorscale\": [[0.0, \"#0d0887\"], [0.1111111111111111, \"#46039f\"], [0.2222222222222222, \"#7201a8\"], [0.3333333333333333, \"#9c179e\"], [0.4444444444444444, \"#bd3786\"], [0.5555555555555556, \"#d8576b\"], [0.6666666666666666, \"#ed7953\"], [0.7777777777777778, \"#fb9f3a\"], [0.8888888888888888, \"#fdca26\"], [1.0, \"#f0f921\"]], \"type\": \"heatmap\"}], \"heatmapgl\": [{\"colorbar\": {\"outlinewidth\": 0, \"ticks\": \"\"}, \"colorscale\": [[0.0, \"#0d0887\"], [0.1111111111111111, \"#46039f\"], [0.2222222222222222, \"#7201a8\"], [0.3333333333333333, \"#9c179e\"], [0.4444444444444444, \"#bd3786\"], [0.5555555555555556, \"#d8576b\"], [0.6666666666666666, \"#ed7953\"], [0.7777777777777778, \"#fb9f3a\"], [0.8888888888888888, \"#fdca26\"], [1.0, \"#f0f921\"]], \"type\": \"heatmapgl\"}], \"histogram\": [{\"marker\": {\"colorbar\": {\"outlinewidth\": 0, \"ticks\": \"\"}}, \"type\": \"histogram\"}], \"histogram2d\": [{\"colorbar\": {\"outlinewidth\": 0, \"ticks\": \"\"}, \"colorscale\": [[0.0, \"#0d0887\"], [0.1111111111111111, \"#46039f\"], [0.2222222222222222, \"#7201a8\"], [0.3333333333333333, \"#9c179e\"], [0.4444444444444444, \"#bd3786\"], [0.5555555555555556, \"#d8576b\"], [0.6666666666666666, \"#ed7953\"], [0.7777777777777778, \"#fb9f3a\"], [0.8888888888888888, \"#fdca26\"], [1.0, \"#f0f921\"]], \"type\": \"histogram2d\"}], \"histogram2dcontour\": [{\"colorbar\": {\"outlinewidth\": 0, \"ticks\": \"\"}, \"colorscale\": [[0.0, \"#0d0887\"], [0.1111111111111111, \"#46039f\"], [0.2222222222222222, \"#7201a8\"], [0.3333333333333333, \"#9c179e\"], [0.4444444444444444, \"#bd3786\"], [0.5555555555555556, \"#d8576b\"], [0.6666666666666666, \"#ed7953\"], [0.7777777777777778, \"#fb9f3a\"], [0.8888888888888888, \"#fdca26\"], [1.0, \"#f0f921\"]], \"type\": \"histogram2dcontour\"}], \"mesh3d\": [{\"colorbar\": {\"outlinewidth\": 0, \"ticks\": \"\"}, \"type\": \"mesh3d\"}], \"parcoords\": [{\"line\": {\"colorbar\": {\"outlinewidth\": 0, \"ticks\": \"\"}}, \"type\": \"parcoords\"}], \"pie\": [{\"automargin\": true, \"type\": \"pie\"}], \"scatter\": [{\"marker\": {\"colorbar\": {\"outlinewidth\": 0, \"ticks\": \"\"}}, \"type\": \"scatter\"}], \"scatter3d\": [{\"line\": {\"colorbar\": {\"outlinewidth\": 0, \"ticks\": \"\"}}, \"marker\": {\"colorbar\": {\"outlinewidth\": 0, \"ticks\": \"\"}}, \"type\": \"scatter3d\"}], \"scattercarpet\": [{\"marker\": {\"colorbar\": {\"outlinewidth\": 0, \"ticks\": \"\"}}, \"type\": \"scattercarpet\"}], \"scattergeo\": [{\"marker\": {\"colorbar\": {\"outlinewidth\": 0, \"ticks\": \"\"}}, \"type\": \"scattergeo\"}], \"scattergl\": [{\"marker\": {\"colorbar\": {\"outlinewidth\": 0, \"ticks\": \"\"}}, \"type\": \"scattergl\"}], \"scattermapbox\": [{\"marker\": {\"colorbar\": {\"outlinewidth\": 0, \"ticks\": \"\"}}, \"type\": \"scattermapbox\"}], \"scatterpolar\": [{\"marker\": {\"colorbar\": {\"outlinewidth\": 0, \"ticks\": \"\"}}, \"type\": \"scatterpolar\"}], \"scatterpolargl\": [{\"marker\": {\"colorbar\": {\"outlinewidth\": 0, \"ticks\": \"\"}}, \"type\": \"scatterpolargl\"}], \"scatterternary\": [{\"marker\": {\"colorbar\": {\"outlinewidth\": 0, \"ticks\": \"\"}}, \"type\": \"scatterternary\"}], \"surface\": [{\"colorbar\": {\"outlinewidth\": 0, \"ticks\": \"\"}, \"colorscale\": [[0.0, \"#0d0887\"], [0.1111111111111111, \"#46039f\"], [0.2222222222222222, \"#7201a8\"], [0.3333333333333333, \"#9c179e\"], [0.4444444444444444, \"#bd3786\"], [0.5555555555555556, \"#d8576b\"], [0.6666666666666666, \"#ed7953\"], [0.7777777777777778, \"#fb9f3a\"], [0.8888888888888888, \"#fdca26\"], [1.0, \"#f0f921\"]], \"type\": \"surface\"}], \"table\": [{\"cells\": {\"fill\": {\"color\": \"#EBF0F8\"}, \"line\": {\"color\": \"white\"}}, \"header\": {\"fill\": {\"color\": \"#C8D4E3\"}, \"line\": {\"color\": \"white\"}}, \"type\": \"table\"}]}, \"layout\": {\"annotationdefaults\": {\"arrowcolor\": \"#2a3f5f\", \"arrowhead\": 0, \"arrowwidth\": 1}, \"autotypenumbers\": \"strict\", \"coloraxis\": {\"colorbar\": {\"outlinewidth\": 0, \"ticks\": \"\"}}, \"colorscale\": {\"diverging\": [[0, \"#8e0152\"], [0.1, \"#c51b7d\"], [0.2, \"#de77ae\"], [0.3, \"#f1b6da\"], [0.4, \"#fde0ef\"], [0.5, \"#f7f7f7\"], [0.6, \"#e6f5d0\"], [0.7, \"#b8e186\"], [0.8, \"#7fbc41\"], [0.9, \"#4d9221\"], [1, \"#276419\"]], \"sequential\": [[0.0, \"#0d0887\"], [0.1111111111111111, \"#46039f\"], [0.2222222222222222, \"#7201a8\"], [0.3333333333333333, \"#9c179e\"], [0.4444444444444444, \"#bd3786\"], [0.5555555555555556, \"#d8576b\"], [0.6666666666666666, \"#ed7953\"], [0.7777777777777778, \"#fb9f3a\"], [0.8888888888888888, \"#fdca26\"], [1.0, \"#f0f921\"]], \"sequentialminus\": [[0.0, \"#0d0887\"], [0.1111111111111111, \"#46039f\"], [0.2222222222222222, \"#7201a8\"], [0.3333333333333333, \"#9c179e\"], [0.4444444444444444, \"#bd3786\"], [0.5555555555555556, \"#d8576b\"], [0.6666666666666666, \"#ed7953\"], [0.7777777777777778, \"#fb9f3a\"], [0.8888888888888888, \"#fdca26\"], [1.0, \"#f0f921\"]]}, \"colorway\": [\"#636efa\", \"#EF553B\", \"#00cc96\", \"#ab63fa\", \"#FFA15A\", \"#19d3f3\", \"#FF6692\", \"#B6E880\", \"#FF97FF\", \"#FECB52\"], \"font\": {\"color\": \"#2a3f5f\"}, \"geo\": {\"bgcolor\": \"white\", \"lakecolor\": \"white\", \"landcolor\": \"#E5ECF6\", \"showlakes\": true, \"showland\": true, \"subunitcolor\": \"white\"}, \"hoverlabel\": {\"align\": \"left\"}, \"hovermode\": \"closest\", \"mapbox\": {\"style\": \"light\"}, \"paper_bgcolor\": \"white\", \"plot_bgcolor\": \"#E5ECF6\", \"polar\": {\"angularaxis\": {\"gridcolor\": \"white\", \"linecolor\": \"white\", \"ticks\": \"\"}, \"bgcolor\": \"#E5ECF6\", \"radialaxis\": {\"gridcolor\": \"white\", \"linecolor\": \"white\", \"ticks\": \"\"}}, \"scene\": {\"xaxis\": {\"backgroundcolor\": \"#E5ECF6\", \"gridcolor\": \"white\", \"gridwidth\": 2, \"linecolor\": \"white\", \"showbackground\": true, \"ticks\": \"\", \"zerolinecolor\": \"white\"}, \"yaxis\": {\"backgroundcolor\": \"#E5ECF6\", \"gridcolor\": \"white\", \"gridwidth\": 2, \"linecolor\": \"white\", \"showbackground\": true, \"ticks\": \"\", \"zerolinecolor\": \"white\"}, \"zaxis\": {\"backgroundcolor\": \"#E5ECF6\", \"gridcolor\": \"white\", \"gridwidth\": 2, \"linecolor\": \"white\", \"showbackground\": true, \"ticks\": \"\", \"zerolinecolor\": \"white\"}}, \"shapedefaults\": {\"line\": {\"color\": \"#2a3f5f\"}}, \"ternary\": {\"aaxis\": {\"gridcolor\": \"white\", \"linecolor\": \"white\", \"ticks\": \"\"}, \"baxis\": {\"gridcolor\": \"white\", \"linecolor\": \"white\", \"ticks\": \"\"}, \"bgcolor\": \"#E5ECF6\", \"caxis\": {\"gridcolor\": \"white\", \"linecolor\": \"white\", \"ticks\": \"\"}}, \"title\": {\"x\": 0.05}, \"xaxis\": {\"automargin\": true, \"gridcolor\": \"white\", \"linecolor\": \"white\", \"ticks\": \"\", \"title\": {\"standoff\": 15}, \"zerolinecolor\": \"white\", \"zerolinewidth\": 2}, \"yaxis\": {\"automargin\": true, \"gridcolor\": \"white\", \"linecolor\": \"white\", \"ticks\": \"\", \"title\": {\"standoff\": 15}, \"zerolinecolor\": \"white\", \"zerolinewidth\": 2}}}},                        {\"responsive\": true}                    ).then(function(){\n",
       "                            \n",
       "var gd = document.getElementById('5b57d1f0-7dda-4cd9-8c25-f9ecc3aa9c97');\n",
       "var x = new MutationObserver(function (mutations, observer) {{\n",
       "        var display = window.getComputedStyle(gd).display;\n",
       "        if (!display || display === 'none') {{\n",
       "            console.log([gd, 'removed!']);\n",
       "            Plotly.purge(gd);\n",
       "            observer.disconnect();\n",
       "        }}\n",
       "}});\n",
       "\n",
       "// Listen for the removal of the full notebook cells\n",
       "var notebookContainer = gd.closest('#notebook-container');\n",
       "if (notebookContainer) {{\n",
       "    x.observe(notebookContainer, {childList: true});\n",
       "}}\n",
       "\n",
       "// Listen for the clearing of the current output cell\n",
       "var outputEl = gd.closest('.output');\n",
       "if (outputEl) {{\n",
       "    x.observe(outputEl, {childList: true});\n",
       "}}\n",
       "\n",
       "                        })                };                });            </script>        </div>"
      ]
     },
     "metadata": {},
     "output_type": "display_data"
    }
   ],
   "source": [
    "# Run Generic MOEA/D\n",
    "max_func_evals = 5000\n",
    "\n",
    "evolver_opt = MOEA_D(problem, use_surrogates=True, n_gen_per_iter=10, total_function_evaluations=max_func_evals)\n",
    "while evolver_opt.continue_evolution():\n",
    "        evolver_opt.iterate()\n",
    "        print(\"FE count:\",evolver_opt._function_evaluation_count)\n",
    "objectives = evolver_opt.population.objectives\n",
    "fig1 = go.Figure(data=go.Scatter3d(x=objectives[:,0],y=objectives[:,1],z=objectives[:,2], mode=\"markers\"))\n",
    "fig1"
   ]
  },
  {
   "cell_type": "code",
   "execution_count": 10,
   "metadata": {},
   "outputs": [
    {
     "name": "stdout",
     "output_type": "stream",
     "text": [
      "FE count: 1155\n",
      "FE count: 2205\n",
      "FE count: 3255\n",
      "FE count: 4305\n",
      "FE count: 5040\n"
     ]
    },
    {
     "data": {
      "application/vnd.plotly.v1+json": {
       "config": {
        "plotlyServerURL": "https://plot.ly"
       },
       "data": [
        {
         "mode": "markers",
         "type": "scatter3d",
         "x": [
          -0.022182164448647512,
          -0.026148093436257902,
          -0.04281951356598457,
          -0.04738827100427434,
          -0.05186403023142505,
          -0.047525434473856265,
          -0.060173883685882945,
          -0.08396133619250801,
          -0.0870118582170889,
          -0.1006974020695246,
          -0.10913139801459426,
          -0.10124196317235867,
          -0.11386317627944997,
          -0.11386317627944997,
          -0.026148093436257902,
          -0.029869533762076017,
          -0.020309793960212374,
          -0.04738827100427434,
          -0.041023055691208565,
          -0.04922682071531703,
          -0.04904522664073063,
          -0.03777654160601074,
          -0.08184871503582247,
          -0.07764705740480515,
          -0.06420808676339451,
          -0.08299097779454545,
          -0.09106203700294113,
          -0.026148093436257902,
          -0.026148093436257902,
          -0.017594426872695745,
          -0.011749937524367038,
          0.0124164306852097,
          -0.00415336510172315,
          -0.013053424936704694,
          -0.03653730652580389,
          -0.04177989473317911,
          -0.049704343034290055,
          -0.04261913515566462,
          -0.056497676674719166,
          0.0019499734122683243,
          0.027261069800383453,
          0.03711321083479335,
          0.0703478948466385,
          0.04553390348569408,
          0.06394816632229183,
          0.011784268283469679,
          -0.003717187792065424,
          -0.008073695694064575,
          -0.022344633975916572,
          -0.024196745158098665,
          0.032666085515814736,
          0.056084311735490555,
          0.08201642775691109,
          0.10339608149919144,
          0.0959808850778634,
          0.08862644001357722,
          0.04288142120518845,
          0.024302015822143197,
          0.010614823716849742,
          0.00046813146068025446,
          0.11016540273697295,
          0.1333162355281967,
          0.20033486663741673,
          0.10767366514441701,
          0.10064068892754374,
          0.10342416311869851,
          0.08939123927162385,
          0.07522551411286482,
          0.05700003257992403,
          0.15642536521608008,
          0.19914687347768822,
          0.1903008799918826,
          0.1910570893303154,
          0.1512472615723066,
          0.14640025891600938,
          0.11606299600808434,
          0.0893123340174844,
          0.13791949280827032,
          0.29167959561187295,
          0.1667989946931776,
          0.1628923414784822,
          0.17631877918540084,
          0.16544900543765273,
          0.11720194518586347,
          0.19024269290971896,
          0.1562859780788468,
          0.1020341484206293,
          0.1076914582573778,
          0.14301295973931616,
          0.10610140581002181,
          0.09841648417207782,
          0.09132326535908053,
          0.09132326535908053,
          0.1076914582573778,
          0.07184792339985435,
          0.0837523463090557,
          0.09132326535908053,
          0.0770500439032924,
          0.06408458805951689,
          0.09132326535908053,
          0.09132326535908053,
          0.0735439148936452,
          0.08608250423547048,
          0.09132326535908053,
          0.0837523463090557
         ],
         "y": [
          -0.039085826867293116,
          -0.03278475015955307,
          -0.008752075466513132,
          0.013542708556709249,
          0.00920125466503574,
          0.034221543146403466,
          0.09700985510995541,
          0.2607692048292529,
          0.25202075948654845,
          0.3971057846751924,
          0.32803416736061797,
          0.3893592218841875,
          0.33962594894106846,
          0.33962594894106846,
          -0.03278475015955307,
          -0.03661805472037516,
          -0.015056646335140478,
          0.013542708556709249,
          0.039142360297865775,
          0.07974863672038857,
          0.23497156415939546,
          0.39909310564104894,
          0.3025514781420533,
          0.30032405530095985,
          0.292501150327644,
          0.3422953900510346,
          0.34502771104395435,
          -0.03278475015955307,
          -0.03278475015955307,
          -0.017549350886619575,
          0.04646971645041442,
          0.09968769493297058,
          0.19417195119905006,
          0.2703473799717291,
          0.26683161351426765,
          0.23961482186682015,
          0.26196445585212347,
          0.2924649868325242,
          0.29418329471371174,
          -0.045694905111442585,
          -0.03834238417409974,
          0.0034165647225101736,
          0.09270456280004269,
          0.11800417802817642,
          0.2028695933714273,
          0.1916032485558925,
          0.18666878404674359,
          0.2492746435741955,
          0.23423870678388647,
          0.22867771678766857,
          -0.05319360791158423,
          -0.035762737396902944,
          0.004102163038376627,
          0.10107672409497326,
          0.11657163222614786,
          0.15620159650832255,
          0.14825194874891023,
          0.18624294388885243,
          0.2253820860694491,
          0.21172820764875833,
          -0.0532734739256151,
          -0.009710043131743173,
          0.05860037625578052,
          0.07482522819463444,
          0.10168310499897126,
          0.1197978688920327,
          0.17515309718450478,
          0.18889196563577615,
          0.2137357297563045,
          -0.059403648115114116,
          -0.0016593491938916571,
          0.011245344692648818,
          0.054991640533855524,
          0.11238322712098414,
          0.15152362897129734,
          0.13224991770530536,
          0.16591654706028658,
          -0.06048655147632265,
          -0.023153615907732794,
          0.00017571973766106197,
          0.02468133513584947,
          0.11151960861072219,
          0.11988978353135993,
          0.15401887205112574,
          -0.08538632925694811,
          -0.035437868023648456,
          -0.025679035164791086,
          0.02393479075121041,
          0.07536580493568046,
          0.08628615509191073,
          -0.045237827963366284,
          -0.031936317587211605,
          -0.031936317587211605,
          0.02393479075121041,
          0.035214091048942464,
          -0.038040108065263034,
          -0.031936317587211605,
          -0.004447539809711687,
          0.019071392420640265,
          -0.031936317587211605,
          -0.031936317587211605,
          0.004711300528798201,
          -0.03851778435068631,
          -0.031936317587211605,
          -0.038040108065263034
         ],
         "z": [
          -0.0160911823391392,
          0.0045666446557128815,
          -0.03153427327424607,
          0.001487560618289585,
          -0.028889994010754094,
          0.00786586081244156,
          0.006442417565385217,
          0.0699295782166871,
          0.04258198456324935,
          0.034050792139566965,
          -0.02404006667788039,
          -0.06892465243747203,
          -0.10073034812863924,
          -0.10073034812863924,
          0.0045666446557128815,
          -0.020318507026631405,
          0.02655392528885203,
          0.001487560618289585,
          0.022519525168520627,
          0.02372746351786681,
          0.09223759969977285,
          0.14056672415938465,
          0.026808290721732853,
          -0.02680988634159487,
          -0.06322918618091489,
          -0.0857950791476938,
          -0.11823170213247991,
          0.0045666446557128815,
          0.0045666446557128815,
          0.031054867148641474,
          0.06414327499511074,
          0.10875131577830288,
          0.11666863580315123,
          0.11121405749249114,
          0.017704216820432883,
          -0.0285791410904519,
          -0.06739876279236867,
          -0.09537043502450882,
          -0.1276867365487302,
          0.015702255492614725,
          0.07043875049502368,
          0.07745654522480327,
          0.15074687358859773,
          0.13812021887984027,
          0.1316984434282089,
          0.01628037831810758,
          -0.030314365539970467,
          -0.05610637174341093,
          -0.08560553969671059,
          -0.11867317371544583,
          0.06661553449313606,
          0.08369447668916541,
          0.12209227585915938,
          0.1535136915603168,
          0.10174718657883641,
          0.02358887410275745,
          -0.027147894803289496,
          -0.06737607068853269,
          -0.08400151444828374,
          -0.12808795132505058,
          0.10631453314427519,
          0.1585788583691361,
          0.19535034609430735,
          0.06082478667147573,
          -0.0027984308523834045,
          -0.02832424796882016,
          -0.062230108086449576,
          -0.08353692059274831,
          -0.11108684696268956,
          0.12648711057078543,
          0.12710250141235946,
          0.07422872853801987,
          0.03948922659422305,
          0.0032150358376137333,
          -0.0496504152853241,
          -0.10342972709676346,
          -0.11304670822324603,
          0.06334314603529245,
          0.11842245777994442,
          0.030001120095213274,
          -0.022480882933454183,
          -0.0605181103829775,
          -0.07671586941576614,
          -0.12189138650560238,
          0.04680632348036928,
          -0.0005651673061768392,
          -0.027489575052523918,
          -0.08121074754461599,
          -0.07600949665919998,
          -0.10103839334992504,
          -0.02290826894100295,
          -0.06022231300270153,
          -0.06022231300270153,
          -0.08121074754461599,
          -0.1067277827816655,
          -0.0556871740899334,
          -0.06022231300270153,
          -0.06787281611308682,
          -0.08837551292021306,
          -0.06022231300270153,
          -0.06022231300270153,
          -0.0906098287071373,
          -0.053885920578962576,
          -0.06022231300270153,
          -0.0556871740899334
         ]
        }
       ],
       "layout": {
        "template": {
         "data": {
          "bar": [
           {
            "error_x": {
             "color": "#2a3f5f"
            },
            "error_y": {
             "color": "#2a3f5f"
            },
            "marker": {
             "line": {
              "color": "#E5ECF6",
              "width": 0.5
             }
            },
            "type": "bar"
           }
          ],
          "barpolar": [
           {
            "marker": {
             "line": {
              "color": "#E5ECF6",
              "width": 0.5
             }
            },
            "type": "barpolar"
           }
          ],
          "carpet": [
           {
            "aaxis": {
             "endlinecolor": "#2a3f5f",
             "gridcolor": "white",
             "linecolor": "white",
             "minorgridcolor": "white",
             "startlinecolor": "#2a3f5f"
            },
            "baxis": {
             "endlinecolor": "#2a3f5f",
             "gridcolor": "white",
             "linecolor": "white",
             "minorgridcolor": "white",
             "startlinecolor": "#2a3f5f"
            },
            "type": "carpet"
           }
          ],
          "choropleth": [
           {
            "colorbar": {
             "outlinewidth": 0,
             "ticks": ""
            },
            "type": "choropleth"
           }
          ],
          "contour": [
           {
            "colorbar": {
             "outlinewidth": 0,
             "ticks": ""
            },
            "colorscale": [
             [
              0,
              "#0d0887"
             ],
             [
              0.1111111111111111,
              "#46039f"
             ],
             [
              0.2222222222222222,
              "#7201a8"
             ],
             [
              0.3333333333333333,
              "#9c179e"
             ],
             [
              0.4444444444444444,
              "#bd3786"
             ],
             [
              0.5555555555555556,
              "#d8576b"
             ],
             [
              0.6666666666666666,
              "#ed7953"
             ],
             [
              0.7777777777777778,
              "#fb9f3a"
             ],
             [
              0.8888888888888888,
              "#fdca26"
             ],
             [
              1,
              "#f0f921"
             ]
            ],
            "type": "contour"
           }
          ],
          "contourcarpet": [
           {
            "colorbar": {
             "outlinewidth": 0,
             "ticks": ""
            },
            "type": "contourcarpet"
           }
          ],
          "heatmap": [
           {
            "colorbar": {
             "outlinewidth": 0,
             "ticks": ""
            },
            "colorscale": [
             [
              0,
              "#0d0887"
             ],
             [
              0.1111111111111111,
              "#46039f"
             ],
             [
              0.2222222222222222,
              "#7201a8"
             ],
             [
              0.3333333333333333,
              "#9c179e"
             ],
             [
              0.4444444444444444,
              "#bd3786"
             ],
             [
              0.5555555555555556,
              "#d8576b"
             ],
             [
              0.6666666666666666,
              "#ed7953"
             ],
             [
              0.7777777777777778,
              "#fb9f3a"
             ],
             [
              0.8888888888888888,
              "#fdca26"
             ],
             [
              1,
              "#f0f921"
             ]
            ],
            "type": "heatmap"
           }
          ],
          "heatmapgl": [
           {
            "colorbar": {
             "outlinewidth": 0,
             "ticks": ""
            },
            "colorscale": [
             [
              0,
              "#0d0887"
             ],
             [
              0.1111111111111111,
              "#46039f"
             ],
             [
              0.2222222222222222,
              "#7201a8"
             ],
             [
              0.3333333333333333,
              "#9c179e"
             ],
             [
              0.4444444444444444,
              "#bd3786"
             ],
             [
              0.5555555555555556,
              "#d8576b"
             ],
             [
              0.6666666666666666,
              "#ed7953"
             ],
             [
              0.7777777777777778,
              "#fb9f3a"
             ],
             [
              0.8888888888888888,
              "#fdca26"
             ],
             [
              1,
              "#f0f921"
             ]
            ],
            "type": "heatmapgl"
           }
          ],
          "histogram": [
           {
            "marker": {
             "colorbar": {
              "outlinewidth": 0,
              "ticks": ""
             }
            },
            "type": "histogram"
           }
          ],
          "histogram2d": [
           {
            "colorbar": {
             "outlinewidth": 0,
             "ticks": ""
            },
            "colorscale": [
             [
              0,
              "#0d0887"
             ],
             [
              0.1111111111111111,
              "#46039f"
             ],
             [
              0.2222222222222222,
              "#7201a8"
             ],
             [
              0.3333333333333333,
              "#9c179e"
             ],
             [
              0.4444444444444444,
              "#bd3786"
             ],
             [
              0.5555555555555556,
              "#d8576b"
             ],
             [
              0.6666666666666666,
              "#ed7953"
             ],
             [
              0.7777777777777778,
              "#fb9f3a"
             ],
             [
              0.8888888888888888,
              "#fdca26"
             ],
             [
              1,
              "#f0f921"
             ]
            ],
            "type": "histogram2d"
           }
          ],
          "histogram2dcontour": [
           {
            "colorbar": {
             "outlinewidth": 0,
             "ticks": ""
            },
            "colorscale": [
             [
              0,
              "#0d0887"
             ],
             [
              0.1111111111111111,
              "#46039f"
             ],
             [
              0.2222222222222222,
              "#7201a8"
             ],
             [
              0.3333333333333333,
              "#9c179e"
             ],
             [
              0.4444444444444444,
              "#bd3786"
             ],
             [
              0.5555555555555556,
              "#d8576b"
             ],
             [
              0.6666666666666666,
              "#ed7953"
             ],
             [
              0.7777777777777778,
              "#fb9f3a"
             ],
             [
              0.8888888888888888,
              "#fdca26"
             ],
             [
              1,
              "#f0f921"
             ]
            ],
            "type": "histogram2dcontour"
           }
          ],
          "mesh3d": [
           {
            "colorbar": {
             "outlinewidth": 0,
             "ticks": ""
            },
            "type": "mesh3d"
           }
          ],
          "parcoords": [
           {
            "line": {
             "colorbar": {
              "outlinewidth": 0,
              "ticks": ""
             }
            },
            "type": "parcoords"
           }
          ],
          "pie": [
           {
            "automargin": true,
            "type": "pie"
           }
          ],
          "scatter": [
           {
            "marker": {
             "colorbar": {
              "outlinewidth": 0,
              "ticks": ""
             }
            },
            "type": "scatter"
           }
          ],
          "scatter3d": [
           {
            "line": {
             "colorbar": {
              "outlinewidth": 0,
              "ticks": ""
             }
            },
            "marker": {
             "colorbar": {
              "outlinewidth": 0,
              "ticks": ""
             }
            },
            "type": "scatter3d"
           }
          ],
          "scattercarpet": [
           {
            "marker": {
             "colorbar": {
              "outlinewidth": 0,
              "ticks": ""
             }
            },
            "type": "scattercarpet"
           }
          ],
          "scattergeo": [
           {
            "marker": {
             "colorbar": {
              "outlinewidth": 0,
              "ticks": ""
             }
            },
            "type": "scattergeo"
           }
          ],
          "scattergl": [
           {
            "marker": {
             "colorbar": {
              "outlinewidth": 0,
              "ticks": ""
             }
            },
            "type": "scattergl"
           }
          ],
          "scattermapbox": [
           {
            "marker": {
             "colorbar": {
              "outlinewidth": 0,
              "ticks": ""
             }
            },
            "type": "scattermapbox"
           }
          ],
          "scatterpolar": [
           {
            "marker": {
             "colorbar": {
              "outlinewidth": 0,
              "ticks": ""
             }
            },
            "type": "scatterpolar"
           }
          ],
          "scatterpolargl": [
           {
            "marker": {
             "colorbar": {
              "outlinewidth": 0,
              "ticks": ""
             }
            },
            "type": "scatterpolargl"
           }
          ],
          "scatterternary": [
           {
            "marker": {
             "colorbar": {
              "outlinewidth": 0,
              "ticks": ""
             }
            },
            "type": "scatterternary"
           }
          ],
          "surface": [
           {
            "colorbar": {
             "outlinewidth": 0,
             "ticks": ""
            },
            "colorscale": [
             [
              0,
              "#0d0887"
             ],
             [
              0.1111111111111111,
              "#46039f"
             ],
             [
              0.2222222222222222,
              "#7201a8"
             ],
             [
              0.3333333333333333,
              "#9c179e"
             ],
             [
              0.4444444444444444,
              "#bd3786"
             ],
             [
              0.5555555555555556,
              "#d8576b"
             ],
             [
              0.6666666666666666,
              "#ed7953"
             ],
             [
              0.7777777777777778,
              "#fb9f3a"
             ],
             [
              0.8888888888888888,
              "#fdca26"
             ],
             [
              1,
              "#f0f921"
             ]
            ],
            "type": "surface"
           }
          ],
          "table": [
           {
            "cells": {
             "fill": {
              "color": "#EBF0F8"
             },
             "line": {
              "color": "white"
             }
            },
            "header": {
             "fill": {
              "color": "#C8D4E3"
             },
             "line": {
              "color": "white"
             }
            },
            "type": "table"
           }
          ]
         },
         "layout": {
          "annotationdefaults": {
           "arrowcolor": "#2a3f5f",
           "arrowhead": 0,
           "arrowwidth": 1
          },
          "autotypenumbers": "strict",
          "coloraxis": {
           "colorbar": {
            "outlinewidth": 0,
            "ticks": ""
           }
          },
          "colorscale": {
           "diverging": [
            [
             0,
             "#8e0152"
            ],
            [
             0.1,
             "#c51b7d"
            ],
            [
             0.2,
             "#de77ae"
            ],
            [
             0.3,
             "#f1b6da"
            ],
            [
             0.4,
             "#fde0ef"
            ],
            [
             0.5,
             "#f7f7f7"
            ],
            [
             0.6,
             "#e6f5d0"
            ],
            [
             0.7,
             "#b8e186"
            ],
            [
             0.8,
             "#7fbc41"
            ],
            [
             0.9,
             "#4d9221"
            ],
            [
             1,
             "#276419"
            ]
           ],
           "sequential": [
            [
             0,
             "#0d0887"
            ],
            [
             0.1111111111111111,
             "#46039f"
            ],
            [
             0.2222222222222222,
             "#7201a8"
            ],
            [
             0.3333333333333333,
             "#9c179e"
            ],
            [
             0.4444444444444444,
             "#bd3786"
            ],
            [
             0.5555555555555556,
             "#d8576b"
            ],
            [
             0.6666666666666666,
             "#ed7953"
            ],
            [
             0.7777777777777778,
             "#fb9f3a"
            ],
            [
             0.8888888888888888,
             "#fdca26"
            ],
            [
             1,
             "#f0f921"
            ]
           ],
           "sequentialminus": [
            [
             0,
             "#0d0887"
            ],
            [
             0.1111111111111111,
             "#46039f"
            ],
            [
             0.2222222222222222,
             "#7201a8"
            ],
            [
             0.3333333333333333,
             "#9c179e"
            ],
            [
             0.4444444444444444,
             "#bd3786"
            ],
            [
             0.5555555555555556,
             "#d8576b"
            ],
            [
             0.6666666666666666,
             "#ed7953"
            ],
            [
             0.7777777777777778,
             "#fb9f3a"
            ],
            [
             0.8888888888888888,
             "#fdca26"
            ],
            [
             1,
             "#f0f921"
            ]
           ]
          },
          "colorway": [
           "#636efa",
           "#EF553B",
           "#00cc96",
           "#ab63fa",
           "#FFA15A",
           "#19d3f3",
           "#FF6692",
           "#B6E880",
           "#FF97FF",
           "#FECB52"
          ],
          "font": {
           "color": "#2a3f5f"
          },
          "geo": {
           "bgcolor": "white",
           "lakecolor": "white",
           "landcolor": "#E5ECF6",
           "showlakes": true,
           "showland": true,
           "subunitcolor": "white"
          },
          "hoverlabel": {
           "align": "left"
          },
          "hovermode": "closest",
          "mapbox": {
           "style": "light"
          },
          "paper_bgcolor": "white",
          "plot_bgcolor": "#E5ECF6",
          "polar": {
           "angularaxis": {
            "gridcolor": "white",
            "linecolor": "white",
            "ticks": ""
           },
           "bgcolor": "#E5ECF6",
           "radialaxis": {
            "gridcolor": "white",
            "linecolor": "white",
            "ticks": ""
           }
          },
          "scene": {
           "xaxis": {
            "backgroundcolor": "#E5ECF6",
            "gridcolor": "white",
            "gridwidth": 2,
            "linecolor": "white",
            "showbackground": true,
            "ticks": "",
            "zerolinecolor": "white"
           },
           "yaxis": {
            "backgroundcolor": "#E5ECF6",
            "gridcolor": "white",
            "gridwidth": 2,
            "linecolor": "white",
            "showbackground": true,
            "ticks": "",
            "zerolinecolor": "white"
           },
           "zaxis": {
            "backgroundcolor": "#E5ECF6",
            "gridcolor": "white",
            "gridwidth": 2,
            "linecolor": "white",
            "showbackground": true,
            "ticks": "",
            "zerolinecolor": "white"
           }
          },
          "shapedefaults": {
           "line": {
            "color": "#2a3f5f"
           }
          },
          "ternary": {
           "aaxis": {
            "gridcolor": "white",
            "linecolor": "white",
            "ticks": ""
           },
           "baxis": {
            "gridcolor": "white",
            "linecolor": "white",
            "ticks": ""
           },
           "bgcolor": "#E5ECF6",
           "caxis": {
            "gridcolor": "white",
            "linecolor": "white",
            "ticks": ""
           }
          },
          "title": {
           "x": 0.05
          },
          "xaxis": {
           "automargin": true,
           "gridcolor": "white",
           "linecolor": "white",
           "ticks": "",
           "title": {
            "standoff": 15
           },
           "zerolinecolor": "white",
           "zerolinewidth": 2
          },
          "yaxis": {
           "automargin": true,
           "gridcolor": "white",
           "linecolor": "white",
           "ticks": "",
           "title": {
            "standoff": 15
           },
           "zerolinecolor": "white",
           "zerolinewidth": 2
          }
         }
        }
       }
      },
      "text/html": [
       "<div>                            <div id=\"ecee904b-d4ec-4b54-bc7e-3619393f5cd5\" class=\"plotly-graph-div\" style=\"height:525px; width:100%;\"></div>            <script type=\"text/javascript\">                require([\"plotly\"], function(Plotly) {                    window.PLOTLYENV=window.PLOTLYENV || {};                                    if (document.getElementById(\"ecee904b-d4ec-4b54-bc7e-3619393f5cd5\")) {                    Plotly.newPlot(                        \"ecee904b-d4ec-4b54-bc7e-3619393f5cd5\",                        [{\"mode\": \"markers\", \"type\": \"scatter3d\", \"x\": [-0.022182164448647512, -0.026148093436257902, -0.04281951356598457, -0.04738827100427434, -0.05186403023142505, -0.047525434473856265, -0.060173883685882945, -0.08396133619250801, -0.0870118582170889, -0.1006974020695246, -0.10913139801459426, -0.10124196317235867, -0.11386317627944997, -0.11386317627944997, -0.026148093436257902, -0.029869533762076017, -0.020309793960212374, -0.04738827100427434, -0.041023055691208565, -0.04922682071531703, -0.04904522664073063, -0.03777654160601074, -0.08184871503582247, -0.07764705740480515, -0.06420808676339451, -0.08299097779454545, -0.09106203700294113, -0.026148093436257902, -0.026148093436257902, -0.017594426872695745, -0.011749937524367038, 0.0124164306852097, -0.00415336510172315, -0.013053424936704694, -0.03653730652580389, -0.04177989473317911, -0.049704343034290055, -0.04261913515566462, -0.056497676674719166, 0.0019499734122683243, 0.027261069800383453, 0.03711321083479335, 0.0703478948466385, 0.04553390348569408, 0.06394816632229183, 0.011784268283469679, -0.003717187792065424, -0.008073695694064575, -0.022344633975916572, -0.024196745158098665, 0.032666085515814736, 0.056084311735490555, 0.08201642775691109, 0.10339608149919144, 0.0959808850778634, 0.08862644001357722, 0.04288142120518845, 0.024302015822143197, 0.010614823716849742, 0.00046813146068025446, 0.11016540273697295, 0.1333162355281967, 0.20033486663741673, 0.10767366514441701, 0.10064068892754374, 0.10342416311869851, 0.08939123927162385, 0.07522551411286482, 0.05700003257992403, 0.15642536521608008, 0.19914687347768822, 0.1903008799918826, 0.1910570893303154, 0.1512472615723066, 0.14640025891600938, 0.11606299600808434, 0.0893123340174844, 0.13791949280827032, 0.29167959561187295, 0.1667989946931776, 0.1628923414784822, 0.17631877918540084, 0.16544900543765273, 0.11720194518586347, 0.19024269290971896, 0.1562859780788468, 0.1020341484206293, 0.1076914582573778, 0.14301295973931616, 0.10610140581002181, 0.09841648417207782, 0.09132326535908053, 0.09132326535908053, 0.1076914582573778, 0.07184792339985435, 0.0837523463090557, 0.09132326535908053, 0.0770500439032924, 0.06408458805951689, 0.09132326535908053, 0.09132326535908053, 0.0735439148936452, 0.08608250423547048, 0.09132326535908053, 0.0837523463090557], \"y\": [-0.039085826867293116, -0.03278475015955307, -0.008752075466513132, 0.013542708556709249, 0.00920125466503574, 0.034221543146403466, 0.09700985510995541, 0.2607692048292529, 0.25202075948654845, 0.3971057846751924, 0.32803416736061797, 0.3893592218841875, 0.33962594894106846, 0.33962594894106846, -0.03278475015955307, -0.03661805472037516, -0.015056646335140478, 0.013542708556709249, 0.039142360297865775, 0.07974863672038857, 0.23497156415939546, 0.39909310564104894, 0.3025514781420533, 0.30032405530095985, 0.292501150327644, 0.3422953900510346, 0.34502771104395435, -0.03278475015955307, -0.03278475015955307, -0.017549350886619575, 0.04646971645041442, 0.09968769493297058, 0.19417195119905006, 0.2703473799717291, 0.26683161351426765, 0.23961482186682015, 0.26196445585212347, 0.2924649868325242, 0.29418329471371174, -0.045694905111442585, -0.03834238417409974, 0.0034165647225101736, 0.09270456280004269, 0.11800417802817642, 0.2028695933714273, 0.1916032485558925, 0.18666878404674359, 0.2492746435741955, 0.23423870678388647, 0.22867771678766857, -0.05319360791158423, -0.035762737396902944, 0.004102163038376627, 0.10107672409497326, 0.11657163222614786, 0.15620159650832255, 0.14825194874891023, 0.18624294388885243, 0.2253820860694491, 0.21172820764875833, -0.0532734739256151, -0.009710043131743173, 0.05860037625578052, 0.07482522819463444, 0.10168310499897126, 0.1197978688920327, 0.17515309718450478, 0.18889196563577615, 0.2137357297563045, -0.059403648115114116, -0.0016593491938916571, 0.011245344692648818, 0.054991640533855524, 0.11238322712098414, 0.15152362897129734, 0.13224991770530536, 0.16591654706028658, -0.06048655147632265, -0.023153615907732794, 0.00017571973766106197, 0.02468133513584947, 0.11151960861072219, 0.11988978353135993, 0.15401887205112574, -0.08538632925694811, -0.035437868023648456, -0.025679035164791086, 0.02393479075121041, 0.07536580493568046, 0.08628615509191073, -0.045237827963366284, -0.031936317587211605, -0.031936317587211605, 0.02393479075121041, 0.035214091048942464, -0.038040108065263034, -0.031936317587211605, -0.004447539809711687, 0.019071392420640265, -0.031936317587211605, -0.031936317587211605, 0.004711300528798201, -0.03851778435068631, -0.031936317587211605, -0.038040108065263034], \"z\": [-0.0160911823391392, 0.0045666446557128815, -0.03153427327424607, 0.001487560618289585, -0.028889994010754094, 0.00786586081244156, 0.006442417565385217, 0.0699295782166871, 0.04258198456324935, 0.034050792139566965, -0.02404006667788039, -0.06892465243747203, -0.10073034812863924, -0.10073034812863924, 0.0045666446557128815, -0.020318507026631405, 0.02655392528885203, 0.001487560618289585, 0.022519525168520627, 0.02372746351786681, 0.09223759969977285, 0.14056672415938465, 0.026808290721732853, -0.02680988634159487, -0.06322918618091489, -0.0857950791476938, -0.11823170213247991, 0.0045666446557128815, 0.0045666446557128815, 0.031054867148641474, 0.06414327499511074, 0.10875131577830288, 0.11666863580315123, 0.11121405749249114, 0.017704216820432883, -0.0285791410904519, -0.06739876279236867, -0.09537043502450882, -0.1276867365487302, 0.015702255492614725, 0.07043875049502368, 0.07745654522480327, 0.15074687358859773, 0.13812021887984027, 0.1316984434282089, 0.01628037831810758, -0.030314365539970467, -0.05610637174341093, -0.08560553969671059, -0.11867317371544583, 0.06661553449313606, 0.08369447668916541, 0.12209227585915938, 0.1535136915603168, 0.10174718657883641, 0.02358887410275745, -0.027147894803289496, -0.06737607068853269, -0.08400151444828374, -0.12808795132505058, 0.10631453314427519, 0.1585788583691361, 0.19535034609430735, 0.06082478667147573, -0.0027984308523834045, -0.02832424796882016, -0.062230108086449576, -0.08353692059274831, -0.11108684696268956, 0.12648711057078543, 0.12710250141235946, 0.07422872853801987, 0.03948922659422305, 0.0032150358376137333, -0.0496504152853241, -0.10342972709676346, -0.11304670822324603, 0.06334314603529245, 0.11842245777994442, 0.030001120095213274, -0.022480882933454183, -0.0605181103829775, -0.07671586941576614, -0.12189138650560238, 0.04680632348036928, -0.0005651673061768392, -0.027489575052523918, -0.08121074754461599, -0.07600949665919998, -0.10103839334992504, -0.02290826894100295, -0.06022231300270153, -0.06022231300270153, -0.08121074754461599, -0.1067277827816655, -0.0556871740899334, -0.06022231300270153, -0.06787281611308682, -0.08837551292021306, -0.06022231300270153, -0.06022231300270153, -0.0906098287071373, -0.053885920578962576, -0.06022231300270153, -0.0556871740899334]}],                        {\"template\": {\"data\": {\"bar\": [{\"error_x\": {\"color\": \"#2a3f5f\"}, \"error_y\": {\"color\": \"#2a3f5f\"}, \"marker\": {\"line\": {\"color\": \"#E5ECF6\", \"width\": 0.5}}, \"type\": \"bar\"}], \"barpolar\": [{\"marker\": {\"line\": {\"color\": \"#E5ECF6\", \"width\": 0.5}}, \"type\": \"barpolar\"}], \"carpet\": [{\"aaxis\": {\"endlinecolor\": \"#2a3f5f\", \"gridcolor\": \"white\", \"linecolor\": \"white\", \"minorgridcolor\": \"white\", \"startlinecolor\": \"#2a3f5f\"}, \"baxis\": {\"endlinecolor\": \"#2a3f5f\", \"gridcolor\": \"white\", \"linecolor\": \"white\", \"minorgridcolor\": \"white\", \"startlinecolor\": \"#2a3f5f\"}, \"type\": \"carpet\"}], \"choropleth\": [{\"colorbar\": {\"outlinewidth\": 0, \"ticks\": \"\"}, \"type\": \"choropleth\"}], \"contour\": [{\"colorbar\": {\"outlinewidth\": 0, \"ticks\": \"\"}, \"colorscale\": [[0.0, \"#0d0887\"], [0.1111111111111111, \"#46039f\"], [0.2222222222222222, \"#7201a8\"], [0.3333333333333333, \"#9c179e\"], [0.4444444444444444, \"#bd3786\"], [0.5555555555555556, \"#d8576b\"], [0.6666666666666666, \"#ed7953\"], [0.7777777777777778, \"#fb9f3a\"], [0.8888888888888888, \"#fdca26\"], [1.0, \"#f0f921\"]], \"type\": \"contour\"}], \"contourcarpet\": [{\"colorbar\": {\"outlinewidth\": 0, \"ticks\": \"\"}, \"type\": \"contourcarpet\"}], \"heatmap\": [{\"colorbar\": {\"outlinewidth\": 0, \"ticks\": \"\"}, \"colorscale\": [[0.0, \"#0d0887\"], [0.1111111111111111, \"#46039f\"], [0.2222222222222222, \"#7201a8\"], [0.3333333333333333, \"#9c179e\"], [0.4444444444444444, \"#bd3786\"], [0.5555555555555556, \"#d8576b\"], [0.6666666666666666, \"#ed7953\"], [0.7777777777777778, \"#fb9f3a\"], [0.8888888888888888, \"#fdca26\"], [1.0, \"#f0f921\"]], \"type\": \"heatmap\"}], \"heatmapgl\": [{\"colorbar\": {\"outlinewidth\": 0, \"ticks\": \"\"}, \"colorscale\": [[0.0, \"#0d0887\"], [0.1111111111111111, \"#46039f\"], [0.2222222222222222, \"#7201a8\"], [0.3333333333333333, \"#9c179e\"], [0.4444444444444444, \"#bd3786\"], [0.5555555555555556, \"#d8576b\"], [0.6666666666666666, \"#ed7953\"], [0.7777777777777778, \"#fb9f3a\"], [0.8888888888888888, \"#fdca26\"], [1.0, \"#f0f921\"]], \"type\": \"heatmapgl\"}], \"histogram\": [{\"marker\": {\"colorbar\": {\"outlinewidth\": 0, \"ticks\": \"\"}}, \"type\": \"histogram\"}], \"histogram2d\": [{\"colorbar\": {\"outlinewidth\": 0, \"ticks\": \"\"}, \"colorscale\": [[0.0, \"#0d0887\"], [0.1111111111111111, \"#46039f\"], [0.2222222222222222, \"#7201a8\"], [0.3333333333333333, \"#9c179e\"], [0.4444444444444444, \"#bd3786\"], [0.5555555555555556, \"#d8576b\"], [0.6666666666666666, \"#ed7953\"], [0.7777777777777778, \"#fb9f3a\"], [0.8888888888888888, \"#fdca26\"], [1.0, \"#f0f921\"]], \"type\": \"histogram2d\"}], \"histogram2dcontour\": [{\"colorbar\": {\"outlinewidth\": 0, \"ticks\": \"\"}, \"colorscale\": [[0.0, \"#0d0887\"], [0.1111111111111111, \"#46039f\"], [0.2222222222222222, \"#7201a8\"], [0.3333333333333333, \"#9c179e\"], [0.4444444444444444, \"#bd3786\"], [0.5555555555555556, \"#d8576b\"], [0.6666666666666666, \"#ed7953\"], [0.7777777777777778, \"#fb9f3a\"], [0.8888888888888888, \"#fdca26\"], [1.0, \"#f0f921\"]], \"type\": \"histogram2dcontour\"}], \"mesh3d\": [{\"colorbar\": {\"outlinewidth\": 0, \"ticks\": \"\"}, \"type\": \"mesh3d\"}], \"parcoords\": [{\"line\": {\"colorbar\": {\"outlinewidth\": 0, \"ticks\": \"\"}}, \"type\": \"parcoords\"}], \"pie\": [{\"automargin\": true, \"type\": \"pie\"}], \"scatter\": [{\"marker\": {\"colorbar\": {\"outlinewidth\": 0, \"ticks\": \"\"}}, \"type\": \"scatter\"}], \"scatter3d\": [{\"line\": {\"colorbar\": {\"outlinewidth\": 0, \"ticks\": \"\"}}, \"marker\": {\"colorbar\": {\"outlinewidth\": 0, \"ticks\": \"\"}}, \"type\": \"scatter3d\"}], \"scattercarpet\": [{\"marker\": {\"colorbar\": {\"outlinewidth\": 0, \"ticks\": \"\"}}, \"type\": \"scattercarpet\"}], \"scattergeo\": [{\"marker\": {\"colorbar\": {\"outlinewidth\": 0, \"ticks\": \"\"}}, \"type\": \"scattergeo\"}], \"scattergl\": [{\"marker\": {\"colorbar\": {\"outlinewidth\": 0, \"ticks\": \"\"}}, \"type\": \"scattergl\"}], \"scattermapbox\": [{\"marker\": {\"colorbar\": {\"outlinewidth\": 0, \"ticks\": \"\"}}, \"type\": \"scattermapbox\"}], \"scatterpolar\": [{\"marker\": {\"colorbar\": {\"outlinewidth\": 0, \"ticks\": \"\"}}, \"type\": \"scatterpolar\"}], \"scatterpolargl\": [{\"marker\": {\"colorbar\": {\"outlinewidth\": 0, \"ticks\": \"\"}}, \"type\": \"scatterpolargl\"}], \"scatterternary\": [{\"marker\": {\"colorbar\": {\"outlinewidth\": 0, \"ticks\": \"\"}}, \"type\": \"scatterternary\"}], \"surface\": [{\"colorbar\": {\"outlinewidth\": 0, \"ticks\": \"\"}, \"colorscale\": [[0.0, \"#0d0887\"], [0.1111111111111111, \"#46039f\"], [0.2222222222222222, \"#7201a8\"], [0.3333333333333333, \"#9c179e\"], [0.4444444444444444, \"#bd3786\"], [0.5555555555555556, \"#d8576b\"], [0.6666666666666666, \"#ed7953\"], [0.7777777777777778, \"#fb9f3a\"], [0.8888888888888888, \"#fdca26\"], [1.0, \"#f0f921\"]], \"type\": \"surface\"}], \"table\": [{\"cells\": {\"fill\": {\"color\": \"#EBF0F8\"}, \"line\": {\"color\": \"white\"}}, \"header\": {\"fill\": {\"color\": \"#C8D4E3\"}, \"line\": {\"color\": \"white\"}}, \"type\": \"table\"}]}, \"layout\": {\"annotationdefaults\": {\"arrowcolor\": \"#2a3f5f\", \"arrowhead\": 0, \"arrowwidth\": 1}, \"autotypenumbers\": \"strict\", \"coloraxis\": {\"colorbar\": {\"outlinewidth\": 0, \"ticks\": \"\"}}, \"colorscale\": {\"diverging\": [[0, \"#8e0152\"], [0.1, \"#c51b7d\"], [0.2, \"#de77ae\"], [0.3, \"#f1b6da\"], [0.4, \"#fde0ef\"], [0.5, \"#f7f7f7\"], [0.6, \"#e6f5d0\"], [0.7, \"#b8e186\"], [0.8, \"#7fbc41\"], [0.9, \"#4d9221\"], [1, \"#276419\"]], \"sequential\": [[0.0, \"#0d0887\"], [0.1111111111111111, \"#46039f\"], [0.2222222222222222, \"#7201a8\"], [0.3333333333333333, \"#9c179e\"], [0.4444444444444444, \"#bd3786\"], [0.5555555555555556, \"#d8576b\"], [0.6666666666666666, \"#ed7953\"], [0.7777777777777778, \"#fb9f3a\"], [0.8888888888888888, \"#fdca26\"], [1.0, \"#f0f921\"]], \"sequentialminus\": [[0.0, \"#0d0887\"], [0.1111111111111111, \"#46039f\"], [0.2222222222222222, \"#7201a8\"], [0.3333333333333333, \"#9c179e\"], [0.4444444444444444, \"#bd3786\"], [0.5555555555555556, \"#d8576b\"], [0.6666666666666666, \"#ed7953\"], [0.7777777777777778, \"#fb9f3a\"], [0.8888888888888888, \"#fdca26\"], [1.0, \"#f0f921\"]]}, \"colorway\": [\"#636efa\", \"#EF553B\", \"#00cc96\", \"#ab63fa\", \"#FFA15A\", \"#19d3f3\", \"#FF6692\", \"#B6E880\", \"#FF97FF\", \"#FECB52\"], \"font\": {\"color\": \"#2a3f5f\"}, \"geo\": {\"bgcolor\": \"white\", \"lakecolor\": \"white\", \"landcolor\": \"#E5ECF6\", \"showlakes\": true, \"showland\": true, \"subunitcolor\": \"white\"}, \"hoverlabel\": {\"align\": \"left\"}, \"hovermode\": \"closest\", \"mapbox\": {\"style\": \"light\"}, \"paper_bgcolor\": \"white\", \"plot_bgcolor\": \"#E5ECF6\", \"polar\": {\"angularaxis\": {\"gridcolor\": \"white\", \"linecolor\": \"white\", \"ticks\": \"\"}, \"bgcolor\": \"#E5ECF6\", \"radialaxis\": {\"gridcolor\": \"white\", \"linecolor\": \"white\", \"ticks\": \"\"}}, \"scene\": {\"xaxis\": {\"backgroundcolor\": \"#E5ECF6\", \"gridcolor\": \"white\", \"gridwidth\": 2, \"linecolor\": \"white\", \"showbackground\": true, \"ticks\": \"\", \"zerolinecolor\": \"white\"}, \"yaxis\": {\"backgroundcolor\": \"#E5ECF6\", \"gridcolor\": \"white\", \"gridwidth\": 2, \"linecolor\": \"white\", \"showbackground\": true, \"ticks\": \"\", \"zerolinecolor\": \"white\"}, \"zaxis\": {\"backgroundcolor\": \"#E5ECF6\", \"gridcolor\": \"white\", \"gridwidth\": 2, \"linecolor\": \"white\", \"showbackground\": true, \"ticks\": \"\", \"zerolinecolor\": \"white\"}}, \"shapedefaults\": {\"line\": {\"color\": \"#2a3f5f\"}}, \"ternary\": {\"aaxis\": {\"gridcolor\": \"white\", \"linecolor\": \"white\", \"ticks\": \"\"}, \"baxis\": {\"gridcolor\": \"white\", \"linecolor\": \"white\", \"ticks\": \"\"}, \"bgcolor\": \"#E5ECF6\", \"caxis\": {\"gridcolor\": \"white\", \"linecolor\": \"white\", \"ticks\": \"\"}}, \"title\": {\"x\": 0.05}, \"xaxis\": {\"automargin\": true, \"gridcolor\": \"white\", \"linecolor\": \"white\", \"ticks\": \"\", \"title\": {\"standoff\": 15}, \"zerolinecolor\": \"white\", \"zerolinewidth\": 2}, \"yaxis\": {\"automargin\": true, \"gridcolor\": \"white\", \"linecolor\": \"white\", \"ticks\": \"\", \"title\": {\"standoff\": 15}, \"zerolinecolor\": \"white\", \"zerolinewidth\": 2}}}},                        {\"responsive\": true}                    ).then(function(){\n",
       "                            \n",
       "var gd = document.getElementById('ecee904b-d4ec-4b54-bc7e-3619393f5cd5');\n",
       "var x = new MutationObserver(function (mutations, observer) {{\n",
       "        var display = window.getComputedStyle(gd).display;\n",
       "        if (!display || display === 'none') {{\n",
       "            console.log([gd, 'removed!']);\n",
       "            Plotly.purge(gd);\n",
       "            observer.disconnect();\n",
       "        }}\n",
       "}});\n",
       "\n",
       "// Listen for the removal of the full notebook cells\n",
       "var notebookContainer = gd.closest('#notebook-container');\n",
       "if (notebookContainer) {{\n",
       "    x.observe(notebookContainer, {childList: true});\n",
       "}}\n",
       "\n",
       "// Listen for the clearing of the current output cell\n",
       "var outputEl = gd.closest('.output');\n",
       "if (outputEl) {{\n",
       "    x.observe(outputEl, {childList: true});\n",
       "}}\n",
       "\n",
       "                        })                };                });            </script>        </div>"
      ]
     },
     "metadata": {},
     "output_type": "display_data"
    }
   ],
   "source": [
    "# Run Probabilstic MOEA/D (fast)\n",
    "max_func_evals = 5000\n",
    "\n",
    "evolver_opt = ProbMOEAD_v3(problem, use_surrogates=True, n_gen_per_iter=10, total_function_evaluations=max_func_evals)\n",
    "while evolver_opt.continue_evolution():\n",
    "        evolver_opt.iterate()\n",
    "        print(\"FE count:\",evolver_opt._function_evaluation_count)\n",
    "objectives = evolver_opt.population.objectives\n",
    "fig1 = go.Figure(data=go.Scatter3d(x=objectives[:,0],y=objectives[:,1],z=objectives[:,2], mode=\"markers\"))\n",
    "fig1"
   ]
  },
  {
   "cell_type": "code",
   "execution_count": 9,
   "metadata": {},
   "outputs": [
    {
     "name": "stdout",
     "output_type": "stream",
     "text": [
      "FE count: 1155\n",
      "FE count: 2205\n",
      "FE count: 3255\n",
      "FE count: 4305\n",
      "FE count: 5040\n"
     ]
    },
    {
     "data": {
      "application/vnd.plotly.v1+json": {
       "config": {
        "plotlyServerURL": "https://plot.ly"
       },
       "data": [
        {
         "mode": "markers",
         "type": "scatter3d",
         "x": [
          -0.0448491328956524,
          -0.04611237552267777,
          -0.05935476136361073,
          -0.06035912055777182,
          -0.08288716823347642,
          -0.08288716823347642,
          -0.08549457828244744,
          -0.11412686465654165,
          -0.10515909802700207,
          -0.10565120061902711,
          -0.12317501246920326,
          -0.12317501246920326,
          -0.07782454797322824,
          -0.07782454797322824,
          -0.02423160383385925,
          -0.01698531761578348,
          -0.05935476136361073,
          -0.05935476136361073,
          -0.02956422264858194,
          -0.051385657945442365,
          -0.07306293174569767,
          -0.0771259418655843,
          -0.08306957367227952,
          -0.1006609820778408,
          -0.08324840833483815,
          -0.07782454797322824,
          -0.07782454797322824,
          -0.01692714609863266,
          -0.01692714609863266,
          -0.032889266999360345,
          -0.05935476136361073,
          -0.03123726269648497,
          -0.029195195901352555,
          -0.04667413540385912,
          -0.051409336590148236,
          -0.054975426942065475,
          -0.07153440888435636,
          -0.058061975852607084,
          -0.058061975852607084,
          0.015994118582392414,
          -0.014596529715254825,
          -0.014596529715254825,
          0.05541812423880188,
          -0.0009291705533938099,
          -0.01804356535530882,
          -0.021626861757561677,
          -0.010961025954395964,
          -0.010477096748559234,
          -0.025330113942545918,
          -0.025330113942545918,
          0.015994118582392414,
          -0.014596529715254825,
          -0.014596529715254825,
          0.03667205286916442,
          0.03620926427691096,
          -0.003935388976270104,
          0.029276904238512813,
          0.012353500961434172,
          0.02132498163574592,
          0.017593035410975233,
          0.1223505860425882,
          0.1735375616131556,
          0.06111034243446367,
          0.06298742513751598,
          0.05568352048009029,
          0.07871562461233061,
          0.03135464277516942,
          0.03965861357137257,
          0.02491440970308645,
          0.1223505860425882,
          0.2247762158339377,
          0.10953514179436485,
          0.12229673255479057,
          0.09178166116033015,
          0.058394312232465495,
          0.033267254977701555,
          0.07581779262929933,
          0.12359957592523152,
          0.21115274683003626,
          0.09994823030107902,
          0.050510733483721815,
          0.050510733483721815,
          0.06205975601563152,
          0.06205975601563152,
          0.12359957592523152,
          0.08816892264673326,
          0.07066669716261664,
          0.050510733483721815,
          0.050510733483721815,
          0.06205975601563152,
          0.08816892264673326,
          0.08816892264673326,
          0.08816892264673326,
          0.06689490942296006,
          0.050510733483721815,
          0.08816892264673326,
          0.08816892264673326,
          0.08816892264673326,
          0.06689490942296006,
          0.08871932378368763,
          0.08209861049735334,
          0.08816892264673326,
          0.08816892264673326,
          0.06689490942296006,
          0.08816892264673326
         ],
         "y": [
          -0.021926262401480656,
          -0.027447544484965336,
          0.03868890745147224,
          0.03923064516786212,
          0.0655686349832516,
          0.0655686349832516,
          0.29449020785273916,
          0.3714317820898019,
          0.4689975547594025,
          0.44307383110525955,
          0.4254427997810988,
          0.4254427997810988,
          0.3939072672489712,
          0.3939072672489712,
          -0.047476428548819616,
          -0.03378211801204345,
          0.03868890745147224,
          0.03868890745147224,
          0.07046925737955445,
          0.11920955309027503,
          0.3373129265192729,
          0.3621641280481003,
          0.3828872229767315,
          0.36137167394175873,
          0.4063877476376627,
          0.3939072672489712,
          0.3939072672489712,
          -0.03351013242964096,
          -0.03351013242964096,
          0.01021720197897702,
          0.03868890745147224,
          0.10860796111175341,
          0.2642424616644954,
          0.2845860429136129,
          0.26747891581790983,
          0.29358692525388297,
          0.327941008963589,
          0.35079885901016095,
          0.35079885901016095,
          -0.059469206857098555,
          -0.03662697117339775,
          -0.03662697117339775,
          0.16122070809883238,
          0.14291604074473252,
          0.1548695826208113,
          0.21728489422573705,
          0.26154141496669814,
          0.27347258254860973,
          0.35390799434165054,
          0.35390799434165054,
          -0.059469206857098555,
          -0.03662697117339775,
          -0.03662697117339775,
          0.0877672366195621,
          0.1380346889365729,
          0.17560274131465148,
          0.21262479420363478,
          0.2138409890665356,
          0.28706951791659785,
          0.28285927690201773,
          -0.0988467963989823,
          -0.04344460360638358,
          -0.010031429803941005,
          0.06284293107925709,
          0.08149887766009467,
          0.15971327778763422,
          0.19696550925795098,
          0.21354042103770454,
          0.24641950272729551,
          -0.0988467963989823,
          -0.013320343403147472,
          -0.017828143313873834,
          0.08551017029425223,
          0.09524864868710248,
          0.10270080526039194,
          0.14893881945695053,
          0.21862027947921336,
          -0.11641141681711376,
          -0.03676494280688258,
          -0.028558708821802004,
          -0.018320633279207632,
          -0.018320633279207632,
          0.08040196151427348,
          0.08040196151427348,
          -0.11641141681711376,
          -0.06630416509677062,
          -0.04704502104637265,
          -0.018320633279207632,
          -0.018320633279207632,
          0.08040196151427348,
          -0.06630416509677062,
          -0.06630416509677062,
          -0.06630416509677062,
          -0.049719250009905736,
          -0.018320633279207632,
          -0.06630416509677062,
          -0.06630416509677062,
          -0.06630416509677062,
          -0.049719250009905736,
          -0.06638882498692067,
          -0.055924351177243814,
          -0.06630416509677062,
          -0.06630416509677062,
          -0.049719250009905736,
          -0.06630416509677062
         ],
         "z": [
          -0.005443082869481142,
          -0.031524807144333256,
          0.009480133407516966,
          0.0053510694025131755,
          -0.027074767599954974,
          -0.027074767599954974,
          0.014147365795602163,
          0.0030336453661492513,
          0.011939415407783649,
          -0.06683872355953202,
          -0.10345270728290368,
          -0.10345270728290368,
          -0.14194818531627185,
          -0.14194818531627185,
          -0.02328109568573966,
          0.007146730433723825,
          0.009480133407516966,
          0.009480133407516966,
          0.05421275687701055,
          -0.043069282082046634,
          0.058814268457711094,
          -0.01566060147992321,
          -0.048014436468739596,
          -0.10375714946630588,
          -0.10933423123609565,
          -0.14194818531627185,
          -0.14194818531627185,
          0.007169175847173026,
          0.007169175847173026,
          0.016274586253239853,
          0.009480133407516966,
          -0.031446181104840765,
          0.05744514084816732,
          -0.03504649556460748,
          -0.06725807786057647,
          -0.10259231415177616,
          -0.1260132244268597,
          -0.14974509822472548,
          -0.14974509822472548,
          0.02290442882224042,
          0.006457592214058394,
          0.006457592214058394,
          0.12157842540480512,
          0.008059665941792638,
          -0.04027838733204536,
          -0.07798552091120037,
          -0.1000160333365363,
          -0.13546545639796648,
          -0.17876430239555052,
          -0.17876430239555052,
          0.02290442882224042,
          0.006457592214058394,
          0.006457592214058394,
          0.01680756024210872,
          -0.04111819968174757,
          -0.05866528346016597,
          -0.11245393906167767,
          -0.12885090959094736,
          -0.13881950786448272,
          -0.1785293531145462,
          0.05036456611707374,
          0.1349875602080548,
          -0.05777528312829183,
          -0.03067829995577931,
          -0.08543313370324057,
          -0.1080221459045676,
          -0.1371137926802639,
          -0.14524538676480692,
          -0.15390323961852026,
          0.05036456611707374,
          0.08839137462172086,
          -0.02762615727576989,
          -0.06720858967395849,
          -0.10687809594961983,
          -0.14098646496304212,
          -0.1632144766550745,
          -0.1822395884819663,
          -0.06228113137331315,
          -0.0019117798480952075,
          -0.08729282606685906,
          -0.12878323239602407,
          -0.12878323239602407,
          -0.16999910098353155,
          -0.16999910098353155,
          -0.06228113137331315,
          -0.11680571163967324,
          -0.12474565766637591,
          -0.12878323239602407,
          -0.12878323239602407,
          -0.16999910098353155,
          -0.11680571163967324,
          -0.11680571163967324,
          -0.11680571163967324,
          -0.13690814688108066,
          -0.12878323239602407,
          -0.11680571163967324,
          -0.11680571163967324,
          -0.11680571163967324,
          -0.13690814688108066,
          -0.1168726072896824,
          -0.12484462288844345,
          -0.11680571163967324,
          -0.11680571163967324,
          -0.13690814688108066,
          -0.11680571163967324
         ]
        }
       ],
       "layout": {
        "template": {
         "data": {
          "bar": [
           {
            "error_x": {
             "color": "#2a3f5f"
            },
            "error_y": {
             "color": "#2a3f5f"
            },
            "marker": {
             "line": {
              "color": "#E5ECF6",
              "width": 0.5
             }
            },
            "type": "bar"
           }
          ],
          "barpolar": [
           {
            "marker": {
             "line": {
              "color": "#E5ECF6",
              "width": 0.5
             }
            },
            "type": "barpolar"
           }
          ],
          "carpet": [
           {
            "aaxis": {
             "endlinecolor": "#2a3f5f",
             "gridcolor": "white",
             "linecolor": "white",
             "minorgridcolor": "white",
             "startlinecolor": "#2a3f5f"
            },
            "baxis": {
             "endlinecolor": "#2a3f5f",
             "gridcolor": "white",
             "linecolor": "white",
             "minorgridcolor": "white",
             "startlinecolor": "#2a3f5f"
            },
            "type": "carpet"
           }
          ],
          "choropleth": [
           {
            "colorbar": {
             "outlinewidth": 0,
             "ticks": ""
            },
            "type": "choropleth"
           }
          ],
          "contour": [
           {
            "colorbar": {
             "outlinewidth": 0,
             "ticks": ""
            },
            "colorscale": [
             [
              0,
              "#0d0887"
             ],
             [
              0.1111111111111111,
              "#46039f"
             ],
             [
              0.2222222222222222,
              "#7201a8"
             ],
             [
              0.3333333333333333,
              "#9c179e"
             ],
             [
              0.4444444444444444,
              "#bd3786"
             ],
             [
              0.5555555555555556,
              "#d8576b"
             ],
             [
              0.6666666666666666,
              "#ed7953"
             ],
             [
              0.7777777777777778,
              "#fb9f3a"
             ],
             [
              0.8888888888888888,
              "#fdca26"
             ],
             [
              1,
              "#f0f921"
             ]
            ],
            "type": "contour"
           }
          ],
          "contourcarpet": [
           {
            "colorbar": {
             "outlinewidth": 0,
             "ticks": ""
            },
            "type": "contourcarpet"
           }
          ],
          "heatmap": [
           {
            "colorbar": {
             "outlinewidth": 0,
             "ticks": ""
            },
            "colorscale": [
             [
              0,
              "#0d0887"
             ],
             [
              0.1111111111111111,
              "#46039f"
             ],
             [
              0.2222222222222222,
              "#7201a8"
             ],
             [
              0.3333333333333333,
              "#9c179e"
             ],
             [
              0.4444444444444444,
              "#bd3786"
             ],
             [
              0.5555555555555556,
              "#d8576b"
             ],
             [
              0.6666666666666666,
              "#ed7953"
             ],
             [
              0.7777777777777778,
              "#fb9f3a"
             ],
             [
              0.8888888888888888,
              "#fdca26"
             ],
             [
              1,
              "#f0f921"
             ]
            ],
            "type": "heatmap"
           }
          ],
          "heatmapgl": [
           {
            "colorbar": {
             "outlinewidth": 0,
             "ticks": ""
            },
            "colorscale": [
             [
              0,
              "#0d0887"
             ],
             [
              0.1111111111111111,
              "#46039f"
             ],
             [
              0.2222222222222222,
              "#7201a8"
             ],
             [
              0.3333333333333333,
              "#9c179e"
             ],
             [
              0.4444444444444444,
              "#bd3786"
             ],
             [
              0.5555555555555556,
              "#d8576b"
             ],
             [
              0.6666666666666666,
              "#ed7953"
             ],
             [
              0.7777777777777778,
              "#fb9f3a"
             ],
             [
              0.8888888888888888,
              "#fdca26"
             ],
             [
              1,
              "#f0f921"
             ]
            ],
            "type": "heatmapgl"
           }
          ],
          "histogram": [
           {
            "marker": {
             "colorbar": {
              "outlinewidth": 0,
              "ticks": ""
             }
            },
            "type": "histogram"
           }
          ],
          "histogram2d": [
           {
            "colorbar": {
             "outlinewidth": 0,
             "ticks": ""
            },
            "colorscale": [
             [
              0,
              "#0d0887"
             ],
             [
              0.1111111111111111,
              "#46039f"
             ],
             [
              0.2222222222222222,
              "#7201a8"
             ],
             [
              0.3333333333333333,
              "#9c179e"
             ],
             [
              0.4444444444444444,
              "#bd3786"
             ],
             [
              0.5555555555555556,
              "#d8576b"
             ],
             [
              0.6666666666666666,
              "#ed7953"
             ],
             [
              0.7777777777777778,
              "#fb9f3a"
             ],
             [
              0.8888888888888888,
              "#fdca26"
             ],
             [
              1,
              "#f0f921"
             ]
            ],
            "type": "histogram2d"
           }
          ],
          "histogram2dcontour": [
           {
            "colorbar": {
             "outlinewidth": 0,
             "ticks": ""
            },
            "colorscale": [
             [
              0,
              "#0d0887"
             ],
             [
              0.1111111111111111,
              "#46039f"
             ],
             [
              0.2222222222222222,
              "#7201a8"
             ],
             [
              0.3333333333333333,
              "#9c179e"
             ],
             [
              0.4444444444444444,
              "#bd3786"
             ],
             [
              0.5555555555555556,
              "#d8576b"
             ],
             [
              0.6666666666666666,
              "#ed7953"
             ],
             [
              0.7777777777777778,
              "#fb9f3a"
             ],
             [
              0.8888888888888888,
              "#fdca26"
             ],
             [
              1,
              "#f0f921"
             ]
            ],
            "type": "histogram2dcontour"
           }
          ],
          "mesh3d": [
           {
            "colorbar": {
             "outlinewidth": 0,
             "ticks": ""
            },
            "type": "mesh3d"
           }
          ],
          "parcoords": [
           {
            "line": {
             "colorbar": {
              "outlinewidth": 0,
              "ticks": ""
             }
            },
            "type": "parcoords"
           }
          ],
          "pie": [
           {
            "automargin": true,
            "type": "pie"
           }
          ],
          "scatter": [
           {
            "marker": {
             "colorbar": {
              "outlinewidth": 0,
              "ticks": ""
             }
            },
            "type": "scatter"
           }
          ],
          "scatter3d": [
           {
            "line": {
             "colorbar": {
              "outlinewidth": 0,
              "ticks": ""
             }
            },
            "marker": {
             "colorbar": {
              "outlinewidth": 0,
              "ticks": ""
             }
            },
            "type": "scatter3d"
           }
          ],
          "scattercarpet": [
           {
            "marker": {
             "colorbar": {
              "outlinewidth": 0,
              "ticks": ""
             }
            },
            "type": "scattercarpet"
           }
          ],
          "scattergeo": [
           {
            "marker": {
             "colorbar": {
              "outlinewidth": 0,
              "ticks": ""
             }
            },
            "type": "scattergeo"
           }
          ],
          "scattergl": [
           {
            "marker": {
             "colorbar": {
              "outlinewidth": 0,
              "ticks": ""
             }
            },
            "type": "scattergl"
           }
          ],
          "scattermapbox": [
           {
            "marker": {
             "colorbar": {
              "outlinewidth": 0,
              "ticks": ""
             }
            },
            "type": "scattermapbox"
           }
          ],
          "scatterpolar": [
           {
            "marker": {
             "colorbar": {
              "outlinewidth": 0,
              "ticks": ""
             }
            },
            "type": "scatterpolar"
           }
          ],
          "scatterpolargl": [
           {
            "marker": {
             "colorbar": {
              "outlinewidth": 0,
              "ticks": ""
             }
            },
            "type": "scatterpolargl"
           }
          ],
          "scatterternary": [
           {
            "marker": {
             "colorbar": {
              "outlinewidth": 0,
              "ticks": ""
             }
            },
            "type": "scatterternary"
           }
          ],
          "surface": [
           {
            "colorbar": {
             "outlinewidth": 0,
             "ticks": ""
            },
            "colorscale": [
             [
              0,
              "#0d0887"
             ],
             [
              0.1111111111111111,
              "#46039f"
             ],
             [
              0.2222222222222222,
              "#7201a8"
             ],
             [
              0.3333333333333333,
              "#9c179e"
             ],
             [
              0.4444444444444444,
              "#bd3786"
             ],
             [
              0.5555555555555556,
              "#d8576b"
             ],
             [
              0.6666666666666666,
              "#ed7953"
             ],
             [
              0.7777777777777778,
              "#fb9f3a"
             ],
             [
              0.8888888888888888,
              "#fdca26"
             ],
             [
              1,
              "#f0f921"
             ]
            ],
            "type": "surface"
           }
          ],
          "table": [
           {
            "cells": {
             "fill": {
              "color": "#EBF0F8"
             },
             "line": {
              "color": "white"
             }
            },
            "header": {
             "fill": {
              "color": "#C8D4E3"
             },
             "line": {
              "color": "white"
             }
            },
            "type": "table"
           }
          ]
         },
         "layout": {
          "annotationdefaults": {
           "arrowcolor": "#2a3f5f",
           "arrowhead": 0,
           "arrowwidth": 1
          },
          "autotypenumbers": "strict",
          "coloraxis": {
           "colorbar": {
            "outlinewidth": 0,
            "ticks": ""
           }
          },
          "colorscale": {
           "diverging": [
            [
             0,
             "#8e0152"
            ],
            [
             0.1,
             "#c51b7d"
            ],
            [
             0.2,
             "#de77ae"
            ],
            [
             0.3,
             "#f1b6da"
            ],
            [
             0.4,
             "#fde0ef"
            ],
            [
             0.5,
             "#f7f7f7"
            ],
            [
             0.6,
             "#e6f5d0"
            ],
            [
             0.7,
             "#b8e186"
            ],
            [
             0.8,
             "#7fbc41"
            ],
            [
             0.9,
             "#4d9221"
            ],
            [
             1,
             "#276419"
            ]
           ],
           "sequential": [
            [
             0,
             "#0d0887"
            ],
            [
             0.1111111111111111,
             "#46039f"
            ],
            [
             0.2222222222222222,
             "#7201a8"
            ],
            [
             0.3333333333333333,
             "#9c179e"
            ],
            [
             0.4444444444444444,
             "#bd3786"
            ],
            [
             0.5555555555555556,
             "#d8576b"
            ],
            [
             0.6666666666666666,
             "#ed7953"
            ],
            [
             0.7777777777777778,
             "#fb9f3a"
            ],
            [
             0.8888888888888888,
             "#fdca26"
            ],
            [
             1,
             "#f0f921"
            ]
           ],
           "sequentialminus": [
            [
             0,
             "#0d0887"
            ],
            [
             0.1111111111111111,
             "#46039f"
            ],
            [
             0.2222222222222222,
             "#7201a8"
            ],
            [
             0.3333333333333333,
             "#9c179e"
            ],
            [
             0.4444444444444444,
             "#bd3786"
            ],
            [
             0.5555555555555556,
             "#d8576b"
            ],
            [
             0.6666666666666666,
             "#ed7953"
            ],
            [
             0.7777777777777778,
             "#fb9f3a"
            ],
            [
             0.8888888888888888,
             "#fdca26"
            ],
            [
             1,
             "#f0f921"
            ]
           ]
          },
          "colorway": [
           "#636efa",
           "#EF553B",
           "#00cc96",
           "#ab63fa",
           "#FFA15A",
           "#19d3f3",
           "#FF6692",
           "#B6E880",
           "#FF97FF",
           "#FECB52"
          ],
          "font": {
           "color": "#2a3f5f"
          },
          "geo": {
           "bgcolor": "white",
           "lakecolor": "white",
           "landcolor": "#E5ECF6",
           "showlakes": true,
           "showland": true,
           "subunitcolor": "white"
          },
          "hoverlabel": {
           "align": "left"
          },
          "hovermode": "closest",
          "mapbox": {
           "style": "light"
          },
          "paper_bgcolor": "white",
          "plot_bgcolor": "#E5ECF6",
          "polar": {
           "angularaxis": {
            "gridcolor": "white",
            "linecolor": "white",
            "ticks": ""
           },
           "bgcolor": "#E5ECF6",
           "radialaxis": {
            "gridcolor": "white",
            "linecolor": "white",
            "ticks": ""
           }
          },
          "scene": {
           "xaxis": {
            "backgroundcolor": "#E5ECF6",
            "gridcolor": "white",
            "gridwidth": 2,
            "linecolor": "white",
            "showbackground": true,
            "ticks": "",
            "zerolinecolor": "white"
           },
           "yaxis": {
            "backgroundcolor": "#E5ECF6",
            "gridcolor": "white",
            "gridwidth": 2,
            "linecolor": "white",
            "showbackground": true,
            "ticks": "",
            "zerolinecolor": "white"
           },
           "zaxis": {
            "backgroundcolor": "#E5ECF6",
            "gridcolor": "white",
            "gridwidth": 2,
            "linecolor": "white",
            "showbackground": true,
            "ticks": "",
            "zerolinecolor": "white"
           }
          },
          "shapedefaults": {
           "line": {
            "color": "#2a3f5f"
           }
          },
          "ternary": {
           "aaxis": {
            "gridcolor": "white",
            "linecolor": "white",
            "ticks": ""
           },
           "baxis": {
            "gridcolor": "white",
            "linecolor": "white",
            "ticks": ""
           },
           "bgcolor": "#E5ECF6",
           "caxis": {
            "gridcolor": "white",
            "linecolor": "white",
            "ticks": ""
           }
          },
          "title": {
           "x": 0.05
          },
          "xaxis": {
           "automargin": true,
           "gridcolor": "white",
           "linecolor": "white",
           "ticks": "",
           "title": {
            "standoff": 15
           },
           "zerolinecolor": "white",
           "zerolinewidth": 2
          },
          "yaxis": {
           "automargin": true,
           "gridcolor": "white",
           "linecolor": "white",
           "ticks": "",
           "title": {
            "standoff": 15
           },
           "zerolinecolor": "white",
           "zerolinewidth": 2
          }
         }
        }
       }
      },
      "text/html": [
       "<div>                            <div id=\"36d047a1-7aaf-4fe9-96aa-634231e96e25\" class=\"plotly-graph-div\" style=\"height:525px; width:100%;\"></div>            <script type=\"text/javascript\">                require([\"plotly\"], function(Plotly) {                    window.PLOTLYENV=window.PLOTLYENV || {};                                    if (document.getElementById(\"36d047a1-7aaf-4fe9-96aa-634231e96e25\")) {                    Plotly.newPlot(                        \"36d047a1-7aaf-4fe9-96aa-634231e96e25\",                        [{\"mode\": \"markers\", \"type\": \"scatter3d\", \"x\": [-0.0448491328956524, -0.04611237552267777, -0.05935476136361073, -0.06035912055777182, -0.08288716823347642, -0.08288716823347642, -0.08549457828244744, -0.11412686465654165, -0.10515909802700207, -0.10565120061902711, -0.12317501246920326, -0.12317501246920326, -0.07782454797322824, -0.07782454797322824, -0.02423160383385925, -0.01698531761578348, -0.05935476136361073, -0.05935476136361073, -0.02956422264858194, -0.051385657945442365, -0.07306293174569767, -0.0771259418655843, -0.08306957367227952, -0.1006609820778408, -0.08324840833483815, -0.07782454797322824, -0.07782454797322824, -0.01692714609863266, -0.01692714609863266, -0.032889266999360345, -0.05935476136361073, -0.03123726269648497, -0.029195195901352555, -0.04667413540385912, -0.051409336590148236, -0.054975426942065475, -0.07153440888435636, -0.058061975852607084, -0.058061975852607084, 0.015994118582392414, -0.014596529715254825, -0.014596529715254825, 0.05541812423880188, -0.0009291705533938099, -0.01804356535530882, -0.021626861757561677, -0.010961025954395964, -0.010477096748559234, -0.025330113942545918, -0.025330113942545918, 0.015994118582392414, -0.014596529715254825, -0.014596529715254825, 0.03667205286916442, 0.03620926427691096, -0.003935388976270104, 0.029276904238512813, 0.012353500961434172, 0.02132498163574592, 0.017593035410975233, 0.1223505860425882, 0.1735375616131556, 0.06111034243446367, 0.06298742513751598, 0.05568352048009029, 0.07871562461233061, 0.03135464277516942, 0.03965861357137257, 0.02491440970308645, 0.1223505860425882, 0.2247762158339377, 0.10953514179436485, 0.12229673255479057, 0.09178166116033015, 0.058394312232465495, 0.033267254977701555, 0.07581779262929933, 0.12359957592523152, 0.21115274683003626, 0.09994823030107902, 0.050510733483721815, 0.050510733483721815, 0.06205975601563152, 0.06205975601563152, 0.12359957592523152, 0.08816892264673326, 0.07066669716261664, 0.050510733483721815, 0.050510733483721815, 0.06205975601563152, 0.08816892264673326, 0.08816892264673326, 0.08816892264673326, 0.06689490942296006, 0.050510733483721815, 0.08816892264673326, 0.08816892264673326, 0.08816892264673326, 0.06689490942296006, 0.08871932378368763, 0.08209861049735334, 0.08816892264673326, 0.08816892264673326, 0.06689490942296006, 0.08816892264673326], \"y\": [-0.021926262401480656, -0.027447544484965336, 0.03868890745147224, 0.03923064516786212, 0.0655686349832516, 0.0655686349832516, 0.29449020785273916, 0.3714317820898019, 0.4689975547594025, 0.44307383110525955, 0.4254427997810988, 0.4254427997810988, 0.3939072672489712, 0.3939072672489712, -0.047476428548819616, -0.03378211801204345, 0.03868890745147224, 0.03868890745147224, 0.07046925737955445, 0.11920955309027503, 0.3373129265192729, 0.3621641280481003, 0.3828872229767315, 0.36137167394175873, 0.4063877476376627, 0.3939072672489712, 0.3939072672489712, -0.03351013242964096, -0.03351013242964096, 0.01021720197897702, 0.03868890745147224, 0.10860796111175341, 0.2642424616644954, 0.2845860429136129, 0.26747891581790983, 0.29358692525388297, 0.327941008963589, 0.35079885901016095, 0.35079885901016095, -0.059469206857098555, -0.03662697117339775, -0.03662697117339775, 0.16122070809883238, 0.14291604074473252, 0.1548695826208113, 0.21728489422573705, 0.26154141496669814, 0.27347258254860973, 0.35390799434165054, 0.35390799434165054, -0.059469206857098555, -0.03662697117339775, -0.03662697117339775, 0.0877672366195621, 0.1380346889365729, 0.17560274131465148, 0.21262479420363478, 0.2138409890665356, 0.28706951791659785, 0.28285927690201773, -0.0988467963989823, -0.04344460360638358, -0.010031429803941005, 0.06284293107925709, 0.08149887766009467, 0.15971327778763422, 0.19696550925795098, 0.21354042103770454, 0.24641950272729551, -0.0988467963989823, -0.013320343403147472, -0.017828143313873834, 0.08551017029425223, 0.09524864868710248, 0.10270080526039194, 0.14893881945695053, 0.21862027947921336, -0.11641141681711376, -0.03676494280688258, -0.028558708821802004, -0.018320633279207632, -0.018320633279207632, 0.08040196151427348, 0.08040196151427348, -0.11641141681711376, -0.06630416509677062, -0.04704502104637265, -0.018320633279207632, -0.018320633279207632, 0.08040196151427348, -0.06630416509677062, -0.06630416509677062, -0.06630416509677062, -0.049719250009905736, -0.018320633279207632, -0.06630416509677062, -0.06630416509677062, -0.06630416509677062, -0.049719250009905736, -0.06638882498692067, -0.055924351177243814, -0.06630416509677062, -0.06630416509677062, -0.049719250009905736, -0.06630416509677062], \"z\": [-0.005443082869481142, -0.031524807144333256, 0.009480133407516966, 0.0053510694025131755, -0.027074767599954974, -0.027074767599954974, 0.014147365795602163, 0.0030336453661492513, 0.011939415407783649, -0.06683872355953202, -0.10345270728290368, -0.10345270728290368, -0.14194818531627185, -0.14194818531627185, -0.02328109568573966, 0.007146730433723825, 0.009480133407516966, 0.009480133407516966, 0.05421275687701055, -0.043069282082046634, 0.058814268457711094, -0.01566060147992321, -0.048014436468739596, -0.10375714946630588, -0.10933423123609565, -0.14194818531627185, -0.14194818531627185, 0.007169175847173026, 0.007169175847173026, 0.016274586253239853, 0.009480133407516966, -0.031446181104840765, 0.05744514084816732, -0.03504649556460748, -0.06725807786057647, -0.10259231415177616, -0.1260132244268597, -0.14974509822472548, -0.14974509822472548, 0.02290442882224042, 0.006457592214058394, 0.006457592214058394, 0.12157842540480512, 0.008059665941792638, -0.04027838733204536, -0.07798552091120037, -0.1000160333365363, -0.13546545639796648, -0.17876430239555052, -0.17876430239555052, 0.02290442882224042, 0.006457592214058394, 0.006457592214058394, 0.01680756024210872, -0.04111819968174757, -0.05866528346016597, -0.11245393906167767, -0.12885090959094736, -0.13881950786448272, -0.1785293531145462, 0.05036456611707374, 0.1349875602080548, -0.05777528312829183, -0.03067829995577931, -0.08543313370324057, -0.1080221459045676, -0.1371137926802639, -0.14524538676480692, -0.15390323961852026, 0.05036456611707374, 0.08839137462172086, -0.02762615727576989, -0.06720858967395849, -0.10687809594961983, -0.14098646496304212, -0.1632144766550745, -0.1822395884819663, -0.06228113137331315, -0.0019117798480952075, -0.08729282606685906, -0.12878323239602407, -0.12878323239602407, -0.16999910098353155, -0.16999910098353155, -0.06228113137331315, -0.11680571163967324, -0.12474565766637591, -0.12878323239602407, -0.12878323239602407, -0.16999910098353155, -0.11680571163967324, -0.11680571163967324, -0.11680571163967324, -0.13690814688108066, -0.12878323239602407, -0.11680571163967324, -0.11680571163967324, -0.11680571163967324, -0.13690814688108066, -0.1168726072896824, -0.12484462288844345, -0.11680571163967324, -0.11680571163967324, -0.13690814688108066, -0.11680571163967324]}],                        {\"template\": {\"data\": {\"bar\": [{\"error_x\": {\"color\": \"#2a3f5f\"}, \"error_y\": {\"color\": \"#2a3f5f\"}, \"marker\": {\"line\": {\"color\": \"#E5ECF6\", \"width\": 0.5}}, \"type\": \"bar\"}], \"barpolar\": [{\"marker\": {\"line\": {\"color\": \"#E5ECF6\", \"width\": 0.5}}, \"type\": \"barpolar\"}], \"carpet\": [{\"aaxis\": {\"endlinecolor\": \"#2a3f5f\", \"gridcolor\": \"white\", \"linecolor\": \"white\", \"minorgridcolor\": \"white\", \"startlinecolor\": \"#2a3f5f\"}, \"baxis\": {\"endlinecolor\": \"#2a3f5f\", \"gridcolor\": \"white\", \"linecolor\": \"white\", \"minorgridcolor\": \"white\", \"startlinecolor\": \"#2a3f5f\"}, \"type\": \"carpet\"}], \"choropleth\": [{\"colorbar\": {\"outlinewidth\": 0, \"ticks\": \"\"}, \"type\": \"choropleth\"}], \"contour\": [{\"colorbar\": {\"outlinewidth\": 0, \"ticks\": \"\"}, \"colorscale\": [[0.0, \"#0d0887\"], [0.1111111111111111, \"#46039f\"], [0.2222222222222222, \"#7201a8\"], [0.3333333333333333, \"#9c179e\"], [0.4444444444444444, \"#bd3786\"], [0.5555555555555556, \"#d8576b\"], [0.6666666666666666, \"#ed7953\"], [0.7777777777777778, \"#fb9f3a\"], [0.8888888888888888, \"#fdca26\"], [1.0, \"#f0f921\"]], \"type\": \"contour\"}], \"contourcarpet\": [{\"colorbar\": {\"outlinewidth\": 0, \"ticks\": \"\"}, \"type\": \"contourcarpet\"}], \"heatmap\": [{\"colorbar\": {\"outlinewidth\": 0, \"ticks\": \"\"}, \"colorscale\": [[0.0, \"#0d0887\"], [0.1111111111111111, \"#46039f\"], [0.2222222222222222, \"#7201a8\"], [0.3333333333333333, \"#9c179e\"], [0.4444444444444444, \"#bd3786\"], [0.5555555555555556, \"#d8576b\"], [0.6666666666666666, \"#ed7953\"], [0.7777777777777778, \"#fb9f3a\"], [0.8888888888888888, \"#fdca26\"], [1.0, \"#f0f921\"]], \"type\": \"heatmap\"}], \"heatmapgl\": [{\"colorbar\": {\"outlinewidth\": 0, \"ticks\": \"\"}, \"colorscale\": [[0.0, \"#0d0887\"], [0.1111111111111111, \"#46039f\"], [0.2222222222222222, \"#7201a8\"], [0.3333333333333333, \"#9c179e\"], [0.4444444444444444, \"#bd3786\"], [0.5555555555555556, \"#d8576b\"], [0.6666666666666666, \"#ed7953\"], [0.7777777777777778, \"#fb9f3a\"], [0.8888888888888888, \"#fdca26\"], [1.0, \"#f0f921\"]], \"type\": \"heatmapgl\"}], \"histogram\": [{\"marker\": {\"colorbar\": {\"outlinewidth\": 0, \"ticks\": \"\"}}, \"type\": \"histogram\"}], \"histogram2d\": [{\"colorbar\": {\"outlinewidth\": 0, \"ticks\": \"\"}, \"colorscale\": [[0.0, \"#0d0887\"], [0.1111111111111111, \"#46039f\"], [0.2222222222222222, \"#7201a8\"], [0.3333333333333333, \"#9c179e\"], [0.4444444444444444, \"#bd3786\"], [0.5555555555555556, \"#d8576b\"], [0.6666666666666666, \"#ed7953\"], [0.7777777777777778, \"#fb9f3a\"], [0.8888888888888888, \"#fdca26\"], [1.0, \"#f0f921\"]], \"type\": \"histogram2d\"}], \"histogram2dcontour\": [{\"colorbar\": {\"outlinewidth\": 0, \"ticks\": \"\"}, \"colorscale\": [[0.0, \"#0d0887\"], [0.1111111111111111, \"#46039f\"], [0.2222222222222222, \"#7201a8\"], [0.3333333333333333, \"#9c179e\"], [0.4444444444444444, \"#bd3786\"], [0.5555555555555556, \"#d8576b\"], [0.6666666666666666, \"#ed7953\"], [0.7777777777777778, \"#fb9f3a\"], [0.8888888888888888, \"#fdca26\"], [1.0, \"#f0f921\"]], \"type\": \"histogram2dcontour\"}], \"mesh3d\": [{\"colorbar\": {\"outlinewidth\": 0, \"ticks\": \"\"}, \"type\": \"mesh3d\"}], \"parcoords\": [{\"line\": {\"colorbar\": {\"outlinewidth\": 0, \"ticks\": \"\"}}, \"type\": \"parcoords\"}], \"pie\": [{\"automargin\": true, \"type\": \"pie\"}], \"scatter\": [{\"marker\": {\"colorbar\": {\"outlinewidth\": 0, \"ticks\": \"\"}}, \"type\": \"scatter\"}], \"scatter3d\": [{\"line\": {\"colorbar\": {\"outlinewidth\": 0, \"ticks\": \"\"}}, \"marker\": {\"colorbar\": {\"outlinewidth\": 0, \"ticks\": \"\"}}, \"type\": \"scatter3d\"}], \"scattercarpet\": [{\"marker\": {\"colorbar\": {\"outlinewidth\": 0, \"ticks\": \"\"}}, \"type\": \"scattercarpet\"}], \"scattergeo\": [{\"marker\": {\"colorbar\": {\"outlinewidth\": 0, \"ticks\": \"\"}}, \"type\": \"scattergeo\"}], \"scattergl\": [{\"marker\": {\"colorbar\": {\"outlinewidth\": 0, \"ticks\": \"\"}}, \"type\": \"scattergl\"}], \"scattermapbox\": [{\"marker\": {\"colorbar\": {\"outlinewidth\": 0, \"ticks\": \"\"}}, \"type\": \"scattermapbox\"}], \"scatterpolar\": [{\"marker\": {\"colorbar\": {\"outlinewidth\": 0, \"ticks\": \"\"}}, \"type\": \"scatterpolar\"}], \"scatterpolargl\": [{\"marker\": {\"colorbar\": {\"outlinewidth\": 0, \"ticks\": \"\"}}, \"type\": \"scatterpolargl\"}], \"scatterternary\": [{\"marker\": {\"colorbar\": {\"outlinewidth\": 0, \"ticks\": \"\"}}, \"type\": \"scatterternary\"}], \"surface\": [{\"colorbar\": {\"outlinewidth\": 0, \"ticks\": \"\"}, \"colorscale\": [[0.0, \"#0d0887\"], [0.1111111111111111, \"#46039f\"], [0.2222222222222222, \"#7201a8\"], [0.3333333333333333, \"#9c179e\"], [0.4444444444444444, \"#bd3786\"], [0.5555555555555556, \"#d8576b\"], [0.6666666666666666, \"#ed7953\"], [0.7777777777777778, \"#fb9f3a\"], [0.8888888888888888, \"#fdca26\"], [1.0, \"#f0f921\"]], \"type\": \"surface\"}], \"table\": [{\"cells\": {\"fill\": {\"color\": \"#EBF0F8\"}, \"line\": {\"color\": \"white\"}}, \"header\": {\"fill\": {\"color\": \"#C8D4E3\"}, \"line\": {\"color\": \"white\"}}, \"type\": \"table\"}]}, \"layout\": {\"annotationdefaults\": {\"arrowcolor\": \"#2a3f5f\", \"arrowhead\": 0, \"arrowwidth\": 1}, \"autotypenumbers\": \"strict\", \"coloraxis\": {\"colorbar\": {\"outlinewidth\": 0, \"ticks\": \"\"}}, \"colorscale\": {\"diverging\": [[0, \"#8e0152\"], [0.1, \"#c51b7d\"], [0.2, \"#de77ae\"], [0.3, \"#f1b6da\"], [0.4, \"#fde0ef\"], [0.5, \"#f7f7f7\"], [0.6, \"#e6f5d0\"], [0.7, \"#b8e186\"], [0.8, \"#7fbc41\"], [0.9, \"#4d9221\"], [1, \"#276419\"]], \"sequential\": [[0.0, \"#0d0887\"], [0.1111111111111111, \"#46039f\"], [0.2222222222222222, \"#7201a8\"], [0.3333333333333333, \"#9c179e\"], [0.4444444444444444, \"#bd3786\"], [0.5555555555555556, \"#d8576b\"], [0.6666666666666666, \"#ed7953\"], [0.7777777777777778, \"#fb9f3a\"], [0.8888888888888888, \"#fdca26\"], [1.0, \"#f0f921\"]], \"sequentialminus\": [[0.0, \"#0d0887\"], [0.1111111111111111, \"#46039f\"], [0.2222222222222222, \"#7201a8\"], [0.3333333333333333, \"#9c179e\"], [0.4444444444444444, \"#bd3786\"], [0.5555555555555556, \"#d8576b\"], [0.6666666666666666, \"#ed7953\"], [0.7777777777777778, \"#fb9f3a\"], [0.8888888888888888, \"#fdca26\"], [1.0, \"#f0f921\"]]}, \"colorway\": [\"#636efa\", \"#EF553B\", \"#00cc96\", \"#ab63fa\", \"#FFA15A\", \"#19d3f3\", \"#FF6692\", \"#B6E880\", \"#FF97FF\", \"#FECB52\"], \"font\": {\"color\": \"#2a3f5f\"}, \"geo\": {\"bgcolor\": \"white\", \"lakecolor\": \"white\", \"landcolor\": \"#E5ECF6\", \"showlakes\": true, \"showland\": true, \"subunitcolor\": \"white\"}, \"hoverlabel\": {\"align\": \"left\"}, \"hovermode\": \"closest\", \"mapbox\": {\"style\": \"light\"}, \"paper_bgcolor\": \"white\", \"plot_bgcolor\": \"#E5ECF6\", \"polar\": {\"angularaxis\": {\"gridcolor\": \"white\", \"linecolor\": \"white\", \"ticks\": \"\"}, \"bgcolor\": \"#E5ECF6\", \"radialaxis\": {\"gridcolor\": \"white\", \"linecolor\": \"white\", \"ticks\": \"\"}}, \"scene\": {\"xaxis\": {\"backgroundcolor\": \"#E5ECF6\", \"gridcolor\": \"white\", \"gridwidth\": 2, \"linecolor\": \"white\", \"showbackground\": true, \"ticks\": \"\", \"zerolinecolor\": \"white\"}, \"yaxis\": {\"backgroundcolor\": \"#E5ECF6\", \"gridcolor\": \"white\", \"gridwidth\": 2, \"linecolor\": \"white\", \"showbackground\": true, \"ticks\": \"\", \"zerolinecolor\": \"white\"}, \"zaxis\": {\"backgroundcolor\": \"#E5ECF6\", \"gridcolor\": \"white\", \"gridwidth\": 2, \"linecolor\": \"white\", \"showbackground\": true, \"ticks\": \"\", \"zerolinecolor\": \"white\"}}, \"shapedefaults\": {\"line\": {\"color\": \"#2a3f5f\"}}, \"ternary\": {\"aaxis\": {\"gridcolor\": \"white\", \"linecolor\": \"white\", \"ticks\": \"\"}, \"baxis\": {\"gridcolor\": \"white\", \"linecolor\": \"white\", \"ticks\": \"\"}, \"bgcolor\": \"#E5ECF6\", \"caxis\": {\"gridcolor\": \"white\", \"linecolor\": \"white\", \"ticks\": \"\"}}, \"title\": {\"x\": 0.05}, \"xaxis\": {\"automargin\": true, \"gridcolor\": \"white\", \"linecolor\": \"white\", \"ticks\": \"\", \"title\": {\"standoff\": 15}, \"zerolinecolor\": \"white\", \"zerolinewidth\": 2}, \"yaxis\": {\"automargin\": true, \"gridcolor\": \"white\", \"linecolor\": \"white\", \"ticks\": \"\", \"title\": {\"standoff\": 15}, \"zerolinecolor\": \"white\", \"zerolinewidth\": 2}}}},                        {\"responsive\": true}                    ).then(function(){\n",
       "                            \n",
       "var gd = document.getElementById('36d047a1-7aaf-4fe9-96aa-634231e96e25');\n",
       "var x = new MutationObserver(function (mutations, observer) {{\n",
       "        var display = window.getComputedStyle(gd).display;\n",
       "        if (!display || display === 'none') {{\n",
       "            console.log([gd, 'removed!']);\n",
       "            Plotly.purge(gd);\n",
       "            observer.disconnect();\n",
       "        }}\n",
       "}});\n",
       "\n",
       "// Listen for the removal of the full notebook cells\n",
       "var notebookContainer = gd.closest('#notebook-container');\n",
       "if (notebookContainer) {{\n",
       "    x.observe(notebookContainer, {childList: true});\n",
       "}}\n",
       "\n",
       "// Listen for the clearing of the current output cell\n",
       "var outputEl = gd.closest('.output');\n",
       "if (outputEl) {{\n",
       "    x.observe(outputEl, {childList: true});\n",
       "}}\n",
       "\n",
       "                        })                };                });            </script>        </div>"
      ]
     },
     "metadata": {},
     "output_type": "display_data"
    }
   ],
   "source": [
    "# Run Hybrid Probabilstic MOEA/D\n",
    "max_func_evals = 5000\n",
    "\n",
    "evolver_opt = HybMOEAD_v3(problem, use_surrogates=True, n_gen_per_iter=10, total_function_evaluations=max_func_evals)\n",
    "while evolver_opt.continue_evolution():\n",
    "        evolver_opt.iterate()\n",
    "        print(\"FE count:\",evolver_opt._function_evaluation_count)\n",
    "objectives = evolver_opt.population.objectives\n",
    "fig1 = go.Figure(data=go.Scatter3d(x=objectives[:,0],y=objectives[:,1],z=objectives[:,2], mode=\"markers\"))\n",
    "fig1"
   ]
  },
  {
   "cell_type": "code",
   "execution_count": null,
   "metadata": {},
   "outputs": [],
   "source": [
    "# Run Probabilstic MOEA/D\n",
    "max_func_evals = 140\n",
    "\n",
    "evolver_opt = ProbMOEAD(problem, use_surrogates=True, n_gen_per_iter=10, total_function_evaluations=max_func_evals)\n",
    "while evolver_opt.continue_evolution():\n",
    "        evolver_opt.iterate()\n",
    "        print(\"FE count:\",evolver_opt._function_evaluation_count)"
   ]
  },
  {
   "cell_type": "code",
   "execution_count": null,
   "metadata": {},
   "outputs": [],
   "source": [
    "# Run Hybrid Probabilstic MOEA/D\n",
    "max_func_evals = 400\n",
    "evolver_opt = HybMOEAD(problem, use_surrogates=True, n_gen_per_iter=10, total_function_evaluations=max_func_evals)\n",
    "while evolver_opt.continue_evolution():\n",
    "        evolver_opt.iterate()\n",
    "        print(\"FE count:\",evolver_opt._function_evaluation_count)"
   ]
  },
  {
   "cell_type": "code",
   "execution_count": null,
   "metadata": {},
   "outputs": [],
   "source": []
  }
 ],
 "metadata": {
  "kernelspec": {
   "display_name": "Python 3.8.10 ('desdeo_emo_new')",
   "language": "python",
   "name": "python3"
  },
  "language_info": {
   "codemirror_mode": {
    "name": "ipython",
    "version": 3
   },
   "file_extension": ".py",
   "mimetype": "text/x-python",
   "name": "python",
   "nbconvert_exporter": "python",
   "pygments_lexer": "ipython3",
   "version": "3.8.10"
  },
  "orig_nbformat": 2,
  "vscode": {
   "interpreter": {
    "hash": "4da7749cffb86a848521fd7ddf5f26a4f522833cb3f6af966ea1a063b63e5d70"
   }
  }
 },
 "nbformat": 4,
 "nbformat_minor": 2
}
